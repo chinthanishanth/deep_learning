{
  "nbformat": 4,
  "nbformat_minor": 0,
  "metadata": {
    "colab": {
      "name": "0214_MPNeuronAndPerceptron.ipynb",
      "provenance": [],
      "collapsed_sections": [
        "fT9sC0UKb12E",
        "HsV1gX3Ge-WC",
        "nNPjMZiwvwp6"
      ]
    },
    "kernelspec": {
      "name": "python3",
      "display_name": "Python 3"
    }
  },
  "cells": [
    {
      "cell_type": "code",
      "metadata": {
        "id": "Y62le--iNQ_g",
        "colab_type": "code",
        "colab": {}
      },
      "source": [
        "import sklearn.datasets\n",
        "import numpy as np"
      ],
      "execution_count": 0,
      "outputs": []
    },
    {
      "cell_type": "markdown",
      "metadata": {
        "id": "AYxDp-YaUEEC",
        "colab_type": "text"
      },
      "source": [
        "# Loading dataset"
      ]
    },
    {
      "cell_type": "code",
      "metadata": {
        "id": "ClBCeOpjPvw3",
        "colab_type": "code",
        "colab": {}
      },
      "source": [
        "breast_cancer = sklearn.datasets.load_breast_cancer()"
      ],
      "execution_count": 0,
      "outputs": []
    },
    {
      "cell_type": "code",
      "metadata": {
        "id": "vKGZCnP7P68V",
        "colab_type": "code",
        "colab": {}
      },
      "source": [
        "X = breast_cancer.data\n",
        "Y = breast_cancer.target"
      ],
      "execution_count": 0,
      "outputs": []
    },
    {
      "cell_type": "code",
      "metadata": {
        "id": "9SMigpY8QCv5",
        "colab_type": "code",
        "outputId": "cf69a7c0-8f92-4bc1-e240-c5b4686287c5",
        "colab": {
          "base_uri": "https://localhost:8080/",
          "height": 0
        }
      },
      "source": [
        "print(X)\n",
        "print(Y)"
      ],
      "execution_count": 4,
      "outputs": [
        {
          "output_type": "stream",
          "text": [
            "[[1.799e+01 1.038e+01 1.228e+02 ... 2.654e-01 4.601e-01 1.189e-01]\n",
            " [2.057e+01 1.777e+01 1.329e+02 ... 1.860e-01 2.750e-01 8.902e-02]\n",
            " [1.969e+01 2.125e+01 1.300e+02 ... 2.430e-01 3.613e-01 8.758e-02]\n",
            " ...\n",
            " [1.660e+01 2.808e+01 1.083e+02 ... 1.418e-01 2.218e-01 7.820e-02]\n",
            " [2.060e+01 2.933e+01 1.401e+02 ... 2.650e-01 4.087e-01 1.240e-01]\n",
            " [7.760e+00 2.454e+01 4.792e+01 ... 0.000e+00 2.871e-01 7.039e-02]]\n",
            "[0 0 0 0 0 0 0 0 0 0 0 0 0 0 0 0 0 0 0 1 1 1 0 0 0 0 0 0 0 0 0 0 0 0 0 0 0\n",
            " 1 0 0 0 0 0 0 0 0 1 0 1 1 1 1 1 0 0 1 0 0 1 1 1 1 0 1 0 0 1 1 1 1 0 1 0 0\n",
            " 1 0 1 0 0 1 1 1 0 0 1 0 0 0 1 1 1 0 1 1 0 0 1 1 1 0 0 1 1 1 1 0 1 1 0 1 1\n",
            " 1 1 1 1 1 1 0 0 0 1 0 0 1 1 1 0 0 1 0 1 0 0 1 0 0 1 1 0 1 1 0 1 1 1 1 0 1\n",
            " 1 1 1 1 1 1 1 1 0 1 1 1 1 0 0 1 0 1 1 0 0 1 1 0 0 1 1 1 1 0 1 1 0 0 0 1 0\n",
            " 1 0 1 1 1 0 1 1 0 0 1 0 0 0 0 1 0 0 0 1 0 1 0 1 1 0 1 0 0 0 0 1 1 0 0 1 1\n",
            " 1 0 1 1 1 1 1 0 0 1 1 0 1 1 0 0 1 0 1 1 1 1 0 1 1 1 1 1 0 1 0 0 0 0 0 0 0\n",
            " 0 0 0 0 0 0 0 1 1 1 1 1 1 0 1 0 1 1 0 1 1 0 1 0 0 1 1 1 1 1 1 1 1 1 1 1 1\n",
            " 1 0 1 1 0 1 0 1 1 1 1 1 1 1 1 1 1 1 1 1 1 0 1 1 1 0 1 0 1 1 1 1 0 0 0 1 1\n",
            " 1 1 0 1 0 1 0 1 1 1 0 1 1 1 1 1 1 1 0 0 0 1 1 1 1 1 1 1 1 1 1 1 0 0 1 0 0\n",
            " 0 1 0 0 1 1 1 1 1 0 1 1 1 1 1 0 1 1 1 0 1 1 0 0 1 1 1 1 1 1 0 1 1 1 1 1 1\n",
            " 1 0 1 1 1 1 1 0 1 1 0 1 1 1 1 1 1 1 1 1 1 1 1 0 1 0 0 1 0 1 1 1 1 1 0 1 1\n",
            " 0 1 0 1 1 0 1 0 1 1 1 1 1 1 1 1 0 0 1 1 1 1 1 1 0 1 1 1 1 1 1 1 1 1 1 0 1\n",
            " 1 1 1 1 1 1 0 1 0 1 1 0 1 1 1 1 1 0 0 1 0 1 0 1 1 1 1 1 0 1 1 0 1 0 1 0 0\n",
            " 1 1 1 0 1 1 1 1 1 1 1 1 1 1 1 0 1 0 0 1 1 1 1 1 1 1 1 1 1 1 1 1 1 1 1 1 1\n",
            " 1 1 1 1 1 1 1 0 0 0 0 0 0 1]\n"
          ],
          "name": "stdout"
        }
      ]
    },
    {
      "cell_type": "code",
      "metadata": {
        "id": "3iCYauzdQGdh",
        "colab_type": "code",
        "outputId": "5ab8ffa5-286c-4d22-87c4-cbdac3871b2b",
        "colab": {
          "base_uri": "https://localhost:8080/",
          "height": 0
        }
      },
      "source": [
        "print(X.shape, Y.shape)"
      ],
      "execution_count": 5,
      "outputs": [
        {
          "output_type": "stream",
          "text": [
            "(569, 30) (569,)\n"
          ],
          "name": "stdout"
        }
      ]
    },
    {
      "cell_type": "code",
      "metadata": {
        "id": "hCq2K5Z_QLv5",
        "colab_type": "code",
        "colab": {}
      },
      "source": [
        "import pandas as pd"
      ],
      "execution_count": 0,
      "outputs": []
    },
    {
      "cell_type": "code",
      "metadata": {
        "id": "uqtmARD9QS_R",
        "colab_type": "code",
        "colab": {}
      },
      "source": [
        "data = pd.DataFrame(breast_cancer.data, columns=breast_cancer.feature_names)"
      ],
      "execution_count": 0,
      "outputs": []
    },
    {
      "cell_type": "code",
      "metadata": {
        "id": "uoDddCZWQZvL",
        "colab_type": "code",
        "colab": {}
      },
      "source": [
        "data['class'] = breast_cancer.target"
      ],
      "execution_count": 0,
      "outputs": []
    },
    {
      "cell_type": "code",
      "metadata": {
        "id": "o0rmnx3LQfUY",
        "colab_type": "code",
        "outputId": "2457dc4c-6832-4490-9004-87375a0438a9",
        "colab": {
          "base_uri": "https://localhost:8080/",
          "height": 0
        }
      },
      "source": [
        "data.head()"
      ],
      "execution_count": 9,
      "outputs": [
        {
          "output_type": "execute_result",
          "data": {
            "text/html": [
              "<div>\n",
              "<style scoped>\n",
              "    .dataframe tbody tr th:only-of-type {\n",
              "        vertical-align: middle;\n",
              "    }\n",
              "\n",
              "    .dataframe tbody tr th {\n",
              "        vertical-align: top;\n",
              "    }\n",
              "\n",
              "    .dataframe thead th {\n",
              "        text-align: right;\n",
              "    }\n",
              "</style>\n",
              "<table border=\"1\" class=\"dataframe\">\n",
              "  <thead>\n",
              "    <tr style=\"text-align: right;\">\n",
              "      <th></th>\n",
              "      <th>mean radius</th>\n",
              "      <th>mean texture</th>\n",
              "      <th>mean perimeter</th>\n",
              "      <th>mean area</th>\n",
              "      <th>mean smoothness</th>\n",
              "      <th>mean compactness</th>\n",
              "      <th>mean concavity</th>\n",
              "      <th>mean concave points</th>\n",
              "      <th>mean symmetry</th>\n",
              "      <th>mean fractal dimension</th>\n",
              "      <th>radius error</th>\n",
              "      <th>texture error</th>\n",
              "      <th>perimeter error</th>\n",
              "      <th>area error</th>\n",
              "      <th>smoothness error</th>\n",
              "      <th>compactness error</th>\n",
              "      <th>concavity error</th>\n",
              "      <th>concave points error</th>\n",
              "      <th>symmetry error</th>\n",
              "      <th>fractal dimension error</th>\n",
              "      <th>worst radius</th>\n",
              "      <th>worst texture</th>\n",
              "      <th>worst perimeter</th>\n",
              "      <th>worst area</th>\n",
              "      <th>worst smoothness</th>\n",
              "      <th>worst compactness</th>\n",
              "      <th>worst concavity</th>\n",
              "      <th>worst concave points</th>\n",
              "      <th>worst symmetry</th>\n",
              "      <th>worst fractal dimension</th>\n",
              "      <th>class</th>\n",
              "    </tr>\n",
              "  </thead>\n",
              "  <tbody>\n",
              "    <tr>\n",
              "      <th>0</th>\n",
              "      <td>17.99</td>\n",
              "      <td>10.38</td>\n",
              "      <td>122.80</td>\n",
              "      <td>1001.0</td>\n",
              "      <td>0.11840</td>\n",
              "      <td>0.27760</td>\n",
              "      <td>0.3001</td>\n",
              "      <td>0.14710</td>\n",
              "      <td>0.2419</td>\n",
              "      <td>0.07871</td>\n",
              "      <td>1.0950</td>\n",
              "      <td>0.9053</td>\n",
              "      <td>8.589</td>\n",
              "      <td>153.40</td>\n",
              "      <td>0.006399</td>\n",
              "      <td>0.04904</td>\n",
              "      <td>0.05373</td>\n",
              "      <td>0.01587</td>\n",
              "      <td>0.03003</td>\n",
              "      <td>0.006193</td>\n",
              "      <td>25.38</td>\n",
              "      <td>17.33</td>\n",
              "      <td>184.60</td>\n",
              "      <td>2019.0</td>\n",
              "      <td>0.1622</td>\n",
              "      <td>0.6656</td>\n",
              "      <td>0.7119</td>\n",
              "      <td>0.2654</td>\n",
              "      <td>0.4601</td>\n",
              "      <td>0.11890</td>\n",
              "      <td>0</td>\n",
              "    </tr>\n",
              "    <tr>\n",
              "      <th>1</th>\n",
              "      <td>20.57</td>\n",
              "      <td>17.77</td>\n",
              "      <td>132.90</td>\n",
              "      <td>1326.0</td>\n",
              "      <td>0.08474</td>\n",
              "      <td>0.07864</td>\n",
              "      <td>0.0869</td>\n",
              "      <td>0.07017</td>\n",
              "      <td>0.1812</td>\n",
              "      <td>0.05667</td>\n",
              "      <td>0.5435</td>\n",
              "      <td>0.7339</td>\n",
              "      <td>3.398</td>\n",
              "      <td>74.08</td>\n",
              "      <td>0.005225</td>\n",
              "      <td>0.01308</td>\n",
              "      <td>0.01860</td>\n",
              "      <td>0.01340</td>\n",
              "      <td>0.01389</td>\n",
              "      <td>0.003532</td>\n",
              "      <td>24.99</td>\n",
              "      <td>23.41</td>\n",
              "      <td>158.80</td>\n",
              "      <td>1956.0</td>\n",
              "      <td>0.1238</td>\n",
              "      <td>0.1866</td>\n",
              "      <td>0.2416</td>\n",
              "      <td>0.1860</td>\n",
              "      <td>0.2750</td>\n",
              "      <td>0.08902</td>\n",
              "      <td>0</td>\n",
              "    </tr>\n",
              "    <tr>\n",
              "      <th>2</th>\n",
              "      <td>19.69</td>\n",
              "      <td>21.25</td>\n",
              "      <td>130.00</td>\n",
              "      <td>1203.0</td>\n",
              "      <td>0.10960</td>\n",
              "      <td>0.15990</td>\n",
              "      <td>0.1974</td>\n",
              "      <td>0.12790</td>\n",
              "      <td>0.2069</td>\n",
              "      <td>0.05999</td>\n",
              "      <td>0.7456</td>\n",
              "      <td>0.7869</td>\n",
              "      <td>4.585</td>\n",
              "      <td>94.03</td>\n",
              "      <td>0.006150</td>\n",
              "      <td>0.04006</td>\n",
              "      <td>0.03832</td>\n",
              "      <td>0.02058</td>\n",
              "      <td>0.02250</td>\n",
              "      <td>0.004571</td>\n",
              "      <td>23.57</td>\n",
              "      <td>25.53</td>\n",
              "      <td>152.50</td>\n",
              "      <td>1709.0</td>\n",
              "      <td>0.1444</td>\n",
              "      <td>0.4245</td>\n",
              "      <td>0.4504</td>\n",
              "      <td>0.2430</td>\n",
              "      <td>0.3613</td>\n",
              "      <td>0.08758</td>\n",
              "      <td>0</td>\n",
              "    </tr>\n",
              "    <tr>\n",
              "      <th>3</th>\n",
              "      <td>11.42</td>\n",
              "      <td>20.38</td>\n",
              "      <td>77.58</td>\n",
              "      <td>386.1</td>\n",
              "      <td>0.14250</td>\n",
              "      <td>0.28390</td>\n",
              "      <td>0.2414</td>\n",
              "      <td>0.10520</td>\n",
              "      <td>0.2597</td>\n",
              "      <td>0.09744</td>\n",
              "      <td>0.4956</td>\n",
              "      <td>1.1560</td>\n",
              "      <td>3.445</td>\n",
              "      <td>27.23</td>\n",
              "      <td>0.009110</td>\n",
              "      <td>0.07458</td>\n",
              "      <td>0.05661</td>\n",
              "      <td>0.01867</td>\n",
              "      <td>0.05963</td>\n",
              "      <td>0.009208</td>\n",
              "      <td>14.91</td>\n",
              "      <td>26.50</td>\n",
              "      <td>98.87</td>\n",
              "      <td>567.7</td>\n",
              "      <td>0.2098</td>\n",
              "      <td>0.8663</td>\n",
              "      <td>0.6869</td>\n",
              "      <td>0.2575</td>\n",
              "      <td>0.6638</td>\n",
              "      <td>0.17300</td>\n",
              "      <td>0</td>\n",
              "    </tr>\n",
              "    <tr>\n",
              "      <th>4</th>\n",
              "      <td>20.29</td>\n",
              "      <td>14.34</td>\n",
              "      <td>135.10</td>\n",
              "      <td>1297.0</td>\n",
              "      <td>0.10030</td>\n",
              "      <td>0.13280</td>\n",
              "      <td>0.1980</td>\n",
              "      <td>0.10430</td>\n",
              "      <td>0.1809</td>\n",
              "      <td>0.05883</td>\n",
              "      <td>0.7572</td>\n",
              "      <td>0.7813</td>\n",
              "      <td>5.438</td>\n",
              "      <td>94.44</td>\n",
              "      <td>0.011490</td>\n",
              "      <td>0.02461</td>\n",
              "      <td>0.05688</td>\n",
              "      <td>0.01885</td>\n",
              "      <td>0.01756</td>\n",
              "      <td>0.005115</td>\n",
              "      <td>22.54</td>\n",
              "      <td>16.67</td>\n",
              "      <td>152.20</td>\n",
              "      <td>1575.0</td>\n",
              "      <td>0.1374</td>\n",
              "      <td>0.2050</td>\n",
              "      <td>0.4000</td>\n",
              "      <td>0.1625</td>\n",
              "      <td>0.2364</td>\n",
              "      <td>0.07678</td>\n",
              "      <td>0</td>\n",
              "    </tr>\n",
              "  </tbody>\n",
              "</table>\n",
              "</div>"
            ],
            "text/plain": [
              "   mean radius  mean texture  ...  worst fractal dimension  class\n",
              "0        17.99         10.38  ...                  0.11890      0\n",
              "1        20.57         17.77  ...                  0.08902      0\n",
              "2        19.69         21.25  ...                  0.08758      0\n",
              "3        11.42         20.38  ...                  0.17300      0\n",
              "4        20.29         14.34  ...                  0.07678      0\n",
              "\n",
              "[5 rows x 31 columns]"
            ]
          },
          "metadata": {
            "tags": []
          },
          "execution_count": 9
        }
      ]
    },
    {
      "cell_type": "code",
      "metadata": {
        "id": "FV7of9G6QhRB",
        "colab_type": "code",
        "outputId": "23466ce9-49cb-4a0c-9061-5ae1c9a79e49",
        "colab": {
          "base_uri": "https://localhost:8080/",
          "height": 0
        }
      },
      "source": [
        "data.describe()"
      ],
      "execution_count": 10,
      "outputs": [
        {
          "output_type": "execute_result",
          "data": {
            "text/html": [
              "<div>\n",
              "<style scoped>\n",
              "    .dataframe tbody tr th:only-of-type {\n",
              "        vertical-align: middle;\n",
              "    }\n",
              "\n",
              "    .dataframe tbody tr th {\n",
              "        vertical-align: top;\n",
              "    }\n",
              "\n",
              "    .dataframe thead th {\n",
              "        text-align: right;\n",
              "    }\n",
              "</style>\n",
              "<table border=\"1\" class=\"dataframe\">\n",
              "  <thead>\n",
              "    <tr style=\"text-align: right;\">\n",
              "      <th></th>\n",
              "      <th>mean radius</th>\n",
              "      <th>mean texture</th>\n",
              "      <th>mean perimeter</th>\n",
              "      <th>mean area</th>\n",
              "      <th>mean smoothness</th>\n",
              "      <th>mean compactness</th>\n",
              "      <th>mean concavity</th>\n",
              "      <th>mean concave points</th>\n",
              "      <th>mean symmetry</th>\n",
              "      <th>mean fractal dimension</th>\n",
              "      <th>radius error</th>\n",
              "      <th>texture error</th>\n",
              "      <th>perimeter error</th>\n",
              "      <th>area error</th>\n",
              "      <th>smoothness error</th>\n",
              "      <th>compactness error</th>\n",
              "      <th>concavity error</th>\n",
              "      <th>concave points error</th>\n",
              "      <th>symmetry error</th>\n",
              "      <th>fractal dimension error</th>\n",
              "      <th>worst radius</th>\n",
              "      <th>worst texture</th>\n",
              "      <th>worst perimeter</th>\n",
              "      <th>worst area</th>\n",
              "      <th>worst smoothness</th>\n",
              "      <th>worst compactness</th>\n",
              "      <th>worst concavity</th>\n",
              "      <th>worst concave points</th>\n",
              "      <th>worst symmetry</th>\n",
              "      <th>worst fractal dimension</th>\n",
              "      <th>class</th>\n",
              "    </tr>\n",
              "  </thead>\n",
              "  <tbody>\n",
              "    <tr>\n",
              "      <th>count</th>\n",
              "      <td>569.000000</td>\n",
              "      <td>569.000000</td>\n",
              "      <td>569.000000</td>\n",
              "      <td>569.000000</td>\n",
              "      <td>569.000000</td>\n",
              "      <td>569.000000</td>\n",
              "      <td>569.000000</td>\n",
              "      <td>569.000000</td>\n",
              "      <td>569.000000</td>\n",
              "      <td>569.000000</td>\n",
              "      <td>569.000000</td>\n",
              "      <td>569.000000</td>\n",
              "      <td>569.000000</td>\n",
              "      <td>569.000000</td>\n",
              "      <td>569.000000</td>\n",
              "      <td>569.000000</td>\n",
              "      <td>569.000000</td>\n",
              "      <td>569.000000</td>\n",
              "      <td>569.000000</td>\n",
              "      <td>569.000000</td>\n",
              "      <td>569.000000</td>\n",
              "      <td>569.000000</td>\n",
              "      <td>569.000000</td>\n",
              "      <td>569.000000</td>\n",
              "      <td>569.000000</td>\n",
              "      <td>569.000000</td>\n",
              "      <td>569.000000</td>\n",
              "      <td>569.000000</td>\n",
              "      <td>569.000000</td>\n",
              "      <td>569.000000</td>\n",
              "      <td>569.000000</td>\n",
              "    </tr>\n",
              "    <tr>\n",
              "      <th>mean</th>\n",
              "      <td>14.127292</td>\n",
              "      <td>19.289649</td>\n",
              "      <td>91.969033</td>\n",
              "      <td>654.889104</td>\n",
              "      <td>0.096360</td>\n",
              "      <td>0.104341</td>\n",
              "      <td>0.088799</td>\n",
              "      <td>0.048919</td>\n",
              "      <td>0.181162</td>\n",
              "      <td>0.062798</td>\n",
              "      <td>0.405172</td>\n",
              "      <td>1.216853</td>\n",
              "      <td>2.866059</td>\n",
              "      <td>40.337079</td>\n",
              "      <td>0.007041</td>\n",
              "      <td>0.025478</td>\n",
              "      <td>0.031894</td>\n",
              "      <td>0.011796</td>\n",
              "      <td>0.020542</td>\n",
              "      <td>0.003795</td>\n",
              "      <td>16.269190</td>\n",
              "      <td>25.677223</td>\n",
              "      <td>107.261213</td>\n",
              "      <td>880.583128</td>\n",
              "      <td>0.132369</td>\n",
              "      <td>0.254265</td>\n",
              "      <td>0.272188</td>\n",
              "      <td>0.114606</td>\n",
              "      <td>0.290076</td>\n",
              "      <td>0.083946</td>\n",
              "      <td>0.627417</td>\n",
              "    </tr>\n",
              "    <tr>\n",
              "      <th>std</th>\n",
              "      <td>3.524049</td>\n",
              "      <td>4.301036</td>\n",
              "      <td>24.298981</td>\n",
              "      <td>351.914129</td>\n",
              "      <td>0.014064</td>\n",
              "      <td>0.052813</td>\n",
              "      <td>0.079720</td>\n",
              "      <td>0.038803</td>\n",
              "      <td>0.027414</td>\n",
              "      <td>0.007060</td>\n",
              "      <td>0.277313</td>\n",
              "      <td>0.551648</td>\n",
              "      <td>2.021855</td>\n",
              "      <td>45.491006</td>\n",
              "      <td>0.003003</td>\n",
              "      <td>0.017908</td>\n",
              "      <td>0.030186</td>\n",
              "      <td>0.006170</td>\n",
              "      <td>0.008266</td>\n",
              "      <td>0.002646</td>\n",
              "      <td>4.833242</td>\n",
              "      <td>6.146258</td>\n",
              "      <td>33.602542</td>\n",
              "      <td>569.356993</td>\n",
              "      <td>0.022832</td>\n",
              "      <td>0.157336</td>\n",
              "      <td>0.208624</td>\n",
              "      <td>0.065732</td>\n",
              "      <td>0.061867</td>\n",
              "      <td>0.018061</td>\n",
              "      <td>0.483918</td>\n",
              "    </tr>\n",
              "    <tr>\n",
              "      <th>min</th>\n",
              "      <td>6.981000</td>\n",
              "      <td>9.710000</td>\n",
              "      <td>43.790000</td>\n",
              "      <td>143.500000</td>\n",
              "      <td>0.052630</td>\n",
              "      <td>0.019380</td>\n",
              "      <td>0.000000</td>\n",
              "      <td>0.000000</td>\n",
              "      <td>0.106000</td>\n",
              "      <td>0.049960</td>\n",
              "      <td>0.111500</td>\n",
              "      <td>0.360200</td>\n",
              "      <td>0.757000</td>\n",
              "      <td>6.802000</td>\n",
              "      <td>0.001713</td>\n",
              "      <td>0.002252</td>\n",
              "      <td>0.000000</td>\n",
              "      <td>0.000000</td>\n",
              "      <td>0.007882</td>\n",
              "      <td>0.000895</td>\n",
              "      <td>7.930000</td>\n",
              "      <td>12.020000</td>\n",
              "      <td>50.410000</td>\n",
              "      <td>185.200000</td>\n",
              "      <td>0.071170</td>\n",
              "      <td>0.027290</td>\n",
              "      <td>0.000000</td>\n",
              "      <td>0.000000</td>\n",
              "      <td>0.156500</td>\n",
              "      <td>0.055040</td>\n",
              "      <td>0.000000</td>\n",
              "    </tr>\n",
              "    <tr>\n",
              "      <th>25%</th>\n",
              "      <td>11.700000</td>\n",
              "      <td>16.170000</td>\n",
              "      <td>75.170000</td>\n",
              "      <td>420.300000</td>\n",
              "      <td>0.086370</td>\n",
              "      <td>0.064920</td>\n",
              "      <td>0.029560</td>\n",
              "      <td>0.020310</td>\n",
              "      <td>0.161900</td>\n",
              "      <td>0.057700</td>\n",
              "      <td>0.232400</td>\n",
              "      <td>0.833900</td>\n",
              "      <td>1.606000</td>\n",
              "      <td>17.850000</td>\n",
              "      <td>0.005169</td>\n",
              "      <td>0.013080</td>\n",
              "      <td>0.015090</td>\n",
              "      <td>0.007638</td>\n",
              "      <td>0.015160</td>\n",
              "      <td>0.002248</td>\n",
              "      <td>13.010000</td>\n",
              "      <td>21.080000</td>\n",
              "      <td>84.110000</td>\n",
              "      <td>515.300000</td>\n",
              "      <td>0.116600</td>\n",
              "      <td>0.147200</td>\n",
              "      <td>0.114500</td>\n",
              "      <td>0.064930</td>\n",
              "      <td>0.250400</td>\n",
              "      <td>0.071460</td>\n",
              "      <td>0.000000</td>\n",
              "    </tr>\n",
              "    <tr>\n",
              "      <th>50%</th>\n",
              "      <td>13.370000</td>\n",
              "      <td>18.840000</td>\n",
              "      <td>86.240000</td>\n",
              "      <td>551.100000</td>\n",
              "      <td>0.095870</td>\n",
              "      <td>0.092630</td>\n",
              "      <td>0.061540</td>\n",
              "      <td>0.033500</td>\n",
              "      <td>0.179200</td>\n",
              "      <td>0.061540</td>\n",
              "      <td>0.324200</td>\n",
              "      <td>1.108000</td>\n",
              "      <td>2.287000</td>\n",
              "      <td>24.530000</td>\n",
              "      <td>0.006380</td>\n",
              "      <td>0.020450</td>\n",
              "      <td>0.025890</td>\n",
              "      <td>0.010930</td>\n",
              "      <td>0.018730</td>\n",
              "      <td>0.003187</td>\n",
              "      <td>14.970000</td>\n",
              "      <td>25.410000</td>\n",
              "      <td>97.660000</td>\n",
              "      <td>686.500000</td>\n",
              "      <td>0.131300</td>\n",
              "      <td>0.211900</td>\n",
              "      <td>0.226700</td>\n",
              "      <td>0.099930</td>\n",
              "      <td>0.282200</td>\n",
              "      <td>0.080040</td>\n",
              "      <td>1.000000</td>\n",
              "    </tr>\n",
              "    <tr>\n",
              "      <th>75%</th>\n",
              "      <td>15.780000</td>\n",
              "      <td>21.800000</td>\n",
              "      <td>104.100000</td>\n",
              "      <td>782.700000</td>\n",
              "      <td>0.105300</td>\n",
              "      <td>0.130400</td>\n",
              "      <td>0.130700</td>\n",
              "      <td>0.074000</td>\n",
              "      <td>0.195700</td>\n",
              "      <td>0.066120</td>\n",
              "      <td>0.478900</td>\n",
              "      <td>1.474000</td>\n",
              "      <td>3.357000</td>\n",
              "      <td>45.190000</td>\n",
              "      <td>0.008146</td>\n",
              "      <td>0.032450</td>\n",
              "      <td>0.042050</td>\n",
              "      <td>0.014710</td>\n",
              "      <td>0.023480</td>\n",
              "      <td>0.004558</td>\n",
              "      <td>18.790000</td>\n",
              "      <td>29.720000</td>\n",
              "      <td>125.400000</td>\n",
              "      <td>1084.000000</td>\n",
              "      <td>0.146000</td>\n",
              "      <td>0.339100</td>\n",
              "      <td>0.382900</td>\n",
              "      <td>0.161400</td>\n",
              "      <td>0.317900</td>\n",
              "      <td>0.092080</td>\n",
              "      <td>1.000000</td>\n",
              "    </tr>\n",
              "    <tr>\n",
              "      <th>max</th>\n",
              "      <td>28.110000</td>\n",
              "      <td>39.280000</td>\n",
              "      <td>188.500000</td>\n",
              "      <td>2501.000000</td>\n",
              "      <td>0.163400</td>\n",
              "      <td>0.345400</td>\n",
              "      <td>0.426800</td>\n",
              "      <td>0.201200</td>\n",
              "      <td>0.304000</td>\n",
              "      <td>0.097440</td>\n",
              "      <td>2.873000</td>\n",
              "      <td>4.885000</td>\n",
              "      <td>21.980000</td>\n",
              "      <td>542.200000</td>\n",
              "      <td>0.031130</td>\n",
              "      <td>0.135400</td>\n",
              "      <td>0.396000</td>\n",
              "      <td>0.052790</td>\n",
              "      <td>0.078950</td>\n",
              "      <td>0.029840</td>\n",
              "      <td>36.040000</td>\n",
              "      <td>49.540000</td>\n",
              "      <td>251.200000</td>\n",
              "      <td>4254.000000</td>\n",
              "      <td>0.222600</td>\n",
              "      <td>1.058000</td>\n",
              "      <td>1.252000</td>\n",
              "      <td>0.291000</td>\n",
              "      <td>0.663800</td>\n",
              "      <td>0.207500</td>\n",
              "      <td>1.000000</td>\n",
              "    </tr>\n",
              "  </tbody>\n",
              "</table>\n",
              "</div>"
            ],
            "text/plain": [
              "       mean radius  mean texture  ...  worst fractal dimension       class\n",
              "count   569.000000    569.000000  ...               569.000000  569.000000\n",
              "mean     14.127292     19.289649  ...                 0.083946    0.627417\n",
              "std       3.524049      4.301036  ...                 0.018061    0.483918\n",
              "min       6.981000      9.710000  ...                 0.055040    0.000000\n",
              "25%      11.700000     16.170000  ...                 0.071460    0.000000\n",
              "50%      13.370000     18.840000  ...                 0.080040    1.000000\n",
              "75%      15.780000     21.800000  ...                 0.092080    1.000000\n",
              "max      28.110000     39.280000  ...                 0.207500    1.000000\n",
              "\n",
              "[8 rows x 31 columns]"
            ]
          },
          "metadata": {
            "tags": []
          },
          "execution_count": 10
        }
      ]
    },
    {
      "cell_type": "code",
      "metadata": {
        "id": "w-jZOBG6QqyG",
        "colab_type": "code",
        "outputId": "fc084778-0efc-4250-d419-2a989e300c69",
        "colab": {
          "base_uri": "https://localhost:8080/",
          "height": 0
        }
      },
      "source": [
        "print(data['class'].value_counts())"
      ],
      "execution_count": 11,
      "outputs": [
        {
          "output_type": "stream",
          "text": [
            "1    357\n",
            "0    212\n",
            "Name: class, dtype: int64\n"
          ],
          "name": "stdout"
        }
      ]
    },
    {
      "cell_type": "code",
      "metadata": {
        "id": "0bhbds5iQz7p",
        "colab_type": "code",
        "outputId": "7433d308-8b58-4250-ca2c-53606027023b",
        "colab": {
          "base_uri": "https://localhost:8080/",
          "height": 0
        }
      },
      "source": [
        "print(breast_cancer.target_names)"
      ],
      "execution_count": 12,
      "outputs": [
        {
          "output_type": "stream",
          "text": [
            "['malignant' 'benign']\n"
          ],
          "name": "stdout"
        }
      ]
    },
    {
      "cell_type": "code",
      "metadata": {
        "id": "Nvgmi3LeQ47D",
        "colab_type": "code",
        "outputId": "3a13c3e9-ee71-43a2-c6b1-eb4b5a5975a4",
        "colab": {
          "base_uri": "https://localhost:8080/",
          "height": 0
        }
      },
      "source": [
        "data.groupby('class').mean()"
      ],
      "execution_count": 13,
      "outputs": [
        {
          "output_type": "execute_result",
          "data": {
            "text/html": [
              "<div>\n",
              "<style scoped>\n",
              "    .dataframe tbody tr th:only-of-type {\n",
              "        vertical-align: middle;\n",
              "    }\n",
              "\n",
              "    .dataframe tbody tr th {\n",
              "        vertical-align: top;\n",
              "    }\n",
              "\n",
              "    .dataframe thead th {\n",
              "        text-align: right;\n",
              "    }\n",
              "</style>\n",
              "<table border=\"1\" class=\"dataframe\">\n",
              "  <thead>\n",
              "    <tr style=\"text-align: right;\">\n",
              "      <th></th>\n",
              "      <th>mean radius</th>\n",
              "      <th>mean texture</th>\n",
              "      <th>mean perimeter</th>\n",
              "      <th>mean area</th>\n",
              "      <th>mean smoothness</th>\n",
              "      <th>mean compactness</th>\n",
              "      <th>mean concavity</th>\n",
              "      <th>mean concave points</th>\n",
              "      <th>mean symmetry</th>\n",
              "      <th>mean fractal dimension</th>\n",
              "      <th>radius error</th>\n",
              "      <th>texture error</th>\n",
              "      <th>perimeter error</th>\n",
              "      <th>area error</th>\n",
              "      <th>smoothness error</th>\n",
              "      <th>compactness error</th>\n",
              "      <th>concavity error</th>\n",
              "      <th>concave points error</th>\n",
              "      <th>symmetry error</th>\n",
              "      <th>fractal dimension error</th>\n",
              "      <th>worst radius</th>\n",
              "      <th>worst texture</th>\n",
              "      <th>worst perimeter</th>\n",
              "      <th>worst area</th>\n",
              "      <th>worst smoothness</th>\n",
              "      <th>worst compactness</th>\n",
              "      <th>worst concavity</th>\n",
              "      <th>worst concave points</th>\n",
              "      <th>worst symmetry</th>\n",
              "      <th>worst fractal dimension</th>\n",
              "    </tr>\n",
              "    <tr>\n",
              "      <th>class</th>\n",
              "      <th></th>\n",
              "      <th></th>\n",
              "      <th></th>\n",
              "      <th></th>\n",
              "      <th></th>\n",
              "      <th></th>\n",
              "      <th></th>\n",
              "      <th></th>\n",
              "      <th></th>\n",
              "      <th></th>\n",
              "      <th></th>\n",
              "      <th></th>\n",
              "      <th></th>\n",
              "      <th></th>\n",
              "      <th></th>\n",
              "      <th></th>\n",
              "      <th></th>\n",
              "      <th></th>\n",
              "      <th></th>\n",
              "      <th></th>\n",
              "      <th></th>\n",
              "      <th></th>\n",
              "      <th></th>\n",
              "      <th></th>\n",
              "      <th></th>\n",
              "      <th></th>\n",
              "      <th></th>\n",
              "      <th></th>\n",
              "      <th></th>\n",
              "      <th></th>\n",
              "    </tr>\n",
              "  </thead>\n",
              "  <tbody>\n",
              "    <tr>\n",
              "      <th>0</th>\n",
              "      <td>17.462830</td>\n",
              "      <td>21.604906</td>\n",
              "      <td>115.365377</td>\n",
              "      <td>978.376415</td>\n",
              "      <td>0.102898</td>\n",
              "      <td>0.145188</td>\n",
              "      <td>0.160775</td>\n",
              "      <td>0.087990</td>\n",
              "      <td>0.192909</td>\n",
              "      <td>0.062680</td>\n",
              "      <td>0.609083</td>\n",
              "      <td>1.210915</td>\n",
              "      <td>4.323929</td>\n",
              "      <td>72.672406</td>\n",
              "      <td>0.006780</td>\n",
              "      <td>0.032281</td>\n",
              "      <td>0.041824</td>\n",
              "      <td>0.015060</td>\n",
              "      <td>0.020472</td>\n",
              "      <td>0.004062</td>\n",
              "      <td>21.134811</td>\n",
              "      <td>29.318208</td>\n",
              "      <td>141.370330</td>\n",
              "      <td>1422.286321</td>\n",
              "      <td>0.144845</td>\n",
              "      <td>0.374824</td>\n",
              "      <td>0.450606</td>\n",
              "      <td>0.182237</td>\n",
              "      <td>0.323468</td>\n",
              "      <td>0.091530</td>\n",
              "    </tr>\n",
              "    <tr>\n",
              "      <th>1</th>\n",
              "      <td>12.146524</td>\n",
              "      <td>17.914762</td>\n",
              "      <td>78.075406</td>\n",
              "      <td>462.790196</td>\n",
              "      <td>0.092478</td>\n",
              "      <td>0.080085</td>\n",
              "      <td>0.046058</td>\n",
              "      <td>0.025717</td>\n",
              "      <td>0.174186</td>\n",
              "      <td>0.062867</td>\n",
              "      <td>0.284082</td>\n",
              "      <td>1.220380</td>\n",
              "      <td>2.000321</td>\n",
              "      <td>21.135148</td>\n",
              "      <td>0.007196</td>\n",
              "      <td>0.021438</td>\n",
              "      <td>0.025997</td>\n",
              "      <td>0.009858</td>\n",
              "      <td>0.020584</td>\n",
              "      <td>0.003636</td>\n",
              "      <td>13.379801</td>\n",
              "      <td>23.515070</td>\n",
              "      <td>87.005938</td>\n",
              "      <td>558.899440</td>\n",
              "      <td>0.124959</td>\n",
              "      <td>0.182673</td>\n",
              "      <td>0.166238</td>\n",
              "      <td>0.074444</td>\n",
              "      <td>0.270246</td>\n",
              "      <td>0.079442</td>\n",
              "    </tr>\n",
              "  </tbody>\n",
              "</table>\n",
              "</div>"
            ],
            "text/plain": [
              "       mean radius  mean texture  ...  worst symmetry  worst fractal dimension\n",
              "class                             ...                                         \n",
              "0        17.462830     21.604906  ...        0.323468                 0.091530\n",
              "1        12.146524     17.914762  ...        0.270246                 0.079442\n",
              "\n",
              "[2 rows x 30 columns]"
            ]
          },
          "metadata": {
            "tags": []
          },
          "execution_count": 13
        }
      ]
    },
    {
      "cell_type": "markdown",
      "metadata": {
        "id": "TQOa8tuKWmEx",
        "colab_type": "text"
      },
      "source": [
        "# Train test split"
      ]
    },
    {
      "cell_type": "code",
      "metadata": {
        "id": "7OOt-sSaWnVZ",
        "colab_type": "code",
        "colab": {}
      },
      "source": [
        "from sklearn.model_selection import train_test_split"
      ],
      "execution_count": 0,
      "outputs": []
    },
    {
      "cell_type": "code",
      "metadata": {
        "id": "b4MW2HlzXLQe",
        "colab_type": "code",
        "colab": {}
      },
      "source": [
        "X = data.drop('class', axis=1)\n",
        "Y = data['class']"
      ],
      "execution_count": 0,
      "outputs": []
    },
    {
      "cell_type": "code",
      "metadata": {
        "id": "gDrEsZiMXXEs",
        "colab_type": "code",
        "outputId": "c9e25592-9e1f-4a74-8054-219910353287",
        "colab": {
          "base_uri": "https://localhost:8080/",
          "height": 0
        }
      },
      "source": [
        "type(X)"
      ],
      "execution_count": 16,
      "outputs": [
        {
          "output_type": "execute_result",
          "data": {
            "text/plain": [
              "pandas.core.frame.DataFrame"
            ]
          },
          "metadata": {
            "tags": []
          },
          "execution_count": 16
        }
      ]
    },
    {
      "cell_type": "code",
      "metadata": {
        "id": "rLY0MMINXXyl",
        "colab_type": "code",
        "colab": {}
      },
      "source": [
        "X_train, X_test, Y_train, Y_test = train_test_split(X, Y)"
      ],
      "execution_count": 0,
      "outputs": []
    },
    {
      "cell_type": "code",
      "metadata": {
        "id": "K3mRpxH2XfNC",
        "colab_type": "code",
        "outputId": "792145fb-3e3b-4a03-ba47-1ca634a3e139",
        "colab": {
          "base_uri": "https://localhost:8080/",
          "height": 0
        }
      },
      "source": [
        "print(Y.shape, Y_train.shape, Y_test.shape)"
      ],
      "execution_count": 18,
      "outputs": [
        {
          "output_type": "stream",
          "text": [
            "(569,) (426,) (143,)\n"
          ],
          "name": "stdout"
        }
      ]
    },
    {
      "cell_type": "code",
      "metadata": {
        "id": "IaVrRpmTXiso",
        "colab_type": "code",
        "colab": {}
      },
      "source": [
        "X_train, X_test, Y_train, Y_test = train_test_split(X, Y, test_size=0.1)"
      ],
      "execution_count": 0,
      "outputs": []
    },
    {
      "cell_type": "code",
      "metadata": {
        "id": "f4Obcq42XwSF",
        "colab_type": "code",
        "outputId": "3478a8ec-99b1-4241-d505-245663006c41",
        "colab": {
          "base_uri": "https://localhost:8080/",
          "height": 0
        }
      },
      "source": [
        "print(Y.mean(), Y_train.mean(), Y_test.mean())"
      ],
      "execution_count": 20,
      "outputs": [
        {
          "output_type": "stream",
          "text": [
            "0.6274165202108963 0.623046875 0.6666666666666666\n"
          ],
          "name": "stdout"
        }
      ]
    },
    {
      "cell_type": "code",
      "metadata": {
        "id": "aCzE4vW1X9DI",
        "colab_type": "code",
        "colab": {}
      },
      "source": [
        "X_train, X_test, Y_train, Y_test = train_test_split(X, Y, test_size=0.1, stratify = Y)"
      ],
      "execution_count": 0,
      "outputs": []
    },
    {
      "cell_type": "code",
      "metadata": {
        "id": "G6S8TEOKYMAp",
        "colab_type": "code",
        "outputId": "f83b45dc-e6ed-4ca4-ef97-ce8f119edfb4",
        "colab": {
          "base_uri": "https://localhost:8080/",
          "height": 0
        }
      },
      "source": [
        "print(X_train.mean(), X_test.mean(), X.mean())"
      ],
      "execution_count": 22,
      "outputs": [
        {
          "output_type": "stream",
          "text": [
            "mean radius                 14.117041\n",
            "mean texture                19.271895\n",
            "mean perimeter              91.897305\n",
            "mean area                  651.794141\n",
            "mean smoothness              0.096242\n",
            "mean compactness             0.104643\n",
            "mean concavity               0.088951\n",
            "mean concave points          0.048746\n",
            "mean symmetry                0.181846\n",
            "mean fractal dimension       0.062832\n",
            "radius error                 0.401541\n",
            "texture error                1.217593\n",
            "perimeter error              2.830701\n",
            "area error                  39.392107\n",
            "smoothness error             0.007042\n",
            "compactness error            0.025880\n",
            "concavity error              0.032303\n",
            "concave points error         0.011822\n",
            "symmetry error               0.020797\n",
            "fractal dimension error      0.003848\n",
            "worst radius                16.224904\n",
            "worst texture               25.637031\n",
            "worst perimeter            106.900508\n",
            "worst area                 870.983008\n",
            "worst smoothness             0.132121\n",
            "worst compactness            0.255792\n",
            "worst concavity              0.273297\n",
            "worst concave points         0.114160\n",
            "worst symmetry               0.291315\n",
            "worst fractal dimension      0.084059\n",
            "dtype: float64 mean radius                 14.219368\n",
            "mean texture                19.449123\n",
            "mean perimeter              92.613333\n",
            "mean area                  682.689474\n",
            "mean smoothness              0.097424\n",
            "mean compactness             0.101627\n",
            "mean concavity               0.087436\n",
            "mean concave points          0.050473\n",
            "mean symmetry                0.175014\n",
            "mean fractal dimension       0.062484\n",
            "radius error                 0.437786\n",
            "texture error                1.210212\n",
            "perimeter error              3.183667\n",
            "area error                  48.825246\n",
            "smoothness error             0.007035\n",
            "compactness error            0.021867\n",
            "concavity error              0.028222\n",
            "concave points error         0.011567\n",
            "symmetry error               0.018258\n",
            "fractal dimension error      0.003321\n",
            "worst radius                16.666982\n",
            "worst texture               26.038246\n",
            "worst perimeter            110.501228\n",
            "worst area                 966.815789\n",
            "worst smoothness             0.134594\n",
            "worst compactness            0.240550\n",
            "worst concavity              0.262235\n",
            "worst concave points         0.118615\n",
            "worst symmetry               0.278946\n",
            "worst fractal dimension      0.082932\n",
            "dtype: float64 mean radius                 14.127292\n",
            "mean texture                19.289649\n",
            "mean perimeter              91.969033\n",
            "mean area                  654.889104\n",
            "mean smoothness              0.096360\n",
            "mean compactness             0.104341\n",
            "mean concavity               0.088799\n",
            "mean concave points          0.048919\n",
            "mean symmetry                0.181162\n",
            "mean fractal dimension       0.062798\n",
            "radius error                 0.405172\n",
            "texture error                1.216853\n",
            "perimeter error              2.866059\n",
            "area error                  40.337079\n",
            "smoothness error             0.007041\n",
            "compactness error            0.025478\n",
            "concavity error              0.031894\n",
            "concave points error         0.011796\n",
            "symmetry error               0.020542\n",
            "fractal dimension error      0.003795\n",
            "worst radius                16.269190\n",
            "worst texture               25.677223\n",
            "worst perimeter            107.261213\n",
            "worst area                 880.583128\n",
            "worst smoothness             0.132369\n",
            "worst compactness            0.254265\n",
            "worst concavity              0.272188\n",
            "worst concave points         0.114606\n",
            "worst symmetry               0.290076\n",
            "worst fractal dimension      0.083946\n",
            "dtype: float64\n"
          ],
          "name": "stdout"
        }
      ]
    },
    {
      "cell_type": "code",
      "metadata": {
        "id": "-2a4ILm0YWTe",
        "colab_type": "code",
        "colab": {}
      },
      "source": [
        "X_train, X_test, Y_train, Y_test = train_test_split(X, Y, test_size=0.1, stratify = Y, random_state=1)"
      ],
      "execution_count": 0,
      "outputs": []
    },
    {
      "cell_type": "code",
      "metadata": {
        "id": "7KHMCeo6Y4sL",
        "colab_type": "code",
        "outputId": "55209e4d-d82e-4e50-e9a3-a5264258c715",
        "colab": {
          "base_uri": "https://localhost:8080/",
          "height": 0
        }
      },
      "source": [
        "print(X_train.mean(), X_test.mean(), X.mean())"
      ],
      "execution_count": 24,
      "outputs": [
        {
          "output_type": "stream",
          "text": [
            "mean radius                 14.058656\n",
            "mean texture                19.309668\n",
            "mean perimeter              91.530488\n",
            "mean area                  648.097266\n",
            "mean smoothness              0.096568\n",
            "mean compactness             0.105144\n",
            "mean concavity               0.089342\n",
            "mean concave points          0.048892\n",
            "mean symmetry                0.181961\n",
            "mean fractal dimension       0.062979\n",
            "radius error                 0.403659\n",
            "texture error                1.206856\n",
            "perimeter error              2.861173\n",
            "area error                  39.935506\n",
            "smoothness error             0.007067\n",
            "compactness error            0.025681\n",
            "concavity error              0.032328\n",
            "concave points error         0.011963\n",
            "symmetry error               0.020584\n",
            "fractal dimension error      0.003815\n",
            "worst radius                16.194275\n",
            "worst texture               25.644902\n",
            "worst perimeter            106.757715\n",
            "worst area                 871.647852\n",
            "worst smoothness             0.132592\n",
            "worst compactness            0.257415\n",
            "worst concavity              0.275623\n",
            "worst concave points         0.115454\n",
            "worst symmetry               0.291562\n",
            "worst fractal dimension      0.084402\n",
            "dtype: float64 mean radius                 14.743807\n",
            "mean texture                19.109825\n",
            "mean perimeter              95.908246\n",
            "mean area                  715.896491\n",
            "mean smoothness              0.094496\n",
            "mean compactness             0.097130\n",
            "mean concavity               0.083923\n",
            "mean concave points          0.049159\n",
            "mean symmetry                0.173981\n",
            "mean fractal dimension       0.061169\n",
            "radius error                 0.418767\n",
            "texture error                1.306656\n",
            "perimeter error              2.909946\n",
            "area error                  43.944193\n",
            "smoothness error             0.006809\n",
            "compactness error            0.023659\n",
            "concavity error              0.027989\n",
            "concave points error         0.010293\n",
            "symmetry error               0.020169\n",
            "fractal dimension error      0.003618\n",
            "worst radius                16.942105\n",
            "worst texture               25.967544\n",
            "worst perimeter            111.783860\n",
            "worst area                 960.843860\n",
            "worst smoothness             0.130357\n",
            "worst compactness            0.225973\n",
            "worst concavity              0.241340\n",
            "worst concave points         0.106994\n",
            "worst symmetry               0.276719\n",
            "worst fractal dimension      0.079852\n",
            "dtype: float64 mean radius                 14.127292\n",
            "mean texture                19.289649\n",
            "mean perimeter              91.969033\n",
            "mean area                  654.889104\n",
            "mean smoothness              0.096360\n",
            "mean compactness             0.104341\n",
            "mean concavity               0.088799\n",
            "mean concave points          0.048919\n",
            "mean symmetry                0.181162\n",
            "mean fractal dimension       0.062798\n",
            "radius error                 0.405172\n",
            "texture error                1.216853\n",
            "perimeter error              2.866059\n",
            "area error                  40.337079\n",
            "smoothness error             0.007041\n",
            "compactness error            0.025478\n",
            "concavity error              0.031894\n",
            "concave points error         0.011796\n",
            "symmetry error               0.020542\n",
            "fractal dimension error      0.003795\n",
            "worst radius                16.269190\n",
            "worst texture               25.677223\n",
            "worst perimeter            107.261213\n",
            "worst area                 880.583128\n",
            "worst smoothness             0.132369\n",
            "worst compactness            0.254265\n",
            "worst concavity              0.272188\n",
            "worst concave points         0.114606\n",
            "worst symmetry               0.290076\n",
            "worst fractal dimension      0.083946\n",
            "dtype: float64\n"
          ],
          "name": "stdout"
        }
      ]
    },
    {
      "cell_type": "markdown",
      "metadata": {
        "id": "fT9sC0UKb12E",
        "colab_type": "text"
      },
      "source": [
        "# Binarisation of input"
      ]
    },
    {
      "cell_type": "code",
      "metadata": {
        "id": "845LI9BPcuHG",
        "colab_type": "code",
        "colab": {}
      },
      "source": [
        "import matplotlib.pyplot as plt"
      ],
      "execution_count": 0,
      "outputs": []
    },
    {
      "cell_type": "code",
      "metadata": {
        "id": "72YS45uZdX0D",
        "colab_type": "code",
        "outputId": "50f80078-f574-470f-b4b2-fdcf887a1bee",
        "colab": {
          "base_uri": "https://localhost:8080/",
          "height": 374
        }
      },
      "source": [
        "plt.plot(X_test.T, '*')\n",
        "plt.xticks(rotation='vertical')\n",
        "plt.show()"
      ],
      "execution_count": 26,
      "outputs": [
        {
          "output_type": "display_data",
          "data": {
            "image/png": "[encoded data removed]",
            "text/plain": [
              "<Figure size 432x288 with 1 Axes>"
            ]
          },
          "metadata": {
            "tags": [],
            "needs_background": "light"
          }
        }
      ]
    },
    {
      "cell_type": "code",
      "metadata": {
        "id": "JXoaxoUzdZ-u",
        "colab_type": "code",
        "colab": {}
      },
      "source": [
        "X_binarised_3_train = X_train['mean area'].map(lambda x: 0 if x < 1000 else 1)"
      ],
      "execution_count": 0,
      "outputs": []
    },
    {
      "cell_type": "code",
      "metadata": {
        "id": "A7W6c9o8d3Qd",
        "colab_type": "code",
        "outputId": "0552cca9-fa9a-4b1f-fdd9-2737310e2aae",
        "colab": {
          "base_uri": "https://localhost:8080/",
          "height": 282
        }
      },
      "source": [
        "plt.plot(X_binarised_3_train, '*')"
      ],
      "execution_count": 28,
      "outputs": [
        {
          "output_type": "execute_result",
          "data": {
            "text/plain": [
              "[<matplotlib.lines.Line2D at 0x7f66310a71d0>]"
            ]
          },
          "metadata": {
            "tags": []
          },
          "execution_count": 28
        },
        {
          "output_type": "display_data",
          "data": {
            "image/png": "[encoded data removed]",
            "text/plain": [
              "<Figure size 432x288 with 1 Axes>"
            ]
          },
          "metadata": {
            "tags": [],
            "needs_background": "light"
          }
        }
      ]
    },
    {
      "cell_type": "code",
      "metadata": {
        "id": "8a3Dh5Gnd8bG",
        "colab_type": "code",
        "colab": {}
      },
      "source": [
        "X_binarised_train = X_train.apply(pd.cut, bins=2, labels=[1,0])"
      ],
      "execution_count": 0,
      "outputs": []
    },
    {
      "cell_type": "code",
      "metadata": {
        "id": "KQY7ICWweNxt",
        "colab_type": "code",
        "outputId": "cbabb2c4-03a0-48c3-c605-045799478778",
        "colab": {
          "base_uri": "https://localhost:8080/",
          "height": 374
        }
      },
      "source": [
        "plt.plot(X_binarised_train.T, '*')\n",
        "plt.xticks(rotation='vertical')\n",
        "plt.show()"
      ],
      "execution_count": 30,
      "outputs": [
        {
          "output_type": "display_data",
          "data": {
            "image/png": "[encoded data removed]",
            "text/plain": [
              "<Figure size 432x288 with 1 Axes>"
            ]
          },
          "metadata": {
            "tags": [],
            "needs_background": "light"
          }
        }
      ]
    },
    {
      "cell_type": "code",
      "metadata": {
        "id": "bGxvIRV9eRrh",
        "colab_type": "code",
        "colab": {}
      },
      "source": [
        "X_binarised_test = X_test.apply(pd.cut, bins=2, labels=[1,0])"
      ],
      "execution_count": 0,
      "outputs": []
    },
    {
      "cell_type": "code",
      "metadata": {
        "id": "gJsquRBFeZJS",
        "colab_type": "code",
        "outputId": "df9afb59-1bef-430b-eef7-4edd28117832",
        "colab": {
          "base_uri": "https://localhost:8080/",
          "height": 34
        }
      },
      "source": [
        "type(X_binarised_test)"
      ],
      "execution_count": 33,
      "outputs": [
        {
          "output_type": "execute_result",
          "data": {
            "text/plain": [
              "pandas.core.frame.DataFrame"
            ]
          },
          "metadata": {
            "tags": []
          },
          "execution_count": 33
        }
      ]
    },
    {
      "cell_type": "code",
      "metadata": {
        "id": "sVBP3O2ueabj",
        "colab_type": "code",
        "colab": {}
      },
      "source": [
        "X_binarised_test = X_binarised_test.values\n",
        "X_binarised_train = X_binarised_train.values"
      ],
      "execution_count": 0,
      "outputs": []
    },
    {
      "cell_type": "code",
      "metadata": {
        "id": "8zfwovfzeiBm",
        "colab_type": "code",
        "outputId": "eae2a7d0-aac1-4d84-c0a1-94ccaeefa4de",
        "colab": {
          "base_uri": "https://localhost:8080/",
          "height": 34
        }
      },
      "source": [
        "type(X_binarised_test)"
      ],
      "execution_count": 35,
      "outputs": [
        {
          "output_type": "execute_result",
          "data": {
            "text/plain": [
              "numpy.ndarray"
            ]
          },
          "metadata": {
            "tags": []
          },
          "execution_count": 35
        }
      ]
    },
    {
      "cell_type": "markdown",
      "metadata": {
        "id": "HsV1gX3Ge-WC",
        "colab_type": "text"
      },
      "source": [
        "# MP neuron model"
      ]
    },
    {
      "cell_type": "code",
      "metadata": {
        "id": "s5GH3kqQpULG",
        "colab_type": "code",
        "colab": {}
      },
      "source": [
        "from random import randint"
      ],
      "execution_count": 0,
      "outputs": []
    },
    {
      "cell_type": "code",
      "metadata": {
        "id": "JoOBEPiDoh5A",
        "colab_type": "code",
        "colab": {}
      },
      "source": [
        "b = 3\n",
        "\n",
        "i = randint(0, X_binarised_train.shape[0])\n",
        "\n",
        "print('For row', i)\n",
        "\n",
        "if (np.sum(X_binarised_train[100, :]) >= b):\n",
        "  print('MP Neuron inference is malignant')\n",
        "else:\n",
        "  print('MP Neuron inference is benign')\n",
        "  \n",
        "if (Y_train[i] == 1):\n",
        "  print('Ground truth is malignant')\n",
        "else:\n",
        "  print('Ground truth is benign')"
      ],
      "execution_count": 0,
      "outputs": []
    },
    {
      "cell_type": "code",
      "metadata": {
        "id": "oSWdQAVFpJB9",
        "colab_type": "code",
        "colab": {}
      },
      "source": [
        "b = 3\n",
        "\n",
        "Y_pred_train = []\n",
        "accurate_rows = 0\n",
        "\n",
        "for x, y in zip(X_binarised_train, Y_train):\n",
        "  y_pred = (np.sum(x) >= b)\n",
        "  Y_pred_train.append(y_pred)\n",
        "  accurate_rows += (y == y_pred)\n",
        "  \n",
        "print(accurate_rows, accurate_rows/X_binarised_train.shape[0])\n",
        "  "
      ],
      "execution_count": 0,
      "outputs": []
    },
    {
      "cell_type": "code",
      "metadata": {
        "id": "wWdjFjC4qCmu",
        "colab_type": "code",
        "colab": {}
      },
      "source": [
        "for b in range(X_binarised_train.shape[1] + 1):\n",
        "  Y_pred_train = []\n",
        "  accurate_rows = 0\n",
        "\n",
        "  for x, y in zip(X_binarised_train, Y_train):\n",
        "    y_pred = (np.sum(x) >= b)\n",
        "    Y_pred_train.append(y_pred)\n",
        "    accurate_rows += (y == y_pred)\n",
        "\n",
        "  print(b, accurate_rows/X_binarised_train.shape[0])  "
      ],
      "execution_count": 0,
      "outputs": []
    },
    {
      "cell_type": "code",
      "metadata": {
        "id": "_S7f6ypzuufw",
        "colab_type": "code",
        "colab": {}
      },
      "source": [
        "from sklearn.metrics import accuracy_score"
      ],
      "execution_count": 0,
      "outputs": []
    },
    {
      "cell_type": "code",
      "metadata": {
        "id": "sra9X-duuUVV",
        "colab_type": "code",
        "colab": {}
      },
      "source": [
        "b = 28\n",
        "\n",
        "Y_pred_test = []\n",
        "\n",
        "for x in X_binarised_test:\n",
        "  y_pred = (np.sum(x) >= b)\n",
        "  Y_pred_test.append(y_pred)\n",
        "\n",
        "accuracy = accuracy_score(Y_pred_test, Y_test)\n",
        "\n",
        "print(b, accuracy)  "
      ],
      "execution_count": 0,
      "outputs": []
    },
    {
      "cell_type": "markdown",
      "metadata": {
        "id": "nNPjMZiwvwp6",
        "colab_type": "text"
      },
      "source": [
        "# MP Neuron Class"
      ]
    },
    {
      "cell_type": "code",
      "metadata": {
        "id": "nmqsH4TKu6YA",
        "colab_type": "code",
        "colab": {}
      },
      "source": [
        "from sklearn.metrics import accuracy_score\n",
        "\n",
        "class MPNeuron:\n",
        "  \n",
        "  def __init__(self):\n",
        "    self.b = None\n",
        "    \n",
        "  def model(self, x):\n",
        "    return(sum(x) >= self.b)\n",
        "  \n",
        "  def predict(self, X):\n",
        "    Y = []\n",
        "    for x in X:\n",
        "      result = self.model(x)\n",
        "      Y.append(result)\n",
        "    return np.array(Y)\n",
        "  \n",
        "  def fit(self, X, Y):\n",
        "    accuracy = {}\n",
        "    \n",
        "    for b in range(X.shape[1] + 1):\n",
        "      self.b = b\n",
        "      Y_pred = self.predict(X)\n",
        "      accuracy[b] = accuracy_score(Y_pred, Y)\n",
        "      \n",
        "    best_b = max(accuracy, key = accuracy.get)\n",
        "    self.b = best_b\n",
        "    \n",
        "    print('Optimal value of b is', best_b)\n",
        "    print('Highest accuracy is', accuracy[best_b])"
      ],
      "execution_count": 0,
      "outputs": []
    },
    {
      "cell_type": "code",
      "metadata": {
        "id": "FSBMAb9iw8Gg",
        "colab_type": "code",
        "colab": {}
      },
      "source": [
        "mp_neuron = MPNeuron()\n",
        "mp_neuron.fit(X_binarised_train, Y_train)"
      ],
      "execution_count": 0,
      "outputs": []
    },
    {
      "cell_type": "code",
      "metadata": {
        "id": "DLbCuv4XxB5a",
        "colab_type": "code",
        "colab": {}
      },
      "source": [
        "Y_test_pred = mp_neuron.predict(X_binarised_test)\n",
        "accuracy_test = accuracy_score(Y_test_pred, Y_test)"
      ],
      "execution_count": 0,
      "outputs": []
    },
    {
      "cell_type": "code",
      "metadata": {
        "id": "v5xRz_UTxPer",
        "colab_type": "code",
        "colab": {}
      },
      "source": [
        "print(accuracy_test)"
      ],
      "execution_count": 0,
      "outputs": []
    },
    {
      "cell_type": "markdown",
      "metadata": {
        "id": "OdMOCKAvs4JO",
        "colab_type": "text"
      },
      "source": [
        "# Perceptron Class"
      ]
    },
    {
      "cell_type": "code",
      "metadata": {
        "id": "zpMzDt5fwtcE",
        "colab_type": "code",
        "colab": {}
      },
      "source": [
        "X_train = X_train.values\n",
        "X_test = X_test.values"
      ],
      "execution_count": 0,
      "outputs": []
    },
    {
      "cell_type": "markdown",
      "metadata": {
        "id": "Qd_HKoKnu66i",
        "colab_type": "text"
      },
      "source": [
        "$y = 1, \\mbox{if} \\sum_i w_i x_i >= b$\n",
        "\n",
        "$y =  0, \\mbox{otherwise}$"
      ]
    },
    {
      "cell_type": "code",
      "metadata": {
        "id": "rG0tKLsUxQ9b",
        "colab_type": "code",
        "colab": {}
      },
      "source": [
        "from sklearn.metrics import accuracy_score\n",
        "class Perceptron:\n",
        "  \n",
        "  def __init__ (self):\n",
        "    self.w = None\n",
        "    self.b = None\n",
        "    \n",
        "  def model(self, x):\n",
        "    return 1 if (np.dot(self.w, x) >= self.b) else 0\n",
        "    \n",
        "  def predict(self, X):\n",
        "    Y = []\n",
        "    for x in X:\n",
        "      result = self.model(x)\n",
        "      Y.append(result)\n",
        "    return np.array(Y)\n",
        "    \n",
        "  def fit(self, X, Y, epochs = 1, lr = 1):\n",
        "    \n",
        "    self.w = np.ones(X.shape[1])\n",
        "    self.b = 0\n",
        "    \n",
        "    accuracy = {}\n",
        "    max_accuracy = 0\n",
        "    \n",
        "    wt_matrix = []\n",
        "    \n",
        "    for i in range(epochs):\n",
        "      for x, y in zip(X, Y):\n",
        "        y_pred = self.model(x)\n",
        "        if y == 1 and y_pred == 0:\n",
        "          self.w = self.w + lr * x\n",
        "          self.b = self.b - lr * 1\n",
        "        elif y == 0 and y_pred == 1:\n",
        "          self.w = self.w - lr * x\n",
        "          self.b = self.b + lr * 1\n",
        "          \n",
        "      wt_matrix.append(self.w)    \n",
        "          \n",
        "      accuracy[i] = accuracy_score(self.predict(X), Y)\n",
        "      if (accuracy[i] > max_accuracy):\n",
        "        max_accuracy = accuracy[i]\n",
        "        chkptw = self.w\n",
        "        chkptb = self.b\n",
        "        \n",
        "    self.w = chkptw\n",
        "    self.b = chkptb\n",
        "        \n",
        "    print(max_accuracy)\n",
        "    print(list(accuracy.values()))\n",
        "    plt.plot(list(accuracy.values()))\n",
        "    \n",
        "    plt.ylim([0, 1])\n",
        "    plt.show()\n",
        "    \n",
        "    return np.array(wt_matrix)"
      ],
      "execution_count": 0,
      "outputs": []
    },
    {
      "cell_type": "code",
      "metadata": {
        "id": "rYc6A9E2wrns",
        "colab_type": "code",
        "colab": {}
      },
      "source": [
        "perceptron = Perceptron()"
      ],
      "execution_count": 0,
      "outputs": []
    },
    {
      "cell_type": "code",
      "metadata": {
        "id": "R4IcxePAw49U",
        "colab_type": "code",
        "outputId": "9fe224d4-b474-4a02-cbfc-e8cbe30c5445",
        "colab": {
          "base_uri": "https://localhost:8080/",
          "height": 323
        }
      },
      "source": [
        "wt_matrix = perceptron.fit(X_train, Y_train, 1000, 0.5)"
      ],
      "execution_count": 68,
      "outputs": [
        {
          "output_type": "stream",
          "text": [
            "0.935546875\n",
            "[0.373046875, 0.904296875, 0.373046875, 0.9140625, 0.87890625, 0.859375, 0.884765625, 0.876953125, 0.888671875, 0.88671875, 0.90234375, 0.8671875, 0.892578125, 0.89453125, 0.89453125, 0.892578125, 0.892578125, 0.8984375, 0.896484375, 0.904296875, 0.90625, 0.904296875, 0.904296875, 0.904296875, 0.908203125, 0.8984375, 0.8984375, 0.8984375, 0.896484375, 0.8984375, 0.8828125, 0.919921875, 0.8984375, 0.919921875, 0.9140625, 0.91796875, 0.912109375, 0.900390625, 0.919921875, 0.919921875, 0.91796875, 0.8984375, 0.923828125, 0.9140625, 0.91796875, 0.875, 0.916015625, 0.91796875, 0.873046875, 0.91796875, 0.912109375, 0.900390625, 0.9140625, 0.916015625, 0.904296875, 0.88671875, 0.919921875, 0.888671875, 0.908203125, 0.884765625, 0.916015625, 0.904296875, 0.923828125, 0.916015625, 0.888671875, 0.91796875, 0.919921875, 0.916015625, 0.919921875, 0.921875, 0.919921875, 0.927734375, 0.91796875, 0.92578125, 0.919921875, 0.92578125, 0.923828125, 0.869140625, 0.921875, 0.923828125, 0.869140625, 0.921875, 0.921875, 0.91796875, 0.923828125, 0.919921875, 0.92578125, 0.91796875, 0.923828125, 0.91796875, 0.91796875, 0.921875, 0.921875, 0.91796875, 0.923828125, 0.921875, 0.92578125, 0.921875, 0.921875, 0.921875, 0.921875, 0.921875, 0.923828125, 0.92578125, 0.91796875, 0.921875, 0.921875, 0.91796875, 0.921875, 0.921875, 0.921875, 0.921875, 0.921875, 0.921875, 0.921875, 0.921875, 0.921875, 0.921875, 0.921875, 0.921875, 0.921875, 0.921875, 0.921875, 0.921875, 0.921875, 0.921875, 0.921875, 0.921875, 0.921875, 0.921875, 0.921875, 0.923828125, 0.923828125, 0.923828125, 0.921875, 0.923828125, 0.923828125, 0.921875, 0.923828125, 0.923828125, 0.923828125, 0.921875, 0.921875, 0.921875, 0.923828125, 0.921875, 0.923828125, 0.921875, 0.923828125, 0.921875, 0.923828125, 0.921875, 0.921875, 0.919921875, 0.921875, 0.923828125, 0.923828125, 0.923828125, 0.919921875, 0.921875, 0.923828125, 0.919921875, 0.923828125, 0.923828125, 0.919921875, 0.921875, 0.923828125, 0.923828125, 0.923828125, 0.923828125, 0.923828125, 0.921875, 0.923828125, 0.923828125, 0.923828125, 0.923828125, 0.921875, 0.921875, 0.923828125, 0.923828125, 0.923828125, 0.921875, 0.923828125, 0.921875, 0.923828125, 0.92578125, 0.921875, 0.919921875, 0.921875, 0.921875, 0.923828125, 0.923828125, 0.921875, 0.923828125, 0.923828125, 0.921875, 0.921875, 0.923828125, 0.923828125, 0.923828125, 0.92578125, 0.9296875, 0.921875, 0.923828125, 0.91796875, 0.92578125, 0.92578125, 0.921875, 0.923828125, 0.923828125, 0.923828125, 0.921875, 0.923828125, 0.923828125, 0.923828125, 0.923828125, 0.92578125, 0.92578125, 0.923828125, 0.923828125, 0.923828125, 0.923828125, 0.923828125, 0.92578125, 0.927734375, 0.927734375, 0.92578125, 0.92578125, 0.923828125, 0.927734375, 0.92578125, 0.923828125, 0.92578125, 0.923828125, 0.923828125, 0.923828125, 0.923828125, 0.923828125, 0.927734375, 0.919921875, 0.927734375, 0.91796875, 0.923828125, 0.923828125, 0.923828125, 0.92578125, 0.92578125, 0.923828125, 0.92578125, 0.92578125, 0.923828125, 0.923828125, 0.923828125, 0.923828125, 0.923828125, 0.923828125, 0.923828125, 0.923828125, 0.927734375, 0.923828125, 0.923828125, 0.923828125, 0.923828125, 0.923828125, 0.927734375, 0.927734375, 0.923828125, 0.927734375, 0.923828125, 0.927734375, 0.923828125, 0.92578125, 0.927734375, 0.92578125, 0.927734375, 0.92578125, 0.927734375, 0.92578125, 0.923828125, 0.92578125, 0.927734375, 0.927734375, 0.92578125, 0.927734375, 0.927734375, 0.923828125, 0.92578125, 0.92578125, 0.92578125, 0.92578125, 0.92578125, 0.92578125, 0.927734375, 0.927734375, 0.92578125, 0.927734375, 0.927734375, 0.923828125, 0.92578125, 0.92578125, 0.92578125, 0.92578125, 0.92578125, 0.927734375, 0.92578125, 0.927734375, 0.927734375, 0.923828125, 0.92578125, 0.92578125, 0.92578125, 0.92578125, 0.92578125, 0.92578125, 0.92578125, 0.927734375, 0.92578125, 0.927734375, 0.927734375, 0.923828125, 0.923828125, 0.92578125, 0.923828125, 0.92578125, 0.921875, 0.888671875, 0.9296875, 0.92578125, 0.92578125, 0.9296875, 0.927734375, 0.927734375, 0.923828125, 0.92578125, 0.927734375, 0.92578125, 0.9296875, 0.92578125, 0.92578125, 0.927734375, 0.923828125, 0.927734375, 0.9296875, 0.927734375, 0.9296875, 0.9296875, 0.927734375, 0.92578125, 0.927734375, 0.927734375, 0.923828125, 0.927734375, 0.92578125, 0.927734375, 0.92578125, 0.923828125, 0.92578125, 0.923828125, 0.92578125, 0.923828125, 0.92578125, 0.923828125, 0.92578125, 0.927734375, 0.92578125, 0.927734375, 0.931640625, 0.927734375, 0.92578125, 0.9296875, 0.927734375, 0.927734375, 0.9296875, 0.927734375, 0.927734375, 0.884765625, 0.9296875, 0.927734375, 0.890625, 0.923828125, 0.92578125, 0.927734375, 0.92578125, 0.9296875, 0.927734375, 0.927734375, 0.9296875, 0.927734375, 0.927734375, 0.9296875, 0.927734375, 0.927734375, 0.9296875, 0.9296875, 0.927734375, 0.888671875, 0.92578125, 0.923828125, 0.92578125, 0.92578125, 0.92578125, 0.888671875, 0.92578125, 0.92578125, 0.888671875, 0.923828125, 0.888671875, 0.923828125, 0.92578125, 0.92578125, 0.927734375, 0.890625, 0.92578125, 0.888671875, 0.923828125, 0.92578125, 0.888671875, 0.927734375, 0.890625, 0.9296875, 0.9296875, 0.88671875, 0.923828125, 0.92578125, 0.923828125, 0.923828125, 0.9296875, 0.923828125, 0.9296875, 0.923828125, 0.888671875, 0.92578125, 0.9296875, 0.923828125, 0.9296875, 0.923828125, 0.9296875, 0.923828125, 0.888671875, 0.923828125, 0.9296875, 0.923828125, 0.890625, 0.923828125, 0.9296875, 0.923828125, 0.9296875, 0.923828125, 0.9296875, 0.923828125, 0.888671875, 0.923828125, 0.9296875, 0.923828125, 0.92578125, 0.890625, 0.92578125, 0.923828125, 0.92578125, 0.927734375, 0.92578125, 0.927734375, 0.927734375, 0.927734375, 0.92578125, 0.927734375, 0.927734375, 0.9140625, 0.927734375, 0.927734375, 0.927734375, 0.927734375, 0.88671875, 0.92578125, 0.888671875, 0.92578125, 0.890625, 0.92578125, 0.9296875, 0.923828125, 0.9296875, 0.92578125, 0.9296875, 0.92578125, 0.890625, 0.927734375, 0.927734375, 0.927734375, 0.927734375, 0.92578125, 0.890625, 0.92578125, 0.927734375, 0.9296875, 0.890625, 0.923828125, 0.888671875, 0.923828125, 0.923828125, 0.923828125, 0.923828125, 0.890625, 0.92578125, 0.9296875, 0.9296875, 0.927734375, 0.927734375, 0.923828125, 0.890625, 0.923828125, 0.9296875, 0.9296875, 0.927734375, 0.927734375, 0.916015625, 0.92578125, 0.923828125, 0.888671875, 0.923828125, 0.923828125, 0.923828125, 0.890625, 0.923828125, 0.923828125, 0.888671875, 0.888671875, 0.9140625, 0.923828125, 0.92578125, 0.92578125, 0.923828125, 0.92578125, 0.92578125, 0.923828125, 0.890625, 0.92578125, 0.888671875, 0.92578125, 0.888671875, 0.92578125, 0.888671875, 0.92578125, 0.890625, 0.92578125, 0.890625, 0.92578125, 0.92578125, 0.89453125, 0.923828125, 0.888671875, 0.9140625, 0.92578125, 0.92578125, 0.923828125, 0.92578125, 0.92578125, 0.92578125, 0.927734375, 0.896484375, 0.912109375, 0.916015625, 0.92578125, 0.92578125, 0.923828125, 0.92578125, 0.92578125, 0.92578125, 0.92578125, 0.92578125, 0.896484375, 0.912109375, 0.9140625, 0.890625, 0.927734375, 0.927734375, 0.92578125, 0.888671875, 0.92578125, 0.92578125, 0.888671875, 0.927734375, 0.927734375, 0.927734375, 0.896484375, 0.9140625, 0.888671875, 0.927734375, 0.927734375, 0.927734375, 0.927734375, 0.896484375, 0.916015625, 0.9296875, 0.92578125, 0.923828125, 0.890625, 0.92578125, 0.923828125, 0.888671875, 0.9296875, 0.888671875, 0.927734375, 0.927734375, 0.9296875, 0.927734375, 0.89453125, 0.916015625, 0.888671875, 0.9296875, 0.9296875, 0.927734375, 0.927734375, 0.927734375, 0.927734375, 0.890625, 0.927734375, 0.927734375, 0.89453125, 0.916015625, 0.931640625, 0.927734375, 0.927734375, 0.890625, 0.927734375, 0.927734375, 0.931640625, 0.91796875, 0.92578125, 0.92578125, 0.890625, 0.89453125, 0.916015625, 0.927734375, 0.927734375, 0.927734375, 0.927734375, 0.9140625, 0.92578125, 0.927734375, 0.927734375, 0.8984375, 0.92578125, 0.890625, 0.92578125, 0.890625, 0.8984375, 0.9140625, 0.919921875, 0.927734375, 0.927734375, 0.927734375, 0.8984375, 0.9140625, 0.9296875, 0.927734375, 0.927734375, 0.8984375, 0.9140625, 0.9296875, 0.890625, 0.896484375, 0.916015625, 0.931640625, 0.8984375, 0.92578125, 0.900390625, 0.92578125, 0.92578125, 0.900390625, 0.92578125, 0.900390625, 0.92578125, 0.900390625, 0.92578125, 0.927734375, 0.927734375, 0.92578125, 0.92578125, 0.92578125, 0.927734375, 0.92578125, 0.92578125, 0.927734375, 0.927734375, 0.92578125, 0.927734375, 0.927734375, 0.927734375, 0.927734375, 0.927734375, 0.927734375, 0.927734375, 0.927734375, 0.927734375, 0.927734375, 0.927734375, 0.927734375, 0.927734375, 0.890625, 0.92578125, 0.9140625, 0.92578125, 0.92578125, 0.9140625, 0.92578125, 0.927734375, 0.9140625, 0.93359375, 0.93359375, 0.92578125, 0.927734375, 0.892578125, 0.927734375, 0.9296875, 0.900390625, 0.92578125, 0.900390625, 0.92578125, 0.92578125, 0.916015625, 0.92578125, 0.92578125, 0.916015625, 0.92578125, 0.92578125, 0.916015625, 0.92578125, 0.92578125, 0.9140625, 0.92578125, 0.927734375, 0.892578125, 0.900390625, 0.927734375, 0.927734375, 0.9140625, 0.92578125, 0.927734375, 0.9140625, 0.93359375, 0.93359375, 0.92578125, 0.927734375, 0.89453125, 0.927734375, 0.9140625, 0.931640625, 0.93359375, 0.93359375, 0.92578125, 0.927734375, 0.892578125, 0.927734375, 0.9296875, 0.900390625, 0.927734375, 0.900390625, 0.92578125, 0.92578125, 0.916015625, 0.927734375, 0.92578125, 0.9140625, 0.927734375, 0.92578125, 0.9140625, 0.927734375, 0.92578125, 0.9140625, 0.927734375, 0.927734375, 0.9140625, 0.927734375, 0.927734375, 0.9140625, 0.931640625, 0.927734375, 0.9296875, 0.900390625, 0.900390625, 0.927734375, 0.900390625, 0.93359375, 0.93359375, 0.9140625, 0.9296875, 0.927734375, 0.890625, 0.916015625, 0.927734375, 0.900390625, 0.927734375, 0.9296875, 0.892578125, 0.900390625, 0.900390625, 0.927734375, 0.927734375, 0.9296875, 0.927734375, 0.916015625, 0.9296875, 0.900390625, 0.927734375, 0.9140625, 0.927734375, 0.927734375, 0.927734375, 0.9296875, 0.9296875, 0.931640625, 0.89453125, 0.927734375, 0.9140625, 0.927734375, 0.927734375, 0.927734375, 0.931640625, 0.9296875, 0.927734375, 0.9296875, 0.9296875, 0.931640625, 0.916015625, 0.927734375, 0.92578125, 0.916015625, 0.927734375, 0.927734375, 0.916015625, 0.927734375, 0.927734375, 0.9140625, 0.927734375, 0.927734375, 0.927734375, 0.931640625, 0.931640625, 0.9296875, 0.931640625, 0.9296875, 0.890625, 0.927734375, 0.927734375, 0.9296875, 0.916015625, 0.9296875, 0.900390625, 0.900390625, 0.9296875, 0.9296875, 0.931640625, 0.916015625, 0.9296875, 0.900390625, 0.93359375, 0.900390625, 0.900390625, 0.927734375, 0.9140625, 0.93359375, 0.9296875, 0.9140625, 0.9140625, 0.9140625, 0.9140625, 0.9140625, 0.916015625, 0.9296875, 0.916015625, 0.916015625, 0.9296875, 0.916015625, 0.93359375, 0.935546875, 0.931640625, 0.916015625, 0.9296875, 0.900390625, 0.93359375, 0.900390625, 0.900390625, 0.927734375, 0.9140625, 0.9140625, 0.9140625, 0.916015625, 0.9296875, 0.916015625, 0.916015625, 0.9296875, 0.900390625, 0.900390625, 0.900390625, 0.93359375, 0.912109375, 0.93359375, 0.931640625, 0.916015625, 0.9296875, 0.900390625, 0.916015625, 0.9296875, 0.9140625, 0.93359375, 0.900390625, 0.900390625, 0.93359375, 0.9140625, 0.93359375, 0.900390625, 0.900390625, 0.93359375, 0.9140625, 0.93359375, 0.935546875, 0.931640625, 0.916015625, 0.9296875, 0.900390625, 0.900390625, 0.935546875, 0.9140625, 0.91796875, 0.912109375, 0.91796875, 0.912109375, 0.89453125, 0.935546875, 0.900390625, 0.93359375, 0.9140625, 0.93359375, 0.900390625, 0.916015625, 0.9296875, 0.9140625, 0.93359375, 0.935546875, 0.89453125, 0.93359375, 0.912109375, 0.93359375, 0.89453125, 0.916015625, 0.916015625, 0.931640625, 0.93359375, 0.931640625, 0.935546875, 0.931640625, 0.93359375, 0.931640625, 0.9296875, 0.93359375, 0.93359375, 0.93359375, 0.912109375, 0.93359375, 0.93359375, 0.89453125, 0.9140625, 0.916015625, 0.931640625, 0.93359375, 0.89453125, 0.935546875, 0.931640625, 0.93359375, 0.93359375, 0.89453125, 0.935546875, 0.912109375, 0.935546875, 0.89453125, 0.9140625, 0.916015625, 0.931640625, 0.912109375, 0.93359375, 0.89453125, 0.9140625, 0.916015625, 0.93359375, 0.912109375, 0.912109375, 0.912109375, 0.93359375, 0.89453125, 0.935546875, 0.93359375, 0.935546875, 0.93359375, 0.93359375, 0.931640625, 0.9296875, 0.93359375, 0.91015625, 0.935546875, 0.93359375]\n"
          ],
          "name": "stdout"
        },
        {
          "output_type": "display_data",
          "data": {
            "image/png": "[encoded data removed]",
            "text/plain": [
              "<Figure size 432x288 with 1 Axes>"
            ]
          },
          "metadata": {
            "tags": [],
            "needs_background": "light"
          }
        }
      ]
    },
    {
      "cell_type": "code",
      "metadata": {
        "id": "u76oalfOxQWV",
        "colab_type": "code",
        "outputId": "e5b8df4d-d49f-4c4c-f03e-5809d7bdf94d",
        "colab": {
          "base_uri": "https://localhost:8080/",
          "height": 36
        }
      },
      "source": [
        "Y_pred_test = perceptron.predict(X_test)\n",
        "print(accuracy_score(Y_pred_test, Y_test))"
      ],
      "execution_count": 0,
      "outputs": [
        {
          "output_type": "stream",
          "text": [
            "0.9298245614035088\n"
          ],
          "name": "stdout"
        }
      ]
    },
    {
      "cell_type": "code",
      "metadata": {
        "id": "e9abrgoW-GlS",
        "colab_type": "code",
        "outputId": "ebdaec58-949f-4a6a-e861-b29a069a96f3",
        "colab": {
          "base_uri": "https://localhost:8080/",
          "height": 347
        }
      },
      "source": [
        "plt.plot(wt_matrix[-1,:])\n",
        "plt.show()"
      ],
      "execution_count": 0,
      "outputs": [
        {
          "output_type": "display_data",
          "data": {
            "image/png": "[encoded data removed]",
            "text/plain": [
              "<Figure size 576x396 with 1 Axes>"
            ]
          },
          "metadata": {
            "tags": []
          }
        }
      ]
    },
    {
      "cell_type": "code",
      "metadata": {
        "id": "0q6wRNeO-PDc",
        "colab_type": "code",
        "colab": {}
      },
      "source": [
        "%matplotlib inline\n",
        "from matplotlib import animation, rc\n",
        "from IPython.display import HTML"
      ],
      "execution_count": 0,
      "outputs": []
    },
    {
      "cell_type": "code",
      "metadata": {
        "id": "6k8JZKSr-oeK",
        "colab_type": "code",
        "outputId": "78822666-3f7b-4a17-c7e7-2eb602721e16",
        "colab": {
          "base_uri": "https://localhost:8080/",
          "height": 269
        }
      },
      "source": [
        "# First set up the figure, the axis, and the plot element we want to animate\n",
        "fig, ax = plt.subplots()\n",
        "\n",
        "ax.set_xlim(( 0, wt_matrix.shape[1]))\n",
        "ax.set_ylim((-15000, 25000))\n",
        "\n",
        "line, = ax.plot([], [], lw=2)"
      ],
      "execution_count": 0,
      "outputs": [
        {
          "output_type": "display_data",
          "data": {
            "image/png": "[encoded data removed]",
            "text/plain": [
              "<Figure size 432x288 with 1 Axes>"
            ]
          },
          "metadata": {
            "tags": []
          }
        }
      ]
    },
    {
      "cell_type": "code",
      "metadata": {
        "id": "h7-kujHh-uSc",
        "colab_type": "code",
        "colab": {}
      },
      "source": [
        "# animation function. This is called sequentially\n",
        "def animate(i):\n",
        "    x = list(range(wt_matrix.shape[1]))\n",
        "    y = wt_matrix[i, :]\n",
        "    line.set_data(x, y)\n",
        "    return (line,)"
      ],
      "execution_count": 0,
      "outputs": []
    },
    {
      "cell_type": "code",
      "metadata": {
        "id": "kzXVRFJo-xwI",
        "colab_type": "code",
        "colab": {}
      },
      "source": [
        "# call the animator. blit=True means only re-draw the parts that have changed.\n",
        "anim = animation.FuncAnimation(fig, animate, frames=100, interval=200, blit=True)"
      ],
      "execution_count": 0,
      "outputs": []
    },
    {
      "cell_type": "code",
      "metadata": {
        "id": "Rphin0gy-0Dm",
        "colab_type": "code",
        "outputId": "d23d83f1-6d18-437f-a2dd-d67164f9965f",
        "colab": {
          "base_uri": "https://localhost:8080/",
          "height": 308
        }
      },
      "source": [
        "HTML(anim.to_html5_video())"
      ],
      "execution_count": 0,
      "outputs": [
        {
          "output_type": "execute_result",
          "data": {
            "text/html": [
              "<video width=\"432\" height=\"288\" controls autoplay loop>\n",
              "  <source type=\"video/mp4\" src=\"data:video/mp4;base64,AAAAHGZ0eXBNNFYgAAACAGlzb21pc28yYXZjMQAAAAhmcmVlAACK321kYXQAAAKtBgX//6ncRem9\n",
              "5tlIt5Ys2CDZI+7veDI2NCAtIGNvcmUgMTUyIHIyODU0IGU5YTU5MDMgLSBILjI2NC9NUEVHLTQg\n",
              "QVZDIGNvZGVjIC0gQ29weWxlZnQgMjAwMy0yMDE3IC0gaHR0cDovL3d3dy52aWRlb2xhbi5vcmcv\n",
              "eDI2NC5odG1sIC0gb3B0aW9uczogY2FiYWM9MSByZWY9MyBkZWJsb2NrPTE6MDowIGFuYWx5c2U9\n",
              "MHgzOjB4MTEzIG1lPWhleCBzdWJtZT03IHBzeT0xIHBzeV9yZD0xLjAwOjAuMDAgbWl4ZWRfcmVm\n",
              "PTEgbWVfcmFuZ2U9MTYgY2hyb21hX21lPTEgdHJlbGxpcz0xIDh4OGRjdD0xIGNxbT0wIGRlYWR6\n",
              "b25lPTIxLDExIGZhc3RfcHNraXA9MSBjaHJvbWFfcXBfb2Zmc2V0PS0yIHRocmVhZHM9MyBsb29r\n",
              "YWhlYWRfdGhyZWFkcz0xIHNsaWNlZF90aHJlYWRzPTAgbnI9MCBkZWNpbWF0ZT0xIGludGVybGFj\n",
              "ZWQ9MCBibHVyYXlfY29tcGF0PTAgY29uc3RyYWluZWRfaW50cmE9MCBiZnJhbWVzPTMgYl9weXJh\n",
              "bWlkPTIgYl9hZGFwdD0xIGJfYmlhcz0wIGRpcmVjdD0xIHdlaWdodGI9MSBvcGVuX2dvcD0wIHdl\n",
              "aWdodHA9MiBrZXlpbnQ9MjUwIGtleWludF9taW49NSBzY2VuZWN1dD00MCBpbnRyYV9yZWZyZXNo\n",
              "PTAgcmNfbG9va2FoZWFkPTQwIHJjPWNyZiBtYnRyZWU9MSBjcmY9MjMuMCBxY29tcD0wLjYwIHFw\n",
              "bWluPTAgcXBtYXg9NjkgcXBzdGVwPTQgaXBfcmF0aW89MS40MCBhcT0xOjEuMDAAgAAAE9ZliIQA\n",
              "Ev/+963fgU3AQO1rulc4tMurlDQ9UfaUpni2SAAAAwADlGX8N1sLiBj0NKBJvowf3qBVeSAdoAr0\n",
              "+w1zkLQt5DSFGFNFb62W88UwVaTd9YnxXo7E0gk8QwCVGTLvJMo/p32bwHcPWc448ecru0xsDvkU\n",
              "NqrCQUNQaDYn9jfI8glu83w+AMa+bWulIQAAAwGAcL1frfZX7SGDkDyeP4A1T3d5D/KOsxoR5574\n",
              "YrhIClTqXiKfQJ+03Xbf90yNXGgq60vKYsCJVuRr6Dd6I+0Y2MxeyYcj9E+/C/Vzej4iNb0+Yac7\n",
              "A3SFF4pBu5vJyAaRGYDMnZ7lnEaI5PQaxWm4TsoTXG8OQ52Vt4pvXTc028uOf4XMfisQvIFH0/Zl\n",
              "pv3bBb5aOJM18Gdv31Mp4tBnk2I2MC6nsRdrKeAoqtpEPJIkEsKEIC7tgfd2yutOQog1H5L9GWYt\n",
              "esYgaFCVQ1T8D44ZLLmK5QEp/eRL7tAWX9hgRWph2RiMXMwwbM7GNvIPYcTiR3L0qw2Zbk5XWlte\n",
              "UGR8vF4tJERgrtULSMTJXyKviNrVuqWzmCngA20C9dyVKP6/mBNww4f4CAgOY5CKX6Daf0WDawQX\n",
              "giLNMo6U2qbxW2NC2+2d+I1ByRMV/lWBGL55G5HuzCVNb0DuXVFbUa6TdkIBBWy3dq/0S8BD6PkW\n",
              "V/DUptaJejuagtXsoG7obUYrOVymiWZF1k4PIy7apYXda4gyDchQQpMkmArCc9qLdNgcO+FhRSwG\n",
              "MWjkudaRLzD9AiPNIl3/u3V5MSWXhwgoLhSHYN852rxs7z0Pq0HHCRvWPcnvFoxuYp8YNyIhGy5v\n",
              "glwFRUlSYkdjB2exkje0Fwr5hU1+vlEDNxtWJ4EVRiEuKABgYVCcakcGudcIf24xzAPunynVYxhF\n",
              "SHhMnUzKx4RvGAH3UJ1hG0I0G+3LDNdiKDOdN0sLm2YxS/nUlYNYmqBgGq7all06ChWHWCUAd6jY\n",
              "4OoJQKYMzJDHAcc3+E+RAKgog6IWuzgSHVTqm3579O/WxTloXfGEL6dw650/MpaN1uRbV9OHc3xK\n",
              "dxdaUcScGAYZZYs12fgi4OWQWenHrLU08z1+wKUefpZtovwxMAfh9k143glzzSQP1aaXuLAWQ08n\n",
              "urFUshypHnzw1PSrDwWVVkVsXk3wfEBVxGfa3t0R+rXQZVPSXUloLg/PWdstpOT6pQuClLp2PTfl\n",
              "d54NGvsR6HxtCMsZC/NT+av3mXZOt7Y8h3awV24hsLxGoWhOIXiZPMcjpJd3nz1O/kM2TDTZSgbP\n",
              "GvLNT+ZGIpCq7Fg7UBcvDpnIOCDqCjSyvDrZKTmf6nIwltJGI10uBieXmTSisAiOPkDarJiIdlxA\n",
              "pnA/AnAnEHkxqphquElCt8Qn1oTbCxzhqnR3/vz4kpc62QpGotAKjdAVUFn+PUTAbvYrV331GZQP\n",
              "zq0ehe+/644R3sY1t/vA9a7IfkWIkFEjRyO0xSNs1iZ/Ol+PZTCMxEwCy/qCM9L+RwWI/LAE/psl\n",
              "mbRQIwuWibFKTcYCbMWwHTOAVSPR+fzPM5BNOcVdUnf7/v8swP8tANiwsKrLL3Wb9J8tf+/sPiNT\n",
              "8YhfSaleS2PfoByan7RvBl+iuJwHGtlTvCwO2Yiw/VdDx4VZkxXNRKSMQDVqOON3aeEejTHecke7\n",
              "3rz0n6yx62/NGaP2AWfD+7QMfzbUxVwa8ECFaNLeIp56cNtwa5SUmzUuJx05mSMxFckJFuyd8lgm\n",
              "KYm7bJHzJfH7tLkirLbNxa245y7fx7DrHIk5l+lh/VFiAQWsPwUyWfV8hyu69F2Q8xnA7/J/W5ud\n",
              "0bKEERVZQKDDfpJ3WHPj/W6Glp/5UcaF65gAcRzgDyPhJp+x33BcSAHd+T58V9fctrai2oG6jXdX\n",
              "eiYZX8VuVlaiY1x8W/SBu55jxOOAjSrZRQqkbHnOQZyeN6xDLLHC2gAAAwH26LXPrdg2yj80p/hC\n",
              "80o2HPVtm1oz/ZyVie0MSPvMk6fYvfaRNugrUYkrLdPoix2nK6jj9FJAmGgyPRv3kOtKgLxI/5yl\n",
              "hHfgSunfdI0BI50DfAF9jV7YwdhVqJZQ6UiWyFEglwyQWhKrqvaNYiFSc+s311H3qx1uSg6uGXNz\n",
              "YT3UAzZhVa0XbvYLyNua1iX6VxCfcHpk1o+AyUGvOYKq1hzlNsMCRFnaWkvBRJ5cJimqUgtIgIpe\n",
              "i1QvAcXiqVdIF4ODQek9CCrwsQIS2HMeEblVZ+j8l4Gu0+oOrOoCpkFWmyWopCBZAeRcZ+48Yh7W\n",
              "Zjsv1fkys4VxUpRb37xa3Ix56H+qV9T1DwSJNy1injvfTmoodtAv/SnE3T0f3cPMzykrqvu4dxdP\n",
              "mmD2eF///xCHdKOqdyRt9lD1vGGvG4ymkDnYKB2Fe5pEE1EOpytqQQHYQTE64Qec59YW2ws7FMWa\n",
              "pMj/mA1h05PABCRs/itkB0OLrogcj7VHIdPHhe+7osMaFmPF+9MIsRuFQPf/tVdDX7+q7/hMB5nh\n",
              "z+GUNZSzfUBB+w9e9uPfgK0FazQOEZ4c44Ra1C9cW/nicIk8j9lm4SjhID28IybRkDMlo0SrhKZ4\n",
              "Zi6Qyxjc7PTRPkspoVcf7GVepMF/yPX9KaLrznGWvvyyAatjEt2BKx0ZDhPFOYyj0BJcYNCR/8VX\n",
              "gjdjBQm1/c2deqVAXKVHwzRNnwvPLLzOjEbnz+jEhV/fPf8dpajxXbXknmRLir9l4L4ncaj34vdf\n",
              "YBRj0wieRXnYKvEK782a8TJmjVggJqgEe39AioZw2xqgjI66RN9Ki3S6rks1//slo78FAjhQ3Rnn\n",
              "pMu0LHAUjufoASyGgqAnJ/gAe5LTxbsvlrnmOnyucztqjO0S75b2+mz4md7qdivFE+Hnn/HdcVm7\n",
              "l0wQK134aLoh2UfnBTu4mk53XYYJDpdsdDfvIBwyGiWYmO6Kto6wr7BguVxGcD+04JQN4RX1uxwn\n",
              "mmAVbZV9am7p/C0jB+RLqOQhz3gKNTZJDr5H6oV+37N+atcnHUFsFNBg3rYUru7TO3HpNTem/EeV\n",
              "5o/yob35fDKNagz7EhKbVDivkSjY40uUgIjCooGakf4rRqX7C8lyCirymKrvTV7/qKgygVU8ASSO\n",
              "qH0ZCuGIuss7In6gVoueKxmKm/f5PqsBAAvKSKLbnJsHfcdigMB7GpohXvcjh5hO/wyeIHNT1MQe\n",
              "s0budh7pWF8ZaJNvV8Hqh2ZThf1/gUrU43R1/siio8vxV/8maFVtOqYllZg8ldhanqTtu7xkPdS0\n",
              "rpAqc7iscymwD3y1ZWt55PVsSWS+3M7rCZq7WHBzZtuWvG1FYd7bYY5qtODJIyOVv27/wvVIKwwU\n",
              "Jldkj114QFDFIgmOYKvDngXqccFBLS3eY5syzkfjTWAZuSYzaMikNyokAc0Rln8KvpUIQ1bxJf/S\n",
              "+qFfwe03DR9zGFYQY3K6MukcB3y/ucSivfyzfIXNE9XBpkatEmDjENizPBLJavLe2bdCv9uf3HNk\n",
              "m+A0QhlzgxOGBl6PObJCICXpNVYLrdXCBehLuAeRUyQ8otocEk1epEOf0IbJ+GR2CRyFgsmZEiI+\n",
              "0Rh0PznZlWZeG4Y2S9NntCGIN4NFp1VxEL7swoKaXYs8xIGd+8gRkNgxB9RvpwEJOqWCHL4Ipc55\n",
              "6XL3BSuURSOxt2K/tnwXAs5QMYEadsmTFf74ML0VPiKud9Hxx4zs7rntX3+BcgCbEnmp/4dPFjWE\n",
              "GW+5j+KbR6NNotKg7FEWvHG68IVIt7bL57WmEv1c2HquJNztPl2KAQO2FpGeAgdSRxBr/pl3KIcx\n",
              "ePlePOHSgbRPoiRefSs3pm9A/kduzhOJHgz37G7r4IRXMi5Xmi4IlvpdgbR99yB9slv68j7JJ4pT\n",
              "1tZT7znHWifOHgQuhnqZ82MnJRzS8COzQc3gEj0dV1R9lzw9x/xXC8ViA4gw3DCFotLaZe5pf3F3\n",
              "xdJbClinzm1MnIZGQEUG9hfkGk7xZSst1MFgfvhYKcEUiVPeHVxFLqfeLLaNXuL4l1rf7MwrXQwk\n",
              "Ti7V9zEOAyLt1DrlTaVw/TXDeYx4K022WLcDkno5Hg5JyWiW7G56AWrZtMi5Xt1sr4o8tMVLKGzq\n",
              "CT2kTEXS9p+l6e51AVlXreXe+h230nZoYXl7YaPDeqF//UHBmjfr26ThdA4GiAW+DkhJFrbSrZUu\n",
              "oIlpXT8B59BRKLzcES1ACB3pEVcw1lKF+kyBkUUOSE/DAOKGk79ueZhX74UpGUZ3cqBm1+MJa+3d\n",
              "4pgRmgr0w8NjKpnJ4Htww/hrJXkDBKTVzitocPA5qM3nhmLqDLOHUt4X8ruAhxYz67CBDNH0Juq3\n",
              "c7ydoPy7CPSdxdg+UPqtSSJAB/WJaky4y/kMMtbHoSBkWAer96irKbw09Yv5TZEggcPqHwNbaQlK\n",
              "Y2aSbIffe/qumgl8vIvlksZztDIk27R85388wsUIVlRH2oa94Rz7KZIbcBspjTbgtjuh+DA8kSBT\n",
              "WhmiDIamEgDPWkvsgGu5CXQTz7GkVdC+I7ad7mzeA3mZWCI3U0vzWob7RzhPh5d+lW9l6nqIvv64\n",
              "bciDrMjvDBT8nLxANZFvYclGV5GIk/S4TheeVtzVi6m8jBenyJVf5NlTiwJmQKvkgVm1tEMdut30\n",
              "LmbmorAptDBAQwUooQaXQOnLdJ0d/AoU72jjNOVFyeFUgNPFfVdsFpSfzo/uRtFuMuedLokvEcYl\n",
              "+PSKtVTD48YDowV5ogVNIoFya2meE6HCO0VbVgDMzDnKLzKvA37GRBUZDp3Heapg8kDCqEwwEzPn\n",
              "QhATfKzW+Vo0fsa3clGP3EzAOQB+vDc3jYCXiA0m3I2TeZc5A9urZZnHWRf7/5mQFts96zVHJnes\n",
              "hsiG56KVhUyZwZW8MPVxDL2myL3w73kkHjK+FeCEiHF/ovmmMMojsSskSYoDERsSmXmN1xZs5vLu\n",
              "3pgwphkrK4fhkixJqWGjlxfEeqnA+W8lyQXsAfpv6tiES82cUMtVU7C5rCMZS8RuxwguNpvAJN8R\n",
              "O/Xw4svCow0EdwizQVGTnrqtyDOrMw8RGa999B42EaUwfzPCmEilCgWbjyhqa5M47ZB7xYeBMoFt\n",
              "jjQV/x+F46ekzX721wTCyx9euH2VdkXgJsGuxsZg+eWLqdwOGj3+EY9qoyD7K5aPEK6+sUVw0qvH\n",
              "NKuZ6y0MBmNsmjgbf0z4j9+8XcikYz2eSoeiJ3sSewprpBSWWGLwT5eXZPb2SC3CHPmXBrG1cuco\n",
              "TxLHllSsS/v3ejmOvgr5Kcb95OrGswt9WZjN4gUQVa3JhchYapDNSW9jsS78FGKMcQErK+1K1nko\n",
              "O9GC5KY/vpCDHf7yAWUIdFxjAkLnyTiACsHld/2CftpGXBMog6aLeNmpRTe5r3D1zp6kauTzyDXQ\n",
              "zs+NnJ0oMVeU1Esfa9dp10F0chAxss9BJoTJPCryZpCgDsoSciIuKHFFOneuCW8NYeX6CFj4pBBq\n",
              "vwA0/NzDcKsdWnMXy6OL4fo3v4+T8yhsUlly2HaDjhvvpExOfu4figQswphaz0TYIJZMfJwHKrEF\n",
              "XRNSY98L/f/id24nMQU0C9S34djkzz/iShWNkIjHYcXr74Or7p3kLLAMOeAQ6RUpcCdlEcn+F68H\n",
              "IOR/30me2XTVrErUVcVgZ46gk9MuGm7zLqgGuy0+LceqwJjKaNDoe8sgqw3Ihn3ZR4WgBR47W3V3\n",
              "9APJ6yL1VFFD5gOBjd76ZrDgkSsAW6+Wkcgamt77gWh86ywPIh5Y5mnCg1yETl9+lkCMeJmoK0bV\n",
              "SVqDxvFZHn3Viuiifn9jd2AwJWh+liI6pENM829WmjVXrBX69arolKoeGs+s4z0eGnxCKs+wISza\n",
              "bbXNOFMXhZtSvRZ+WUXAEAm52CCIpe4Rlq06HNDSaYMjnORlEfjDHgwwRCwAWzSeVIPiY6zwmPnm\n",
              "Cp5ER6nFkKl+7tYQx6fnGmg50yv3RuifQ6jSwnSw5vPRlE4GUi1daAjo0cAYVvrEp47DRcfhNFrV\n",
              "DMhNcD8chTjZrV4l1XmwBB3PdEOrZv75gW4ScRIZf3JiO7tbyB9F6X0eY5kkffcIsBFCJBvp/gYV\n",
              "by3Op3M2Neip/IgALF8h/Nq85+NTUQwoQyRvU4tmjj5ufhj/TKhHcL1RvIFZDVWN+AygqwQeBGfG\n",
              "cP0HNtQEGPjeGj94tyfEeUVlEq+X7awWFDUI2DAhfBxOwC/ti+TojvkAlf5vqw7TIQdX2qd6KZIF\n",
              "lmHz4Kq09hsyO5m3oUGKc6uf86Cb1L5CyrXuTTX6VBeDe+U5JzuoLAYeEoOJK74C6JIsUb5FTHbf\n",
              "wanzTIxX4Rya6f/7VVAL7YY0ZkOxomgkBZvl0xMUaWQ/xwwziUTTVYK9HKWZVvRb1efXWDFlTow3\n",
              "OKVCRJuabINWJ675emiqEYRRN7I0VsuX64Y36U1dLFR4MVuajWhbVsYd/RNnvNTgPH6O1k4mHdkW\n",
              "fz9634KLC9PNt8ElyEGTe3JRFbQBk/J/rX94YzNC5ou053nPj6kZUh2ZSNC8u/ru5s2Tl+hb0BIH\n",
              "bhGRSiZAoGzJ9hA5oZ+V8Yhb418mnPUPURCfExSvvfb4RHGe00CHSxwOMlIMvQSVjd8lzb4k1uqn\n",
              "33wNowQXyK0FxaAgnXjk3smuS+yyeEGXWNRh/Y/VuuE+9G2v34V7s0AVmsWBWuTpgXVx0JrpcJhP\n",
              "VSVEJYzvH7ACWw1ChXUy4Lawyng5JVscYw9nX2ihritOphRyjf7ifjkGAXgmT/srMMvIAAADAU8y\n",
              "4QAAA7dBmiFsQS/+tSqABqM6nBd5hBN8QomkAZ1RBp3BlXSNNOp+Jctn845FQMCf1R/unzrCycL8\n",
              "SBfwx8Ou5VQuLkq/8kFdfPbzI++eFee9WlRMBB5OFG/qtNbDYnWpwX9LNrhU7Z2NO7satU8BqssX\n",
              "uEKLlsazmBkiGD9FKdEipbPW39OhyTu3fSlFqa17FBFKhg/FX4heqWWtxdxP9gElcA9TVhbr/A1J\n",
              "1rx3qpMVGozH6Db9PnOz3T8tWiEwiHINaMX2PBREhdD7beyolp4Mb6a/0BVyFwjWEamEMdBnH7LP\n",
              "uJvBeOa8mknEB+BOBLBVSBzWY0qRHYucVLuC2yTOC4TJbzBG4Ckkie+zYVXemCVQgQf18JXaCePa\n",
              "0eQj8G1T6Djk5+VPYC9FNQZJlfRIWvk3hPd+29CijxHV2W2Fmt2pKUW3PQonDVwTaRzQ0kZEDj9x\n",
              "jxJlZle/4xq+k7R0Mv7+j1LcvpmA7m+hDzDIzAYrv+WTmFrPk1f2Vzei4c3A9s1GRKS0AhNfgbs5\n",
              "N7IH3kBtluuKPlWs6c29ziKmNrWQpcfNR66K3DBYwxXy6N225QinXM5EtsnfYvaT1R6a5cakeHQ2\n",
              "mnhA49LfeaU/xxDf2leLH32NnzEXDiQo1SIkl0zUTkXBpof/mmevBHHpRtKPdz6j+fSMCT6os3lw\n",
              "KagpXyGyBV6aAln7Qq8qfVsMsUM71C8dJEmWGSiBXKelFHja4QRBb4+HsKb8adnn/3YNzeNwFYNe\n",
              "9sw1iWwsTQBdM98DpivR5lbyYXFNgAxjh6rTg1ZIzTm7xzO8htVWLDb5MR6goBi5xvV1w59+20kQ\n",
              "ZNqTf5UO7jPPGHwvlOjhf2r8sXkSMwNEDWqrmUXjxOKad4aJRKj9Ja+hMENDfLQz3M7h4Iwd8GQg\n",
              "giyCBl7GmgM9i61DBqNbuo+IRMwUHvAhz6K+1ylNMKFcYhD5MDzS16WKIODEZcOUH8ywilQVrPs3\n",
              "A+kSp9JgtQnIsFFyJB/Cl/TM6VyI4/RaSgatI9ViVRObnhFKvd1jwxONhTW/KrXmU75O9cmKSaFf\n",
              "Tux3gyIL7Y9prwYEE7Cq71mgdqWEK84JvmgKzDdK9E9dDRmJWPpnp2qcHS4de3N5zt55CEnLnfpQ\n",
              "26V5VB6sI/pk7aRKPRXnl8g0KCxrNNb4laxMBSM4oNy5lqBUO9g95POqg5uURHciOpWWkU8U8MK6\n",
              "LzrRRGgGdSktYKwBh55pDNnqtKkxlkdZEFSyGCvcaezZl3nT8qjLqVpGCNoAAAN0QZpCPCGTKYQT\n",
              "//61KoAAb3k1hvSAENvJsxQ7Xn+jSLXDeXkQAWt+abajSISeGU17dM9Ylkb3TGy9Ch4aOFUIZYBV\n",
              "etQKK/a0gi8P6219W1nCEdLhf6aPGVSiEj+EGqMXE5mvYDxQLYscKfzq/I2xFOsr5K72aerwLwIh\n",
              "d1ieFiFEVALdoDThUTygITVPjnK4aaRd5tO+bjUEsN+qvBz1YYPaHJfLkZ5O1H2dEH3qTJPbMS4P\n",
              "M0uguRecaWDfxW0sIl7w9y+zYZP9nuk6mlSFf733ux6oc42LKUX9XszV3YaC8aQdUZvlO0AEiqle\n",
              "qGzPxSNXYcMLoFjRqAF4PMWnWnjOwhkbZc6xgaLt7Wc067Tz2dWK+OT8/ONsqdS0PiuPLPWy+JF2\n",
              "FIMul1iOYFr+cFUA4KBH64C8zSEvhffXLiqqpRmvuhKJ7FBwcGJMeV7NBoyvtqh+ID2rqwEIRANM\n",
              "nxq6WZrREBbX25bQlEk5NTaJfzI7ry/RMcqifW/ftB83bqEIsEQBXIZOqCOCSzpkOJwJ3D2IAhZw\n",
              "WJayGBT/Wo1scK2WnOSt0NL5YveiwWNWsjRbPT76YQ0FBIL3LhBgH5QiOHrINWfZkuGGaijko7Zd\n",
              "pCgC5kCi+wc7fdkuGwbfOH3xma9QMoPdcNCiGo8Bx085zl3pAlpKqyNys3BnyKSVuuvBK2ETUAmV\n",
              "yXcZEuP27iVLKsP6+YAR7pIIXocw3wLggzRz//FEvCHJAy+zL1VeQVU514dbthsuI5KFdDEEB2Wy\n",
              "Cmv1WrOfG/RUJsQx5/eCn1EWVfO5sYcMNs6w76M9Aa3achox6ya+4kCDqnRmV+KQqtnrmn38rI88\n",
              "pRQ2ha57RVncXbTWcrWq07jwY2FLc0IBNouh8GVlfkL9p8bkmk8MSAbmf+IKkV/Y/guEK2iG+l9z\n",
              "oXMYI4udV34RS3OOXMwUdn/ustbokQ2kHL9dbBQ/TeKZGnmjcSdAGoi5oKeXEzySBu5SbqIAn/Nk\n",
              "nUyvLwWX35uiKKzaEF9JMTNhXF7C+BVP2p9BJBRFpM1VFmF4iT2eIbbTC+Rm1tZyfbrtMayhiabK\n",
              "8V6J2B+//7TNRqVSo8AkLjcUCne8qJX18uxAMTr2z6cit/6QiQ3nlOusCbZ9y1FnGjnUfJaedv3R\n",
              "sVQEyMPTw6ZLkg8wBvElkh8izY0AAANKQZpjSeEPJlMCCf/+tSqAAN969+iIivmDDobj2AzyI1p1\n",
              "GJXDqPCjbdIuoMsw62d7gyBOczjgok1WNLu9McHewCWL//6PJwIXa9gscC8odSmlIPLTFa9kt+Wn\n",
              "UaAlAoWBV5f0Sc0W0908RjO7wJ4SrPvLQKsyuEmFJxDNCKZmA9f8JPSdXyRUfeEsocF0QJTWmY4f\n",
              "0Yjzj8g2t/dc68sQYnGzV5VTJ3XZqgucRQOdUJvUQlfAiFmxEpLvR51dLOh4ak/j0/efcGFD3pYs\n",
              "CTafzLFeyPxUCDAeDpR/D5yTOoQSkVYTERu/t1dnji4v6uZ5+XQ6T6Q7SVzXTwmjVTZ+Zi3gRCdK\n",
              "uJ0lD7cEJv4jcQTXHJWBSkBkjZ8yq+irDpu9YwhhbGVn//9/uSXfOfeLUZFXVmdU0M9ZkieHlnvP\n",
              "Essn4zcVlw2KfIrNvGR/PXZymifgcURJx+iyXCoA3468Ja6faLxHh6Oyw1S8tA8xZMEA6rjdSay4\n",
              "NxOkoyi+sV/ZFxM5tEJV1JwiKa4IkrtTL0uDJyFlycdg960V5Rn90eCVpBtH0bL1onQnrmXNFHc7\n",
              "OVav1MQ8RV2IDLGPUb98o9OJKYZoa3In2wpSYqIViROeiv5jfvaCleshmeMCpjef1mtbFuQHmDnJ\n",
              "UFEyOx/pHtfu2dYFqx3EQfy3po2oY/OC7nUIG9Z0+l/pNfFivLSYfRT6zQIHAtICfiLDBX11FXoe\n",
              "qIwTrLLaHNBmZqwov+FYRks+F5HdY4IZd5Id2hZ0vZvcraTHTGLsZDe7qIpyTu3YjSgBkRP8zzqD\n",
              "AfipyayzAMhtjHSN4s8E5IgvWplVh0JQ//igtYkCvdWW0lCNc62bSe4gpWFgrZfTje4tqpC1MxhP\n",
              "fLrcRHraMli72DA5cPTmJsIMJzdznYyFThsm3bgPrV3KyXORS22+u3ILtp9ppkOiPmwmCkVW+/hh\n",
              "24VPczE8vrwjNVmzpS+h5iQP5oO2krebDMRVg57Qge30BeWH6Q6lv2JnfdxO4Qy8u3CrtzQ2gFhH\n",
              "CYzRmOYJfQP/pLeZx61tzUTl06L7zHHF1Pl0Nk8tWfVd/uwlYkBDI0czMBF6w2zUO54UtZc6KDoW\n",
              "JjMGn2em8LsAZUAAAAWBQZqHSeEPJlMCCf/+tSqAAN5Oj2DQPRAAZYAS42OkTFTi8WxkSAzzSVkr\n",
              "p5L2UuV6gZo6RrK/fpCnUItUOzmQxayWO1zdrvGyPI0W6EIEW7WnWXzqiJ8nCyijhGiQht/PbmXh\n",
              "kRSNseCalThvQyVuD0hgyy2zIu1ekdqwOJiCx4gXfBLo4DE4basuvGwuN0afphFNlBdreq+ofCHE\n",
              "nqlcowRvUBCtlwHPX2kCnlCMsBzrEqTbcgmJBxI/1v78z1bKaIWZbUS4jwFIxLaaeU1kT9CIQabl\n",
              "M3YdLKu3iTH/zgvyY89tilvTfiCIB7npg6gyUqcHQX1Gnopqqgb0mjhrPBP/9llz5UURNKfSOXXE\n",
              "6Vm3nCDAzVwoJd+9Jx8LFmOaW/FWPG/bPO7/DZVHggbdjM8remw3cCZhEyEcXsv7k8zQ9C7no+8X\n",
              "KQwZ1x21kM+O8Zw4cylejGcINxzfHb75y/VJ73uEbMVtHcK+SF6CEesnOGmMkWMIEsjytQ2rBDts\n",
              "TlG+wQm1Y5qZ2HufModA8KUpAKErD/bIVb5ePM28pE3Iv9QE+1o356jK3MHQgsbLUQQYWDzOv0zo\n",
              "NmjwuHh8hA5twYbemqYeBD4+YnjkRfLwYnpa+1+vBYP96i75Y0l8LAkcSdvCnw5D1zo+Kt9E15QI\n",
              "fFu1OXOpb36oCoCgmi3tjAQ0htDUvxw+ydnyrIGyHsF/ZGLSCIOEXeKyjn7/hRFiSvfeGYkFmCs3\n",
              "PSSmuAWIt6hjbq4cM9gOWAUrxVn4kE+Mfa65VDH2nN5MtFTCSfvwLk0LFOcJWVt0wmkyFhFt7bqV\n",
              "vJeCHjnIFOQUWStRLm4sRnraUtjlaOvNX3NPkAHZ8F+PnhNIXRK+FsPzFK9s1IJmbb85N++/NEtO\n",
              "MgLN8jqz+nZuaz5PMEykpR2zB0Sd/UALrc4cIMm6dmuq5xGolFbYF4lRMmhKxTTJWg5a2HQXoQ9Z\n",
              "GmcPnwPfSxOwkMjGx20hPZcudhmakFN5LzMd2ZofeW0v8eNRug5zeVyviTrgTm9s3vSZGRQDreBb\n",
              "L1ki0XBSP+QCUddDsHqnSoPLKX5teVsdLJMlKaa191Ini7l4fCsYw7u3Ki/pBVBO/Q5T20Yh9+Pp\n",
              "SRLqIdgOUtQddtEpcECxWHRm9XyWllux3YNFIjpGyMocnlq7m28b0lQ8SFT6GrXZ5C54kaaANiES\n",
              "v5SUJqbn0OkmXjYvdPNCbpsECwua+OO2LWRhumAADSEaR/Lb0PzL8si0NfE7LxWL2fWbkCc9QjCI\n",
              "adKpAkLgDep6cDJxAESWFYulPOMuqiqSsAOlW+EEcikoxq840mka5YCScGbswGQZhbFLgXaQDHxL\n",
              "0vLqEnOGDnG2uA2zTp4oazH9ZSJivDMWLQmBq/Fb503w3Iy4MJLKecFEOcvV4FzbZlzQetzVAR/p\n",
              "xg87Qzb7USk6cGxnbDKUP5bWgnxnLl2a2elexz+dkQgvL074DdGxWcmjionlU1NvkPXI+MsyQbAF\n",
              "CqL3aFzzSFXHSGD2Iw1MiRFtDmNwQ5vGZH8bL9thZn3asVujiEn/FsnYZBh1dQGhLb6yNX4gbYZV\n",
              "SAe/KhhcZn/hwbloV+kAt8Y29O/cJsPixrbQEnG3NiRugCTVUJXBECBgIyyskdCipOPIZ1yW6oYe\n",
              "veLvHgfGASdNQuqJBWfEByjsEO8Eertun7UTCP7gHJdK6+5Jg6oc9O85yklJcWdSUWNhO+RcI9D1\n",
              "sv62jRgTSp+WtWjE2uQj/mU+/VxfGHgpwC92xQnoCuj9TqhV5u3kDx1Knl/y5Nv1xJnXCfKKXRrE\n",
              "vz9OyuT9p3fQyG6IKZijcPFin/4MRIiS50fIB047vmNwh0eRsQz/RgRSVzljllVekG17vpPYLoEA\n",
              "AAEeQZ6lRRE8EP8AJi3IWjwj1peQifhymvAHRR8lO2bt786LpsWuTLzXZxfagv09KUlXuIQIZL6f\n",
              "BUJET8lKCuUockx4FORnAzWyeKonvqjHNQbfh9LMED1tgg+s+OcX0TqfTmpEEuMS6eKLc3rylx0S\n",
              "Fvz2w5hKQxD5HlbUwoywRckhtpDma1KsdIu0KQmdPH9S9JYlVjhGjNGPZ1TQzGCaOtMYNVOvKyGL\n",
              "IxLskc3x0imVT/ZGGUlmD6HTp9ymHY7goZjFoXCnyB2rbPIvQritPu/fRlE+N1/d/v4310qrGRse\n",
              "1KRuUQf8MkAB5Z0VgWERLSMlqFQUXs/LZcEPVOZVuh5O2lVI/xgASW70Ab3oDL6ddTZXF4gCKdKE\n",
              "ztg1IQAAAIkBnsR0Q/8AVYb75kBAkcRjPpyD0A3wx8GIAW9dEABShkMiwiq7pClbPiecNrtuOPOS\n",
              "T4uiPU2YkblIircKUEl4uHxjIpZPgzOmGTIODtK2IUy3mav3LvyWsx28MpFJywDq8yPDp9IsYlNl\n",
              "CpTT/LvsjwMXKVP5bW+i7gLGtr+T4We+ZjwxMJflQQAAAIwBnsZqQ/8AVZMOhkB6kb3Ik1IAX7jD\n",
              "vtTYQpNVXZvABbl1EUSYgbPC9pTh3XLcvwqg3ZDWh+2hOq/uEQJuNlSToW7SYpP0jQOo8zyMzXbZ\n",
              "8QaBWLvNy3VzKIpug9ywB6YgtoiI+9ba7FVtRNNU23yPWUQ4TyN/3f8hDJSgVWBdLgFsMD77YTRO\n",
              "dXtqQQAAAuBBmslJqEFomUwU8E///rUqgADeTdtetMfJAATsahkOKHXMaU+2GKqAkm0UcujwxKRd\n",
              "4uc+Vq7MFxcap2kuK+JrWCugkfvmZ6RZsXRW79h3JjDvBR4A88mCrrkjISuHIeMo3YZmOgADs4wr\n",
              "+Lsz/KEbAZXhn5HQagB/6nEkdlNmLL0AIy/pjjVk0WNZdbVYtLMUG+dRFJFGF370H/9CzaY/IMhz\n",
              "bLaumcM9kq5CeaoJcHrBk56jp3vkoJkouoR9ODhlnOc2rGvzEhXEDHNiuj45NrpCCLGHGNvT0AkP\n",
              "HQa3fqM2xD3PGdzQZ8if3NPJT9RVhYbEJd0xB+TEuIi26GkaHPh0fxP7D/8ekAtagsYr0U+/e6/N\n",
              "wKAodQdxjyCRY4Oa18romSXmB/ayA/lPy7swNHd1qxsc0HRnIu9SZo/o83MvXjTUFHINmedMZS3+\n",
              "Y9y2Bfib+kYOB85J2SjHB2jeK/GPBHDe9Lmy30Nwj98ekjM7BbMceKQ8JWzPgxUQFwXPlvtcrjjr\n",
              "/sjXBCU3rIMJrj3XZCCzvQ4WGbpjVSy8wFbYb+LUKpFuoc4yHxwlV0D44O80zn/OSOgz+2fmhbiA\n",
              "UQnCFVZnbMRwrvUrestBxPiB4dl46EelckwcQWkWWP+CP+8w142QZC/pKdD7e1rI9TiNO0tUKHzT\n",
              "M+aJqymAmDIr7bPQrFGTOJFf/NOZ+vy95pi193yTgozUsre+eaT3JBD0qNaCKYEL7roa3iPdOWu6\n",
              "l4lnfG6mYROZF1L1v8EjbrpyufdptISrXg2Be5Bg/EtEQM+6zdLIMdkh5WEkICNQUt/9lddIFknV\n",
              "jkTDOKPnWBnkVg6BQE5wO/bfqRgoVX+FFPkb2+z0xU/aN3QE60rFQr6gdJ6Qtlvhfz/eqbHXb/2x\n",
              "KWTjgixPWPGP/FUQBKEZL6MjBckx+z0y0nUoG1Ud+E9zJxMGKlK98cqTU9abUxN7R5TJcRcHnyor\n",
              "/JuAAAAAWgGe6GpD/wBVl6lDuCBSNWjXAy2jmaAErjavReW7j1XrfqcLrHaf8vlqnjVuTWGFhFAP\n",
              "KROR5mET2OmDjR6sWuznIoTPlbE98AJYlCZtmF1dTT7l/QAjuSoXkAAAArZBmutJ4QpSZTBSwT/+\n",
              "tSqAAb7cf+EQAiBUHHYnKf7LbmSJRnfo1D3GMsh7xBe/kGaUVHUCY0184zWj0DUpcSfJqmch8Wos\n",
              "aoySraVJ7wktFEm7mQAXV5Ar+qAdEhxclN8G/uzJXJk0/Ozut0306FIfaeEgS0kogfk09ANRzsCL\n",
              "NYXWsJeGzJJ46yHPIRi4DKkdVgynhxSGwysedspZQHCaYjTyltGoip5duYtkrwThSAc0fToVeGK+\n",
              "7/IA3FPlv+77/2CCgIHcUiKc/Y2vhrrX6jB22V8/KMmQTCQO6gznlEC/zoxCruYUF8yX7HTHVul0\n",
              "qq3S+IiHcY4Xv8RPPnzBsKitDBtxf/OOoxERYp9kSXiwiGdyJV0E+FQK+wi+Chds1T5pk0H99biz\n",
              "SoKSPnsjk+ESy2AmRAxQRYK8s4d4XVQvoRNsbNkZijj596ZnJFzkKl2kV896N6uRlXX6pfGoLOKw\n",
              "vdbshlfBqzRbtvmpaHTTtQ5se6ND4eSpfPRJCPdKhjV2hu/oEuX68J371YJpfymhjjS0iz8Z7u6z\n",
              "v86QzaowIBnDRPd+6yB2zKdw5D3Wsw07p5BWQ/uW1ZcYDlq0qa2bhR9zy7jOI4dXNzVooX41Xq4n\n",
              "OaOFsatFf7uNovocs2mai8rKMGxAkI1A3A9x5s4kWmp8fcK4y8iP4JqFYxEdZDDztSruSDWcPjII\n",
              "KFdccjIMlBH7BNFvTr9CkkgWNdtfrOtWlt2n2+LR/SJTwv7/WVUfr25/BOOODSmFedLouA5uWfP0\n",
              "YhBti0VGR46xHCuqhSuIUCHbVZEz4cQ/Oa8NSAPTEIrO0MK6SNwwkyl65BJATAnqOyTBcvC4bFDE\n",
              "7SWDSermVNgOlQZdod26Ae3Gv//kWlSFu6y+tCWXCpD7qu990FeP5WNJMtKSr/Yx3mcrliFhAAAA\n",
              "hwGfCmpD/wBUrCgke/X9srFySbSNlmvI7Xt5I3AALpM5YMdbFalTBnKE92sfDpr9YkV+icEQuGar\n",
              "ujzwmYASkAcceJQK+I6+wAVXR/2E/NjN7E14whd5QaPyDLf+ZH5clYiYOQHRoEJs4p8+xPU6u11L\n",
              "18ZR4EFuBoC+S+OBdYlHwPgbTEwxtAAAAzdBmw5J4Q6JlMCCf/61KoABvJuojn5SAJC4EICH0sm3\n",
              "DaVccWCEh1jyAeVIRUIoPhyOURaZ/R7xWZ36VGVbHzKpFouR8aCNoQ9RqJM1GIpnHiQQDZczF51n\n",
              "EFwgSJDz7aDPDtsEgU04DP/if7eC/xJ18EwvX6s4pFTfEZdCyeQMCmcTI/8bJu9C7UsGNHOm/kqN\n",
              "O3QBR0qloV7sERIODmbs1AmeJcdRM/+XbhkQtwkWRPxlWTi+30YbHRdMGJCGeTAWEi2avGcRz1Dn\n",
              "8rhWtsmYtaY0qghzSwdYRcn8lR+D+eDCqXWwiIkjxXVd6XiPfVa42jKpilWKdloSdL4BcUck0xkS\n",
              "RDF6i+I/ozSIehKRRouBOAFIFXlANvNMgiitKK3f9QsouNDNxWMy7Pzs0v1f/Q7JjFMjmWsGQwIF\n",
              "5ACs7tjxJT4AC8lUFOm9RfNzq96V8/2TQi+QvtGJlW2liTPU3WwOZGdSMwfpajvYj8M1MRb2dUmW\n",
              "LboAdMn0FW33TC0kBJAEC+appbIMuwiRfxCPoSgXi2kouSTl9ruEUfNKwZjeb7YlEDrXPudZGSj/\n",
              "6fHD6jTEL4/qYYw5P7bTkoJutjK5AawLc8wkOdqHu5DBVrY4Xdcv+74sUM63Cl/KxcU1ATC/en1f\n",
              "ZgAxTJUb6Lw3cAk0D+vfoaRblOXRp9KqpblM20Qis7qoHLNlFT5+i3+jWIj4yFjAozuI52EQtIlB\n",
              "M8EioKDa83iXn0vZMJLySQ68+vUqX5SU6ODy5XCW8q35qUaQjXsxIub0xj26M8Yk2bWQNFR8tUEQ\n",
              "ERBuMdnbQ/9inik3lhpu3egGLCuPAuyq6l4fbHPL64tYwlzf/VKG4w7lhv0Jf5hIptY6LJdVsmsP\n",
              "5xrcP8bWfActyN19TJtMohYBA9wxr5HZxr3CkyeWwwHvzrBri5+oaKSLeQTz1GTszwwUfsOzynJi\n",
              "a1LgmKEvPM6G7KB+IgFaOCAqjn5NjdXy8qIPF6GwISUrry3YktLC0inxqGhehqGcsSHF77UeVkqy\n",
              "EcebKxU6KC0PbgcOdHk9ZQ3yTaQN0P59gWbeLfwBsiG5kBoGJKRK6QC3qWxzI+tlFh/gAAAAckGf\n",
              "LEUVPBD/ACYtyFo8I99ncugXEQEIRQfYIN8Icvie9/slB12KO1hJd0oYAW7/uqEM/UF/addDqJP3\n",
              "5Xea+/i3LdLa/HtXzI3ah9RLyH+KaVrQxQ44oldjLIuIHX12rcf0ycsOzJ/M7beDqM9KEgG+uwAA\n",
              "AFEBn01qQ/8AVZMOhkB6wdzcbYvJDiu3/2XoASsUO55hSj4vcDuXl+iINhkE63l7PpumL0qKba51\n",
              "DmVZ4c15on7c+a6C3O0gyMBvhaEngH9DoXcAAANSQZtRSahBaJlMCCf//rUqgAG8nSb20fSWAI+0\n",
              "TG8Mx+gj8kevIxBUj1vfqJTOyedFLxzvdNRN6HAo4z95tNaLvA9wIZOp86eKu4Ly6F0atJ7qaiEL\n",
              "RcmiERjYEWYeMwhYYrrugj1zIHQ82cZjQy70EGounbPfGj3GHjzX9p1gJGM7d+xRvMTqmZyLJ1dK\n",
              "W2iP8aa50eQH31DZ/GfM2HCvVBE2OujmdyRTnDPZW9a+4SuvTSzTBWNrHsN07YeWYugh/6f0Iq4G\n",
              "7tl6gPenD4hrStOHAJX98BTvRBn6yKS1oN++OzCagTNHoVJaLSAUzObHkG+R2sV7g8yH2f/Jt3mY\n",
              "Zv12BrSEvtGqNJCDk/VHh2uDabhLATvwVMs77GZ1gEHgm91DP5/V3C/oNwsiisCaZMAd9g+CAhbX\n",
              "qezmuXoecUdiaNsYPb6/izdORlNr/1dME9oY+1F1asCOlrqBELMkxEkTvfUuS8YYoo82PZAV8z+b\n",
              "WEafysFU29DJvpS4bb8DuwQUa7+3+2kfdI66oV0bVKYuewbhhLp4m7pxk6zkuCaMMG2Wjs4uIQHF\n",
              "uMalHCgP9QMY2sq0S9bQAWiti4yVdPi/64GvlcET5PgdjbUdk2r4ignimG8Gv9VQkX5wHuCJJvJO\n",
              "gXsejA4OAg6tFoeVD1zuKVpPFM3t2C6QoLsXdZ0aQQmUG/SlH2o6YCeBcKiVvwwr8nSJWYw6Xpdi\n",
              "AEgiPJo1WfqnumYQ8MAGUoNyywXcZ7XDFh1UO2HhjoqD1vaQs5whDt1IP7bz6i8xA/dUoVo+jkHC\n",
              "u06ai9MQR1muYuhRO+M6qUEtXUJFr+D3YEJTeAPeHshm0o0PndY2OOwI1Kus0A0xvkgT82ngzd8X\n",
              "hifT4Gs4Anzd/wnuZTBbSgJuX5sUIHGuqHhAdR4fQIIT/t2x/lcry+eRgGK0DX9vu8RiP9nuU0tK\n",
              "EICjIvKvXGtrRB+D2/W91Rr8dIVBGK4xcQBiiHX6tgVNdcVtgctIL6h/5KLDcKOd+d982Et52UUJ\n",
              "PtUEQ3IXwNVl1+AJ9L/jz/gUs1orhzfB8RxlhZ6eAjnzEcjEhaNwHwd9J7BHf8mJbwOglaRX7C5p\n",
              "YDbi+SPh3ixsgUVhR4AKUANBFvDyL7vLPwAAAF9Bn29FESwQ/wAmjdu0cCIUNRGtZAhEEcQsbtHC\n",
              "kByfAepxdgwKTU4ALDbYuZEawZE1E63PWbN+Av7ub3NB84oimPMacGm+m5GLG/+u/r1jqXTmdTzo\n",
              "Mzce0LFynjj5gAAAACYBn5BqQ/8AVZMOhkB6wXfSHH9Ho42f0uzL2Hp3kgI3rsSZ14E6YAAAAzxB\n",
              "m5RJqEFsmUwIJ//+tSqAA324/0Ib4gtb2u8iQMG3vGCvEf5s0FipXx3b2GwS1DnWQA5oYkwjTRKG\n",
              "Krfa/m2/GRXImhN2bEaBYpLqe7I/cWmSI4yLdxeMi+Rslz++ULPBb+VULo9x2HSJ+n9Ikt85QVzs\n",
              "1SfYfCa6eWd4hk6A5RMycnPSGtWi6iPW8+zbw2nHjF8lrsQX+EDLXWrJV4UMmiByIfl7nJyh/39E\n",
              "XsN/Qu6qJ02yJxl6lFdWj7pzPdHEyBqwJt7KqWsncygqR0IDhSAAMtaIxZmxO3eOfUcFI6Js3RNk\n",
              "SAg6RNTfLFzanIAF4pzrgzypuuyZSnmytL/sCUVhitLQkCYVbYoIa93xKXSnfO9YVyYVujENT3kP\n",
              "Cb0pIHgQcGT7HlG6QfhbDOSqN6J5dGDn5rqbpIIsB3MbbIyGhWp3WAweA5s7kvNMLZloZ9NQtph1\n",
              "c1M5hCis3HWXvdVrKWh6NEGekofQQpsT4X2Sc1IIfpHPXdAkw4QFnBBoE//Kmb1UzWElIgAF1hde\n",
              "K4nF86gf8AcytTU9xYXrkIj4bTC7Miuy7UAjDOW/jMa7deUc8zZ2eOP2GZZDe+z9V18o9Nwnqo/O\n",
              "L9edFlBKP97WiXkj9/56cVkPW/NUvOlhLktdvKAm9iDxI9Detk7bS6hBgFqQksspy6ZYyKjQxqox\n",
              "WhurWU+UlU7iKC37H8Na5uxGeiGWZEC7TGsx2lIATkSir8nNxVfst3+WSM10qNlpmBWdZcqtxix5\n",
              "D1sETWIHMFKWfeT/eXBEZMgwxUhMksMUjUyBb+DfJMxN3IdHt7irU3krPmYCJkqKWzHNZEBcRjiM\n",
              "4HS3b1WMqkPQqX1ph2rcSV07CxPPrXbjsDJIokdQhXNsqcXl2gkZHr/rL2CkrMRYv7r4CbxGiwKZ\n",
              "zEQkIiRiHovbYhUlqLJYxJA0ztlAYqwoPQ9EFNzoAHW7Y8+dnpppHMToLkfAKKJG3IpMI35xM9/8\n",
              "brSDh3/7LqgLnx0C5DNMK1Iywfyoj/9PTslX9fJHYCSCgkWIdfEAtmT0dXZjfI/+cjMryNlLNj0X\n",
              "KA7sDl7CigXzG9iKoZQ3Dls+3x969EFZnw7E2YEAAAB0QZ+yRRUsEP8AJo3btILc2wOMvPS9dZi4\n",
              "fLOi7NotN4BH35gAD9fdVPOYQMA48MvRNtZyb3Su6l6cbzsOoA+GnIYTwBeGW3MinfnZPbXv1xU2\n",
              "8I3Z4NIqBMYrbYeIuhW+rpFbHEkeY5bdPf9Fly85gAILfaAAAABDAZ/TakP/AFWTDoZAesEdM0yZ\n",
              "3/NJR/RL9KMV+Dwi7NABZVcSkgCGVI1XzwoCMnvZ9/Gjz+Hhx/+WhuL+hUNoT4dycAAAA6VBm9dJ\n",
              "qEFsmUwIJ//+tSqAA3k3URfRMQDG/91uHoQ7Vc0CZ8PrJ2SsmiaRbHwFRvLzAlvLDtiOBetb707X\n",
              "7ih6IaMXsU3f0EOQ/px3CM/Pc30vX+tFLklT3n6YYGcJJt4qEo0Zg5ozzaF9fCgLKznSwdmVZZfb\n",
              "da40R2htujXavcV5R3Ru/dXw0HxzfePCysXKQVoTGC2KQcuNexUj4RwrzOu3kveD5EsFKWyAKs/p\n",
              "j/QJ4QX4T3E6JhdQy+1LdaiDSdkA6T/sZ4SMdy0S13rZiD8HhHqj4XKd4zYZ8SoYX0i4yhGy4sQr\n",
              "/oU1mY6Z+ugi4BqM4YE0siapM/DLz12Kx+Ujr/rNzi1Eu01kgnvb74wIif2058srdbkSSLSdZcpk\n",
              "L0+VlGZ7aTflFBHpPJ1gj2VqFa7r0Khxp0IU2ZEOP5OScGr/kz70b91pjXxTMQ97hxbOmkE9gwnO\n",
              "HxPONz2/RFMEP8FF0XVKQQrcDErnHwZyUtb5Fqo1NPt4eS79bmP4eSrUqYY5q05iOxcbjvbjwVGH\n",
              "OeIb/PKVsVXXoz9PFqW5BkUN7PL38402muCSQqXOhpSMZp2HaZTrUvfQibB7oEEKDQ+f6B5OvDBq\n",
              "OsKSLZKpFkAEnTw4xtJUG3s2+HvVfDDLfWnZe9h9fl3B3FO29RNOB7J+DB5s30mohNTQhdeKCl6z\n",
              "iyF8aX5RUX5GlfBmfxHDY19ntqZ75+9fGxk+WA31uIMoZifMhaczbYmPnmdZOtpXdlvp+4u7S5z2\n",
              "BmAJiF6yMPT4ulTXS7QQUGPRwpGa3BXyQTrpDs+vgxdOxDsjMt7whmQqkXpqoB4+LLJA1fwk2a5f\n",
              "MdpM7xT5638VtIaWQSTdr9BdJsBC0V/cZeN5AO6U7T48GlqHGvoS/Ro/9of3f3j/iOtmXMFWzS59\n",
              "rJsb1OJBFnQg+tZvIC7c9BagPsIOVFzKOLKfsI7wifYzMYbPKCb+wmUX2qIH1WPhk8rZxe2uzH5T\n",
              "5Di/iba7Gxhgrp/ATMd10ZQpe5/K5NbHN2PVMEWsKRW2qXuyBQWZPwJP8zw56Od0LGbZLwqdLTbG\n",
              "kY4ENFJg5PPsBPgv+OwCYIHY1rZOccteD7ERPqf8uaL2FcJGO68NMk0hCc7F30erZ8WPHzrQBP7r\n",
              "CUUaY7Ik6yi/IU52YP19SJc+OQHXlO1c0fnMp1LwgaND6hYNIdeQbgqMAa0Ka6vLtig3qbjQSS9T\n",
              "fd8DP4QSa/MM5Oev2TJIsbEAAABdQZ/1RRUsEP8AJo3btILPhX8LEAxBA7atb6veGKURe6I4qgsp\n",
              "rJrtxl/ib3MOmLmyy3pLJALzHGsRs2YVW/WlcAyz+f+3OdrFTnYDe19PLhIL6pc3Wo4tUAZjxnWw\n",
              "AAAAPAGeFmpD/wBVkw6HL9+xB6AFD8/vySv3P+VJhuZ3hDpjK3LZDb8gSGi5hn98b/gbOyOedk6L\n",
              "wKCwJwaMKQAAAnlBmhhJqEFsmUwIKf/+1oywAOOh1FW/QAGn5T/Jx5r1f3pfYb5+I81Z05wScNc5\n",
              "sV+shH5zX/Saip93lsA0BxKWUbcOFfMii2IxaOhn74orromlhWrpXjx+t1k9qO6ouVlfr9OWcrk/\n",
              "4E2OaIP1RZY/n9iCiaGQNnp07KhjAGZle3Kl+MHfBwfpw24NqCHovA91BI+a09uKEMuQarLjHrpa\n",
              "Y1p+QA6hLAXQ7jNv5/ZhLEeHWNX9fJZpg1YZuwPuYjWiH2/oFDhT4yi2aT4KfTLvTlQhepfUW+2l\n",
              "0ic6vMHTJ3jgp2A4qGPVQO6K8t6NTnBDNUUQqJy9nOaJ9FGM4XL2XpG+N+1/GwqyQvpEkthJ0ljQ\n",
              "5yE0wgeSED5B9TDYemvM+AIYe9zdvKriYF2giSJs8poNO7Oen4TEIXotFlvOMTJ83HFlsc20PDE+\n",
              "cXTSZk9yc8M4Rntfi0F+Us6/aP5+WzK3SZ4IDtBiiJJSlLCBJ7s1y+qNtfPuEbEN5qGq9vNgRJT2\n",
              "fPM3eWnehr0kgVhcWlAhDJHu8lRU72+NmcW/si4mZD5V/yXyX44Gr9P/qy4/DBio2guy8ET8u/nx\n",
              "OAEoQit5uM1rhHNf8E8O0eEmQzRke4qH6nJt7DkbX3NJKQlTECjh08i1XoN+xiDlOyPRNb6ZJBVU\n",
              "RGLQ3u6eb4nvkoFfkB+0/Z3t2WwxGW8ooB7/o+lcd8q9tTBWjjWBMrbFxm/ByV2G2Wg8CT/Fegiy\n",
              "9+IihVnPrNOQK+Jp4T9KWsMExfHdc2BtmQ2wryQcOms+m2u9T5YhZMAXSz6Yg3jdVN0VfwSxKY6I\n",
              "76yobdDWsInmdhRo+ymPW4EAAAMjQZo8SeEKUmUwIJ///rUqgAN5NOcEtR6pYAhHjpPbmnGpLLMv\n",
              "faxzVklY9iNBi/lCUIbQj4xDy1L2sIv5qtC4IBlMHFy6OPp3HUla0bS6m/Jrnm3lmnUfZqjbthVM\n",
              "kahdPstZPfhW4aS7WY2NV7AaA8/2ERIfKc4wSuMR49rSb2C7E+y4lSvPo8o/qAVg2SUbUU2W25nM\n",
              "aE0MEsjr/pfJnEYIG84Cv67Kwa32So/0GENMp+p8BD92hAsH4q9XTB1p/TlHHPQWzjGpzZDCf01T\n",
              "BQmUlUbqaRxgW5uHqZg2KE6X5qXkAK1/s66BJvUqcQ2ASJ6Zf1QJiAN0J25e/GDyrW4IhgvQ1vD+\n",
              "/6WuzR/4AToDi/xVU41M6LPeDzF8Mc6YslfR+MoXCOXipK0LjEtvvVYvwhCfdwkoV+bywkbVrunJ\n",
              "eC2DAULZUXzQXWShF83p/ca4V1SwYxGIBwG6JGjhJSvCHzAbxB5++nhhi/wKVDza5DClTItnIfwj\n",
              "3k66TthTsCPN3zEt9Elc/OskKdL284lW/ej/gJdIzx00NYcUW9TkoZI+hzWzyXYGnRMxEWEFj6QF\n",
              "HK6KbcjxRvknEvNSIZu5W4RTPcIjfgMmu7UQov8oiovOnFEIT1hpjtnvTjDdy98z5EOstCELI+3U\n",
              "8kRUogquD+ba8QE1ifxbfVG5JWvkXvbHxx5Al9Du0LsoYTx7YetaAS8hZN96P8Li9tyQw43Pc0Y9\n",
              "b8b4i7/8d5hFbbfiJKPK1bkwlsIr4lmYzSfn5q8Vz6LQwapEt7WvIpY7fir1mOhKqSCTg02xD2VQ\n",
              "pkE21otldcGmS18tggFCvjTYWMddqt15SUVQt/t+xSFeBE0CX7NewyHXCPLM8g9Bq/VuzQJtu/El\n",
              "nfOQkSTQgiw35Eb3usKP+YSlexUinVmY2Pk0RgT3VexTgMciDNL3CeTZjRnNq3VcW8bCe3hJsqZS\n",
              "nVnQIRu4R3uY9LAVSNZpjNXZflA2JXbcjRRQF59cNxxyzbDFClNzjw8tNJBmz9wZjbXlEb/El5m5\n",
              "u2GB9yCDPmTALDi89UJeSWVTgBqAhTBAPuAAAAChQZ5aRTRMEP8AJoywGEKTn2XtGqAAbe1psbUl\n",
              "JmWsVcB5VVHp2cSTmJ8lc9KXEnbmIgYA9vZ5b4EEweSP6sMLIwobjqh+Jz1oF+gwS/dnx5NEPLmb\n",
              "3if+erR51kk1oc6rOYyZqyJ40RIRFDAN8mqQdkYfHC+423EW3YypaxuhCdRd1yLZK94V7RwiwCe0\n",
              "n9/Hbmaqk9tU5+ZDqhnG4OcKsHEAAABUAZ55dEP/AFWG++cplnGEGgA0JZ62fQseTjR0ptnT61LN\n",
              "ZN6jAR0ADurlrewuUA5NSZd3VRujElblg+MYbG0ZOd3nSXqPVsdEKBzCvR2lQBRKGvmAAAAAYwGe\n",
              "e2pD/wBVkw6HLgl9cWCACMcKKPyEBK8GrmfRWRXF+iUuUy7jezlQQVoJaA8NdTOkUxFecF20aY+s\n",
              "X2wKoEQ+K5e8G3+smKgVkT1VuG6/+IoZmLtfP9M7IFXjwP2PbKvfMQAAAxtBmmBJqEFomUwIJ//+\n",
              "tSqABvNoaVV5e3jq9D7C/8DVj+M0lBixkDV28auDUnudZrx640nsNDd0UzpwK2rywEmeLg92sxmp\n",
              "2yjMrbR5net53BURLDth2nqBrU2AJMk5hXjDiLCD3XZcSWOWg4FFIpKkaxwnkZp4XiyxRnveOYGa\n",
              "zgsqlJW1fyapc6DSRYCiz+cweOtP3Tbqt1GACi0owF/bawNEGVLB8bQ+xCpWS/Dt4p0U36/S/o40\n",
              "2BUzK/tjMpfqK3ZGHSqZPvuewZX/fA3B4fkYglYmOsDen/5RJygKKY8WXDTiyyiBvT7el1gXRWva\n",
              "jOgvLrBWpUj29O4NtfZvHtVkLM43Ne2JGIXkLjyR6a+I0Hb6Y9kwsUcEtJA5Ef+Rnws2uyF4WLA2\n",
              "VRzETq3s2JpTySTeUT0uMjMniT49Z0M67/gCF/s7t0KZJOIXScE9nuj2InAms7bQsxlAZrPaSrqm\n",
              "YuFdFJb3AkwVlaWf8snIjPqlOkwsXsNcfboB4p2CEZHaPWbDARPDaubDptmi7KnwVhxiKJDXx40B\n",
              "dAq/xI0kx2XkOt35RoAbu9pY44ItkjoivKEdfReSnEqk6zZGDUF/VSTAXhuV+fbAtaOd7d0ipiQf\n",
              "vihjBzOTUjsynTmbuyYIQkn6cJCBLx3JnBwiEd0LSBxdwrZbg9NHqVKej2Aov6neLdsnknEVHy8D\n",
              "jQ+z7Di6KfwWlotnaYwdxUSCpKqR5kw+ErcRpdhd7eUmzXZpW/yOP+hkdYGlN3h5k4OCbBpcnCL7\n",
              "md/XRU4/ySAApnAsmhildg0xOjanJ0l1dBMIPfgtd6HH3mrVR83n/L6FgU+W0x7eE2EDnf3tLmg9\n",
              "SQfw3Z1Cn2IYmJieij5S70BF7XK5v6/LYHW8S7D1NtwiNBVGJqXGBRKcQKLf3b782cDRIkHB986j\n",
              "hCfVHQkB+LleCAbB7JVxKKRQHAKl5IX8dn6xSVXh/QYQF2uJKwtQbWXMMwFDsQEfUlsLwtu3ZwFU\n",
              "WvBI62zzprUz9A6ikeGLfMWozgPeCT/E/aRXJ5PF4TrFmXJNWKsNsC0AAACCQZ6eRREsEP8AJo3b\n",
              "tIJWdlix1i0ABDOXT+Jqi5IZ64DppxMnFMuEiEUSw8BDSLrD+jV6I6kuE17YRBx6ZNyQdLjt7Mx1\n",
              "FVMZfIF2Rnb5sUjpczv9gg6mhNlrnv7ZPB+HdNe+yU9oxwu+jCO35L239b385KX4RzuYND3xPwAU\n",
              "BlDEPAAAAHIBnr10Q/8AVYb75ymHXd2Gi+n+O7wADjgijPHnQ/VP6DiISLqvq+pCrIiQuqFIz8P4\n",
              "/3R5oxDtH/tFQNcd11v2peg/hHTs2hWsgg+Rdzu+RPQMJQRbLQ56HBfxeD7zRyqTjazjjIEfXvmZ\n",
              "0o2cWQt7Vm4AAAAzAZ6/akP/AFWTDocv37eZQARur1K5KW36z71N9+2zBKB3jDFDYvxhhh+fwyyh\n",
              "M0Nu0FbBAAADDEGao0moQWyZTAgn//61KoAN5tHwAWbhrc60C58hgHKq4k53i1BYgJEPg24KZcSY\n",
              "SeE1Y0J7E80v+S7visGn+Ea/dig5qTXvnXVyty3aex+6l7dTf66husiJuaPa0DXTHOttYVHDCObV\n",
              "7GVtPo7HUrFGo5ccL3w/pEg+dzY7nzv9W1E9OHYy/sy6bNco8dOjdJgRNiEL13JpwVtCoE5YgWCh\n",
              "TOfRYGDon7qYlQbGa9/wSqoFfvZGjXAZ73oSyz+7FY7xq2Vxjxk6mC/G8CZrbpnU9nnUeMcNG0v2\n",
              "xqs7bnr4UeNwDXaN+ssw5YoWvJyrCAM2pBk+BUlY4IG24hpWmTRu7cTr3mUG5azrTCdEE/4icSf5\n",
              "ObU1DKzbBXZ3tDh4jGvwNVST3damR3XUQ0NnoVKBKadBA6/tU/CSHzmSnCCnro8Ex5LeyOAsQ7al\n",
              "XnXL5hg5GndjyP6DeGxhELOwvRdC2Z2eb3b8OQIiVQB2Rf/X+e07zU1XlwS9E+8suNH3I4Lhb0cj\n",
              "Q4Gdls9UDXy0sl2QLEkzcwBOxvuSmGq4CtEQbAFjToC7TlBEYFOfEttoovnj9tJxdFuq0Q+nvDZV\n",
              "I26k6T9/IopCHomDiB5eD7L6c1bLEU44cZTsY8nuffrd91SKPocXU1kcEwdVsR9wxTjDES/zs5lf\n",
              "N81HeG+7rgGtsm94LB/xwkaszyLMwL/ljk4oWO5BtDQo8LsWWtOmD58B+Op2kHOzf9B5xIaYJ3qe\n",
              "hknZg1lUHFP78TJREZS3EUgceBjn3QOY5nIf/IM6i79z+QewNXV2qzzWVr2Eh+jTYP8bYTmFt5P/\n",
              "wPFu5oiyapwd+54OWAfnPmeCOd3WXtHY7CzUW6AkD5DhI7OfvK2ufH4FcKQS9PGF9GvOdrijiseU\n",
              "wLMjuRXCjuZ3+/r2NXPgvuczlB4RBweO/h4CofwBd9G4HnzEvm72LhzfDDQvj1cp3p8h5SoWXBZx\n",
              "RZ+OpRUDBzRstkXZXlV3LqzCLVZSo7Xpo+80xr5oiyy24414/TrBk8sGbGT7KNYW0wAAAF9BnsFF\n",
              "FSwQ/wAmjdu0q7iGCuq7pmNzf5fL+BUqwAr5gy6j6uwvWBy5AYjOiV6d9vf+AdLaFu2vXc6aDQ6+\n",
              "0Rj7yUnfy923u08On6i9Xwclm+WkA5j0ZDzuP1knKQc1swAAADsBnuJqQ/8AVZMOiUKdoe6SOPOd\n",
              "LqQJWKkbpsbRaROiw4JdBQ5BmLiTPRmU6klyOb/Bk3+toXv+RFbOwAAAAt5BmuZJqEFsmUwIKf/+\n",
              "1oywA48ERABaPHcyFxPc+EZ1fWMlkDH0ZHVeW4lQG4gWAKL1xoDJY8Za6qJSGTwLEVOgazO1vDfh\n",
              "ZFdfcgM4H+yXbFo3WGvHYjGB1mvwe46xOEUbT3ZLl9A+qdvBDApdfXZ2kWF5+vD7gAuzEy4u9svg\n",
              "0GJkZC1hMgtYue3EYbKWg30MfemwDjSiyFelgDWO2sQts3lqcWIHOxIeagGRq5atNndkTIXeZxbD\n",
              "13dVdlchuEsAOdKBUyJUWUT6Q4fwYkLG9j2Wgg2YKSdakHYNcnZWdRSFxFvtj0hKRHfo9/Tj3Vsc\n",
              "4Op6VYtbKebZA/k2TpeQTJqkwFclhkCbepR/qDO4WzdIftlYXpkiiFHbzHp8bGP9W6UpQ5s6RVWX\n",
              "dZfMFu/bkVIxa+nN8vHehEr5AJpzoUHFOvfy9kyaRthNnDxYPalwfQeysyCiD6ZWHgAcNKgmkMkk\n",
              "Fw35LBFMTqYZTn2s27merKeJdovOpD91gLwMgZp3IV0agwVMIev38q+5LzcywVMFrgubOvtlX3BS\n",
              "M1e1iVudLmnnPLiHrWcAgVf+9eBVnK2jB+1BHC6OqRfpQoyPRO6ysO5jtq07gYKrPSJ4N24GOReH\n",
              "JVl0tDIPYyYF9+Zkv8WAFCsWpO7h8KtHBUULXqmubEJgb56o6mGFZjAS4L2GL1CM4JrEmXPJWhYs\n",
              "eHkXvoBG+252qXGl9t7qmYiNDFGv/tbbIWj1rWMWqpzgU/taztd/1TOb+PVdCGCARPsJnCimVgch\n",
              "6Bo7VkmyH1/xtE05jQbeeBVM9St73rIJ2o9rPp7U64JD+GxT/XWqTSwNr/9sHTFCrhf35rprui6v\n",
              "5AEgPyTtUK8AEZr2spyP7Mljyt+jvXtaVFFLpFex4auiQgXezc+BhqoU5HoGiupskPs2qWc1sqVH\n",
              "kIOqCPDWArpWKUG4skEaqa3SDoh1y+6SvUKMn2tFXrwpyPaBoQAAAHNBnwRFFSwQ/wAmjdu0q4nK\n",
              "PnQe7e+BfyKYyGrXXgYCwETnpbbAACc1Ad/0vs3uveR7VesXYj6LocBHE+O4oYnF30NLHOWRt6AP\n",
              "RxUA5nl+BkfiCIzWWYlhiUIJJMYWNHDpCgvADtwD2SLyeCf1piKm6oGzAAAASgGfJWpD/wBVkw6J\n",
              "QZbE+uw7uDma9MW+ERr3xeqLOk9qfzal7+jqR2e2dCCeP8R2spaFI9BGoGk6kxpAqAEtgAEW7kDU\n",
              "hlqGyCbhAAAD5EGbKkmoQWyZTAgp//7WjLADjwREAJaQDXblPBHv72/uDYefXttwm4x/nJx6oRJO\n",
              "SjXIRm4hSWaBr6rcGQ3hp+OY3QxQbyBRG8NlupC2SyStEyoaK7nRfjJQx/H37SucKJFZp6NTP/Rz\n",
              "nQQYF0lLAQJYFZyU8G1A49LI7OxTyU/1lR9imR8Du9YBr7GyVLa1tmck/xBrUnAsUjzyZqlAgc9T\n",
              "eEX6eSSokmsSVgjp1v1vuaXAY/09QSe9nRwGhkouHaGX6ssamZBWOMr5PyDZz3HUGp+KRXnRHRPn\n",
              "a9hhgMJEA9i2v/4PfJp7H1rJWBtRdPH3Qf6KYBO0W4FuMQLINBF4fuQyTY476RLNYePZmxyCJy9L\n",
              "vKRvMyHrHdB36toJDzFMUAwV2yuPlbH+3QPL+FOa1jug3MYR/fuX2ZhaI3TDUgUulwwr2dI2EXO+\n",
              "PQQ755J+LJCxSj8B4rtEP3d0e9bNRDk4iyBKT7RK8rPaVukZS1XchhA3OQA4G11pK3lqmkta8qaE\n",
              "7RwnZgxr7ZFBfEpP+qMysOglozFYIIPuv/vIyHssgphxQU3IsGWydUZWr1ls1OWcMH2iJYaF+v3j\n",
              "mAmMUM72rqPG0UPmIt8DcoW7tpktYpdHJsnwGvughGxmQHjRSdn+HtkocknZl1YnWRgjmrvUiPn+\n",
              "+KcQyVL/FD6lc+K8otsfcG67SK8pLHtTD+ulPyCwOHAJBSc2maoCzIKl7fl3mPSIOjx0rAmW4mnx\n",
              "jGBSU2neACu5bWyOsoz6EaD25Wm9V9tJ37ZRxHNTwAaOX+0UNGTKXLYbIfymHbUcxAeKwSaZdKjY\n",
              "qdb80WrR922/MYngHMMch0xPCXn5Bkd8tf0kVPl/pMQXAMFsdsUREdaVRKLtLiDwgEtfNmYRTcrP\n",
              "dtxlUSpCXSC/6bnPRs69Fna7t+JoRTRK8M0az5B1ng1MEKhRA9gACI3GdNBggTURZ86VkPAer9tm\n",
              "5h9h1txg4toLVUCOW5dU74/4O69UN2ZV1BjcKuIwD6nEcgq26TTWzU37kuptY2cPhXBpNnrgdunw\n",
              "yoqCuMLMmyRWW6BYsTbw1TkNpAhA32lwjN+eCs1/X9dXahhNKxgDmUvzcAaAFI+Cu2Lr/Bq95x0F\n",
              "XO6Hz47Fl9kWofUopkkwFnC/t7oLaChb9Ki1ffVUp1kOtR4JUk3d6NMuax6Lk0unC+BJTQqs24pl\n",
              "QAFHAzA5e4bO9PgD96h+VSe9hPVQN1HZyPvJaeZ+OdT9MchiE7PX1CC+iHPLk+uArZijAfxDhqyj\n",
              "IVpSPmBqpXC7pSdTNVqTO8nJ7Kp8cxOHxcKUJh1ugoZaQjqMGwAAAHNBn0hFFSwQ/wAmjdu0q1xO\n",
              "xn3wcAIX8gOUX21ezokjm2QIL7XQ47DBo+SSyBkXzhQBDXbn27nlyHzgNU79NOvJhE5GZC25zpkK\n",
              "T4gji4NLznxoj/+1wzjyguQdEjL2VEUuNR0JpxAECMKwgTl9Gjw7SunYAAAAMAGfZ3RD/wBVhvvp\n",
              "QpmwAcp38yg8sL/V/naOmvuoLvfOD+8nlTpgbwvkG+eNnDMGpAAAADEBn2lqQ/8AVZMOiT9rJifd\n",
              "cCroftHGmFo0iGOaP3v+0OLh3yjWsZw5z1A3FeFxSSLhAAAC6kGbbkmoQWyZTAgp//7WjLABx0O2\n",
              "jxLLagAOjanOIKFGG2xHQvcyMNKAJIxDIb8Pb6UTurVAZ6Q4q2JINUfpg9pGjrQMCrr8E9euj0HP\n",
              "EdWf6AI42T1o5W++/fBKpfmcHscOVYCCATjAwZSYnPoompijsZTF0bUkgQNSDCkZQIm0Yq0qxoFk\n",
              "rDWeDNBfb1E0uT4r5cLZrOcvPPCHvslN750ECJruxIvRKP5pQp0501a5Wtbnrw2BCvAgULX7pgp7\n",
              "W9xKx3sAlMAOhYcl4+Rl8ZGv4lBRX+fMavGABBcpuJV2xc6kvjmV6vHs4LInFj7ktH31FlumesR4\n",
              "hXtT4FMJ7KDX+1+JFL+Z+ITkBWkN+JRlVkprqiYZFou01CRO03xGZl2hYWJpMgz98bSh8wh6R7CG\n",
              "kHYJaTW6pPzGEOtwDUhDXnrLORTtshZEIeKKl6LjRlMsmT8hU3SfgV76ylD+x5k1+Tlg8mu7VrVj\n",
              "IHF5TwtvyNs27mbspO2YFM8VhpfHwMkGFb/vrKg+z2XDIf5ZZm+8YODAJu0df0aemjZofD0by5w3\n",
              "vhQ8Olj1b/aG8j7MLvjdnxRLRZie47yuOZEJoNvAFcckQCnzIzgIbZckQyydm4tQO/cszWDxYZ4o\n",
              "bU3IT5PgJIjS+Yl2ENUqcc2QDQyyeVwC2n62ynlBNr1ZT+MZW4CHxvObxzp/O/MJdBRygo8nZEFU\n",
              "epi/JTLwXIYJL53hsxRuUD931jwj/gOLS9ZmdexUExtAL2s83mKL5Kmp6NFWoNaAAAH0fAReqqyh\n",
              "qGC2fUtj+jLklRpEv5ptcbkzRe6z4RAFcstB3IVDl31Vem+C7kI8vKHE+ShhWbp2AQPZduHh+a04\n",
              "m3iWZHT1Bq2s5f4+sdcypNXEVs7BQ97iIWi9DSXNb7irTPpIrKsia76KeYlWUBR7A6HLff3l1GyR\n",
              "NdesQ9DvgsiABs+ogzkHZsjX3+EsPIte+67No3TNXP98Mk2pj8Tpig/gAAAAX0GfjEUVLBD/ACaN\n",
              "27SrbO0/Z0+x91ydKpcmASHSSFGjNcIJrKafp7EO02/cXQaJJeY0rtSL1dEuD0OABs5Wm9Z37Nb+\n",
              "YhwyMUBg35pOESnnPo7IYUeKLVKm1cqQpKKSAAAAUQGfq3RD/wBVhvvpQpf+cQjFwCLMgIiZd1lc\n",
              "0bEE4dzqKKAi9MEzeBLMHhfOgx2iAEqed2J/Nw+ZoU/9n0cU1DCl/M8f20p9VQDKfmOYE8VFwQAA\n",
              "AB0Bn61qQ/8AVZMOiSHqOwg8JXD00F5VtNvgcnUKmQAAA4ZBm7JJqEFsmUwIKf/+1oywAcm1VAoD\n",
              "EwF/igT0xefzvFmAEuRXoy0Ji1WZ1NmW3fPM6gqKxtLHaA7DJU4xp69u6iDfV+OyafvOLlR7udwm\n",
              "DJW7i9F0m/tbe9fJmMdGIsi728aZ0yQANOTiAN4Pa4r13hotNw47poZFK+6yY1HiJ50PkBkE7+F0\n",
              "oAufrPP9ks4erkMm1s3KI9+4/Boo38u79Hc+BLnQBEYixI3ug99kPYoLiJ0dmvsQLv9MLZkr/t41\n",
              "jCbLF6UnXWstQ2Zt3DSaP+rdOMJD7/m3QqZZg0A//WBqpPZAkN4MUAhd/0OqdmR4HpmfjnyzS3qe\n",
              "5sQa6ae/mFSyE9F3rJVuNcs3c2NHAG6FqgC+PGVHnMbeiTk/GlgbcfAl8LK2lMafeaN+tEH988zy\n",
              "bkv2ZFT6Yz4X5M2rGfaP2wNsXSGlzpWzziS1CF9azUXGO3zYFb8zQ7JJrehqoxgAcfoqPtA04SK/\n",
              "HoQFO9GIlhwTgv2pl1KSoZjj6x7y5mPCauZtCtBlqTK8eWl77/G+pIIQlSdClyO9oC2mjjawzssu\n",
              "clFwZrGXpOoILov0MolqO5pJlZ1TF/KR9r174HsxUAbZf9Vc7Cb9DcqmL5XHAwBWVksCi2O/Qhg2\n",
              "4AzV96m823YEBB/ez//rMPpD+TfY3Fy50n6AhwgBmuX+XgIhYPD420SttCQRwP4G8gHCOY5aVNSM\n",
              "yMCZ+IMd3q/0uBFRFB2Mq7EL8tCH0v+NaUKl0Lca7GuHmuccm0Cc8pJHj405eprkOu6AndbaWQxF\n",
              "4DCWemdXF2YUS4jstLjHaIW+0JQtjH98Pfpo4Q2GuV/9zVMCjoHVBRdPf0MwB3hOgJZtg0U1HDum\n",
              "z4SnGj3pr3fBdrCMmnL1819i2db59W8qUNScj1+bm3KjWFiHlSPU2P8Na8p43JxU5ZSFnxxEPaXE\n",
              "YYy+PUzRf0KDptkjP69C/Zv9Tt/ejKYPOK8ZDkYNBs1Vap7wmoA+pewPhakdhDdyDcuU4HAgI18P\n",
              "C1+VQJokjta4QRZix4RfNSk9Blp2VnAV8Gwj4n3OlNSTCu0pg4BF1Jt4xnqe2maFRJ2Y2jBuAK6f\n",
              "3S9JaLoPcQfennFd1kIiRjROSq4nXZs2A68mkOSSXuLAOlf7Nk4ga5Hvs1V5INYUcXNLS8sjmJp3\n",
              "aytxYJp3DkknhIJEdP1WFzxoq78iqXeu/QAAAE1Bn9BFFSwQ/wAmjdu0q5Gl7qLri7hPKpYUTzr7\n",
              "ORynE7Sxs2+KcAG9SZCI+B99J00BzpnBdPSJL5X/k2SO+82wcZdwFsCMwwB1pxjugAAAAEoBn+90\n",
              "Q/8AVYb76UEBKgR0hNhdbuzzdyXfC5XqvmhWAvpF52gLuBBFb7ZF7+T8ffpWdIv96TcBfZ+al6t/\n",
              "SKt+D738Qv0AZu/SLgAAAFIBn/FqQ/8AVZMOiT9K98pWgCLgFvcluq0eOL6l6sxRKOcQYcN91RaC\n",
              "GAFtjaznJxTVj6jBu3LMLnKwPWjX3YYq6saI61iQCI5NrXhYU8ilNWE3AAAD6UGb9kmoQWyZTAgp\n",
              "//7WjLADk+0cCgkCyq39Nn0/xiAs5FrHLN1RJr0jFHZBk3PeXIU74AqMfKZewRlf80lfW0l/wSOg\n",
              "8PHnpd1PyB50ZzoMtmD/9tzuWTwf9ggkGdeqSN5zecRCz4zenJfy2BkBgY07jRQkqo7t4DFQlxKP\n",
              "4AbzikeRR4Y485pYIasvbdhM0Ukn24JbDyVrc3N1Uq/vrxN09/D+qiTV+NWnjIYhlt597v8S8jWC\n",
              "OZ6H1/p7y1vqQsuy6lL1F6ymcJEXsBI/CLyppoL+a6iNeYHOVMeBw818EY6sXdFMmXFrbPPJYLpe\n",
              "4ykALY0H2wEKD7vr061QfNfwzsPd4JcU0UMTJo3Ibs0TkFMDKF+tnXSMmnHGJ0PcAu1x+8bCIx4Q\n",
              "sJORHa/K77feR+R2FMKSejwk3qPLSdpkAeeQjpqoaFUmNHclp8uzhJUfUXAGNpSNjqAT8Vp9wmLh\n",
              "U3v1JN/7UmlUUBt5D4egj7nnklpkBQfuFJpWKz3r1k+7q7+RrJcQcZmcxM1L+NpMLxL6rxn5trB/\n",
              "8RKiHs7YwiYv0sVQUgH9dB7qix/kJTjUk1Hav8ETCsBniGO3WhXQLhajyUCHOGagUC/pCnDUudMv\n",
              "7WBysqyYe3vblJ2+SllR+yzbIlHill8z8yspbtUDqRSERsS+VqqGjHwCiHLfMjKSMCOB0VgwWUdY\n",
              "2uXNN/ZKm8uVZFDui+NjgBbrKWXLp36+mRkos+aNWUsEUqsYxzxsdvNG4b45bpcdV4EtDkBn09/s\n",
              "Tu/6Jm8JhDSM6t8TyCS2gsdH5HTEZg04j2XhUMMS3IYxwjdLmPhsZh2e/qmdr3S3jQ+q33ZeEdxu\n",
              "Jz4Ski8U3rvJ3oO8FLfQhEKo4kfJ1xW10wSUyV34vFJ5LpoPwic4wgdcNL1TzXmvbhUm7z9vC/Ff\n",
              "77H1hwN/aNgPuaeULjhkLeld9F5bU+c5W04Ey3g/wliaP+sv3MC9HD4PUIuIa61o9p8uhBc4AJ9L\n",
              "MkDU2JYxu036vEN3cRNSNmTi9xJcETRAEzZ6o6vllB3FEyzFm2hI0//oeHldf6LG0JYd21NLVKzH\n",
              "UurmqGLxD90zhuNgBzcK9vWb3x41dj/NG1fkghnWdb92Zlcu+4FSx/ob4xN9JOpmM6T9ri/U807D\n",
              "EOjEBSYsFQegEKrDi0l1EyO+6O2v9N2DgKj1BBUUijZTUVJSTKTbsU3VUdAW/GVtC4nz3ZRAP0Ko\n",
              "TdtVZu+q7nE4tHwgsj/eo6D8Tgg7FnRGRtIkpwmg+bEfL2NNExNB3LB8HycLi8XYrqZI0barUvaL\n",
              "7vHIXIpMR0lx+zAId9YwhGHd+GNAAAAAbUGeFEUVLBD/ACaN27T8c1uvIHamQSLzzO03qvVC+s03\n",
              "ub2Rj+wHyoBTfmaAFtl8xuDMqapa0mhiT9M0EOESuLdkRHRUF43620SaqlNOJ7yo8bEqs3okTbyD\n",
              "5myshDyPQQo7BKtVKHHC/cnj/LgAAABJAZ4zdEP/AFWG++1iBCw7CvTzBw92pDHoYqUq1u+oMTTr\n",
              "GrK5Tumj51AM3bcABz03prBLaaNC+yrg+WTfPPUsS/Mcg4+XFYgxYQAAACgBnjVqQ/8AVZMOiSHq\n",
              "Owg8JTACB/Oz8LppA9sUTuyTl+CRE14nfAMKAAADTUGaOkmoQWyZTAgp//7WjLADjopBYNnABN/u\n",
              "XG0o7fHgHGkigdbRv7ZIe9IlLzwUq+4VKyXI39sLVhmtwommJCRur3xUA6dZjjuDTxaD08gcXTnP\n",
              "h7WWndvba3AetaPRsxU44ip5MzDLwJroBuVk/vpPFRq52aeSLQOJir5Htb3n/84/5GM+JDsvm0qu\n",
              "G0GFTFU7L4iNnTH+8gPf74RUo8aGPUTFH5DPDR5X7ALmFSFd9myk/y0NOfIj5SGc5czQgGmXQZY8\n",
              "ZkCV6lgNaTWqq9fkKl5tP2jzPhIZ8gos5GBeTJOvMV8T7WfoUhbGAUNng40x9QFi22BNSxZp2IKH\n",
              "4UCt7Q15QTlEkP/vWMLwfIBRTksS67JW9tZ/bEcyvzPmXxh23NKXN08PaHsJpivC5xzLEmayfYj5\n",
              "FtYEsa36zCwax7v2eHjObXwyUa9HR1UEJ1JATxaX64ONb2DhrrqV9t6JoWcEsE1ywvA0sFmWA+oC\n",
              "7Viw/mZrvkgC4AUsBK8r4/TkgU2RSVfQEKDyQg/zbi/Xue8l/21AuTjHU7kP8i9sZhKByXCxbvFM\n",
              "hvIH0xjrOUbNJhGMg7ZXrq0cJIOe5rDY0myEY9MS1YXzIGr41CHYxSxhtLlCJ39IeDocfk4vGJo4\n",
              "dDE+MQBGNuMcozmeSHcryXuLctpSQYjyawPJfrmHUQ3+p/SYE6z9PSdU/05QA6PD5JvHDMoRK9n0\n",
              "6AnbNfRwSpaWOB2zCyShSfzOk3El7a5BN0gEKTs2oyd1dse23NxWl/00uWE2NjQYoatBgJBtAVJI\n",
              "3auMfNleWUvIUAbXQgS9NqevUXMRr3bC8xzVFXUsrGE8tAlQYAzRGlgds1lIt0uFhMG3TkXTaFG0\n",
              "miv4Yeou184LM7yqBw89771MOJzVEYDjhpJZmnRp+j7B1prjmaGYJar+y+Xf1IOMOWtLMvX3n3OB\n",
              "kf0f/CgZZxRNYFMfjwD7BjTkO2oE/+hInccDXzL7/kPp8ddlWErTvcEtnT8IC3k9JJ3PrPr0vEJW\n",
              "qzgSfubEV25HcAyIx0d+AW8VGzkKPj4UqHgMr+V9W5Favr4r8N/PaighNVJk4KOVjdLf1rpWOxuq\n",
              "uP1JjCqXuRExEYftMXUaqZt35OY1AAAAY0GeWEUVLBD/ACaN27T8na4AM35xdSbSn+oupp/26fz9\n",
              "TFk0Q4fBLRcq4YyRi2qPgSf18H6bRHQ+vaV6tERaU89nRiaPn9N8nLO6/CkYmzhIvRPW2Up0yoAR\n",
              "CJmEWle8boYg8wAAADoBnnd0Q/8AVYb77WSIi7B1+9+CL5diO//PN+ndnjFfty+VzPlUUM+kMxra\n",
              "nmZlYLJiiFUhQUroQnFgAAAAKAGeeWpD/wBVkw6NaRLAJqDQ9fxm6X/a463h2GMqbMLdHMUFsCAW\n",
              "LKEAAAM4QZp+SahBbJlMCCn//taMsAOOiSakQRuoBBy4e1JKteNM/heQrmlGCURNlTTvgn5eRpS9\n",
              "URFTLUGGef8wcAm4Iv9OqBREipHYDojUlnfssCxTQdwRvzc6gZ1/HJwc+gYvkcvobdd6sG+n0O7i\n",
              "+WIfpteKhI+phLhjg5pnlGQJYeZLxvw74BqB7/5ENxh0EBdWEmSaxdsIOKWa5LZ5Qm/0PgKt/5Eo\n",
              "rxerOEIiW7oE77pn+gbB/95UzXAQI6jF52W7WAm9dPTWHDUHvGZK7Rhwv78ieRqdNQin33cWPrc0\n",
              "J4T5IakTPlxNt9U0dBrZimV2CDvbNImlmO6VES0fHAW5XVooLhWRUepzQ23loZYl+MbfjCGSdXq1\n",
              "iR/ytCdQInpcysknF/CRZB4S8LkIY5GeqqpSiJv2xj3mzjxwDq/X2s5NnqIyIMCwNyVSA3gHmMk9\n",
              "AsrgNmqky/qq/rPrse6qbt9tbZmi3cHjGPvHzg/K/AXQgfnunc4m1zsehzifQt1wSCx7Poa5MGIE\n",
              "kHpZGhvR4pv9KEOEOMLDTh/9GrWrkEX5BD9Evfe4KGUpEEsqzTSwBcfKBuuadWvnYwvzxWl8mfRD\n",
              "Z61whbw9mq88YT/oE+MZkEwoL/mrLWHu1lok1hrkI0MzB5X1rjfl7W6DlSQOu2cUQ3ZLPfa4e4ce\n",
              "PVdYyErb3dteQNxPOvcCace1S/1ujb8ML4cKuWnAQvuWKAB0H5ed71hzJl7fivZelLk7VG30oHOH\n",
              "1YhzemZK5regCXxeflgoGq37+mZrIsgAWYLoVqQre9bDPPP8QtX9TK5WGB2f/4vOs4cXzmKEE6Sq\n",
              "E7EWrfyJFV66aXQOifP4YxvSsABnC70gwIJkjI3P9e0rLIWBG1EnEehTAWKYVUj0PSWGtNzhfUn7\n",
              "qumOUkBsL2eLHVsln4Dz9zEcOHWcKc5Q+zJxv+prqTalVDE/1dPlQvGF2eZ/vlcxxDtgjZrYUb8L\n",
              "YF38ClPDX8QgDqXsrOFzOf1Vc7nKEUrX0ULmrVqc4b4QtHZXa6nmvMgdyjKW8vCj3HputRovmNeI\n",
              "QpKgkQuOvU5I6K61VKx2n/AW9u9sHBAsrXFepeq818AAAABTQZ6cRRUsEP8AJo3btPwxjU8gAOcb\n",
              "db5dPKLQV3KgQ6pZMz8xpgTBH6Sd2WzTFphAh0lr31cNOouMU0LnCF0nO/IzBFuSSt+X2GuRAn8z\n",
              "1Gt0BG0AAABEAZ67dEP/AFWG++1pEsAcvd5eGqBvAPrWRXvslCOwewd53J+Y7AeHvOMOjnz3h5d/\n",
              "YtVgcNY10PMHi/tAws9hwGMvRZUAAABFAZ69akP/AFWTDo1pEsAVtD9uLzCi4f/rafyAP+wt2Ept\n",
              "B9Fz6k34pKM20wEwwNsUUn9kdZ5cdnxTQpBJMJ7RO9dhC3tSAAAC40GaokmoQWyZTAgp//7WjLAD\n",
              "jodRDuN1AEQYAVWOyElrB6Ft8EHitTf1EpzWZeCnX9xyA6QKA1Gzc62QRZMH1Udy49XkscI5owxh\n",
              "cCLHUx9rH6Pwwo1qE+uYSoV+bpKTpzicUFeTGUqqp0gxnFf4reqI8xjTX6nVTWGygH3mcDYPO51r\n",
              "cqfQd49WV/d0G+bbWqanEmIoZWj35sYa4C4baKS9Tx14zPwU4mxUznefA7PZ3k5jqIlQ6KY5QxZM\n",
              "xG5vwCxB1RjLeyPq3PkD9xbidnO6CUM/0M/9WNj4pXGbi5Vr6HaTWPJuyhzvEE8kr7fmPVbThOd7\n",
              "3TXFzh4CS/Zhi/SbYN3ticTG0Ncr+dUTFtQgoESR2jHJ0mrWh8sAwg/xcAZtqtJO7720ES3TUvlf\n",
              "GaE3oQfZHsj5LVjuDvlR2aCKkNCflMxOJINVoB0tBfJ1Z5Zc/NbsFEH0f/wOuMVDxyKXVCYT9XJc\n",
              "sCaWJIMP79sw7n9EcxnYuEsYB699nKdlvQWjGwVrTuJfgbsUqfaUJ9lcy9xIreAzeTJjhJpRYNXr\n",
              "eesS2mxc0+I/VGaYVPCR16Bu72w5M5L209sztajNuuXST4XEoPfiORTimED0JGRfr2FD669eoxzs\n",
              "38pirQA/AgpMagVhkvEPbVd80RrO+Q/OltcWUH+Vfp0T3i1MJhuu6NVXYxf+fK+eGVNxtM+0+viw\n",
              "yY7hGL1gRVqJBVka46MtZqTYdyfk1VRJGrE5irnybZpIYseVzDuFpXUEcf53Und9Jbya99h8t2hL\n",
              "c887uLxn37+FeiAZHqPLgmxNKH25ly0T8ekvz66hYXmFgvkPNXsdWGjfJajAXesHRMuw1mH+Nx8X\n",
              "x4Oi+47pxShzkyeTMVTzNqtBbgOFV3Yvf4FC7/+pAhpNhCBUARTN3zTpYuw1VIzjoTEXgEPx8bNO\n",
              "2tbHQ5yXQcpaU2r3KBUCFY45KacIoJHkWGYYgMG5JXn5TrUex4IAAABwQZ7ARRUsEP8AJo3btPw+\n",
              "HrqxAFcAAvWtTcSvTLeAHJ0zb1tgVouTWIGDj5XFyUGlSnVzkGoU6ZwJtAVFWYoLVmfB3WJwT8Mt\n",
              "enfOwt5Dw/ZxdWEQGbWubAtDxry4HONQAdHdRvOr2Pf6iU4LQGuN6QAAAFoBnv90Q/8AVYb76SGS\n",
              "0VzT5xnrcgWCbwADWL8D9ZXfuTwxPYTrphozaqli81v7+2sRK+kmhVelg960U+zWPwPPjoAVGPrx\n",
              "cLj/8qrpDHrN9rhA0NSJnSVIJxcAAAA0AZ7hakP/AFWTDokg+Fh/7aMDDJDuFEzTOAq+PcuQbVG+\n",
              "Q/KjKsNB1z0w5xgAXn4XBCl8+QAAAy1BmuZJqEFsmUwIKf/+1oywA5GuVqxABEsIzul+66vKR+j9\n",
              "vXhWRkXhv50CKkNS5iuvlACLBm2syYDQp9EmMBii9CmmIPLqCMlR/9C0W1pGcWJg8TalvE3j/6/d\n",
              "z/sd9miQmLlXqJJE6IJzNzgHxlavduPwxbAg60B1wV/vtJqOow+wTGhZLkMsdMuCYIh3Az+e9CB9\n",
              "7/qjgaQ9lPpidDpQYE0Se1RN1IMkEtgPPqF3Yoo1gKHte9kLmfSTcDnHEda4qyPHD2IyPFWi5s6q\n",
              "AQjTi55OtYpugleTHjsPEGVZRR4opTznAbkyCH7loqhnyIXaubUAaAPYSa+gGOr42MeFOkDtauIp\n",
              "cIqhvFMZ8AUr6CS3/Zyb6W61vLZqysQ7PIayrFyOkwJ9QRHeh6oK1CqyJ2W106zVZWPPGrH8KNZo\n",
              "5OxFc0BtAOBcCjElRT3SDn8xpvUMjiWoN6OGE5urMSyRN+1yUnXP7rgqPcZzjLe/S1Qcqd21WcYf\n",
              "Qb4ilnWE38BmynDO+69+E1vuMsFQpWT0IdJT2otOME2GFVwSkQPWrrnK38anogtoNJCPbcy9O2fD\n",
              "5HOPVLr/e8v4mqjlkZFXOJeQcTrRrnrVrEzJgYJkTi1qurHMq0T5r+fWUMO10yC+X9KtXBYY/Qw1\n",
              "3SPK6hu0YrZKXVtuxCspYAead3Ec/4Rn0u3OAT67vd5h/namPvDleWgO1x4Isgd2K2tVa/LgJhD/\n",
              "u88XyepRW7tvfjtzC7PgCF2eTsTw3rptA1cHuWqNJfHReq11i8rY6OICZnTc/nHi58caWfIbIrgE\n",
              "1AGncR8JwuAEnctmR/HuRJjohxO59aFcOf3CzkKB3KnelJtOUcy4fj8ozS3VXgVPidGPA4xi4lvo\n",
              "KYtY+nxWsl3zkMsiaJ4mYSwxwGgCHyZqfp3tJS3DrvmplCz3poTw9M9Xc8WztSZx281fh3xuNUxY\n",
              "xQ92myLnvaWaqmf4ljvDLLV2WN43cmJTCLO1B+JWdGe+1Fywjxl1IdrJ7zMq3oSnIAVj4E/lcaw4\n",
              "EmUSy5/w0/UTHPByO3bc0o+BL+jMjOx2g5E/x6iXAE/1J5vcQ2YAAACPQZ8ERRUsEP8AJo3btPpZ\n",
              "W3rKwwBEm5haJEpB//0+ya+77EPRemCrKPGeXbFrsBHKu+31RxM/C1fTMCPV/kpQNNVhgmbaR3B0\n",
              "VNuOCFZy5hkvxIMj6N/bj/IFhSdLt8P8+PIbetlqIN6Ag0iU0P/xhrAsRIDSoTt4QPkuS9z3B21t\n",
              "Zy/fouGiwbbgdLbhgx8AAAA7AZ8jdEP/AFWG++1bhR8iNZKu/D+iGbAJasnaV/j/sI3c5UcB+XHt\n",
              "rC4ErxT86Q4a6MoeZcjDFzyk2YEAAABCAZ8lakP/AFWTDo1EeLqRXAAN5XC19p3Id1a0Fn1/3MLi\n",
              "6YhyT5B4Fz0Rp2jhxdilkuuGmswtICSDBWPhRckFooEXAAADAUGbKkmoQWyZTAgp//7WjLADkRLh\n",
              "jDABA4C3zhh2flSHALYCvT94k57XqyrbHOfoozk3fWSWRIBsmuhZm3SFzasS9a5TUELFXEuprn93\n",
              "Z3mEmx3REaMxirfBHQfR2i6LOBE+1bLX+tzktXNl5+Xm0eRxclvTMDwro2Jn1v2dSKpYI8RemHe7\n",
              "x3arDrYcApsNo0MHGY31wKL/M+itU9mZaxDvIH55Fm89rVOr3PFh4CgQkgcn9GWncRvyO3+TxL76\n",
              "SaF9sR+LF8N7ucLQ62RV6vWMbvpnNaGURZswHbcTzIRm25X5ZwWrp2bsPilWX+mSjs61uHgcPPbL\n",
              "IhT+9/RQPqgtyG+WQOQMBXdVSF/b7BDofVm9MoyJ5o6MHds0d+vjraoiKB9RdiZOmDiIBDCF/4+N\n",
              "MrkoRUkAP7mG0Zn5nAFmJvkJyjjHLeto7sR6bhY30a4gQCq7yY0vjHQF/K1xVGUTKSy69mhKs4uU\n",
              "rJmlB0O3wXuUrjGftF79nGxSxLk0OnzvL2Jbv6yYb0R9ULHkA5DTAqsqSbMVxidoIrh0emfndHL5\n",
              "+ihNTZ40UNAUe6McZ2y9WBJ6qBCaDxacFk3ObWgdu6Rxt5Bn2TcRlVjJ1IDzPlLcB1d6pZ4ReS83\n",
              "lAS8j1/J0CJtQvZMVwVFEFsYX+5GRVxwxXPAvZM+Kzi9ahCF3cKm5/k4xIfKOFfJ+dLvbvG1Qsd7\n",
              "uRpyydlPbAB+tvzwh/3kNl+YZ33uTC7PNwnNOIIqaUlhNVUaa1YvUnnLBISrXY9+CFQ+gMDcFinc\n",
              "SmkigxyaIXyY6/DW/RcX1PrP79Q+fR0SPfYeN2xf5EYiUBShnUi9FBJggfUb0UWH2lct0e3i14hH\n",
              "8tPQe9939tj6Qqsz8aut7+zMgUX/r+YyKI0NdS1N3UMhjcKrG1D9L3MhTEuBrONTL1mayOzjmFV7\n",
              "GNKgWjONVKgDs7AplnX1Ih6b48Pls0WQnOKzI6utPFxGltYq4z4JSZjBvi9Ydnlivx0lt0Z5GAT9\n",
              "4BXRl6yS8m8AAABeQZ9IRRUsEP8AJo3btPpZ39oXxADZXCo8Tqo07K1hgFsJqQrwKqgfin40bP+9\n",
              "ob+Lf7cHmvDFjOxssXsYoK39KMrqMw3py/NXRNy09nVprx2g6YMCGl0gg1jH9RuqqgAAAFUBn2d0\n",
              "Q/8AVYb77UYVWCbXEaHB6qqp56zpXIhASyBVTnQ1X+FLY3+b/WYHg+B+Qh8HXX+suq4E9DQLxyyK\n",
              "EsWtI9aAErT+9POXtMnAyKIDMrD4pT4uAAAANAGfaWpD/wBVkw6H+7VE0fF6yslqUv1DWLd32Juy\n",
              "cNY2IPhn0LLNIVQin2swibAE3ipBPSEAAALMQZtuSahBbJlMCCn//taMsAORrkC8QANK9FEl4tMy\n",
              "+wN7PQV5Ih85VY7a3oP8MJjYzSXCH8er/o6YMmAsMf7yWtD+WOLkix9KOrhLy3OMQqyczl1SdHpW\n",
              "APIOqRoNUuKlLYCf35FyKsCeZcbzX4J6jzcredIBZBzcUqqBoYORBvhbmvsHCXE7wjud9I4PF6eu\n",
              "svRj5w+VSPnNBzbQUOfwiL5NsANr1e0beY9HAyWRvLXuASiqBRQFjQZp4uhWGUvfW6ipxa51Txal\n",
              "eg1jskfRTOGn4okXXI5jFjfGb3kfDcAPYJ+FrxFIlb6iHFHXBzF3xjfrE/W0ObOHNYgDNUOONnNt\n",
              "1ZBm7alBmHHf3KPdPOtmBEKsSbquNQkThuATWhZobuhruaz/0+HCuJvsXgIaOn6soDMOXMAkMHN8\n",
              "AdzXhucAC1od9tMsCNCyBM/NOkhRxAF/icLAUgFAAVGKLpoyfH4q/u0XNTw0hkqByhNEv1F1NdTl\n",
              "U0+AGMg6MaX8mcSL1Wc/y93SGHh/b+GyoYXljkgaW5p5IeilPKgy6uIYtXWsciUzZQDItUw17u1p\n",
              "AY1NB3Eu4YxNnGAc9iadZs0D4oDvTLpqLoevVivla8tvgapQHlcVDU/x6v3j7VEkw/UlQ+ORh1Ab\n",
              "5CBH23az3x3ci6KucIM5oMrsxw8gj8nDBLh7T7B1BIFr/Yxfi3AXFsm+rJ/RbwF5C6lHwSlZgQ0A\n",
              "gHbH1td5Dw12ZYpllPcxdeV5j/0GqnK+G5fq/amDGexGsv1A/37pdtqlRqssIN13aqJ0VioQtEw8\n",
              "QVvQNe5PUPQZCsX5MHwAHiH442nrg9a+0WaY3iiIJ/mTqLDPqrs2k3TTomULOelL/x5mf/LosWiO\n",
              "JvS7UW2Uu9Kl22s+gWZMuHuYjs/sP61JXZid/pZbxi2rkp59V2GEOz+U5lSSGeeL4BNt7SYWoIpz\n",
              "5ScAAABRQZ+MRRUsEP8AJo3btPpZ39UGviZ+YfDw+CxKg2d3ieAAIV6VYfP1DBwcVNtKhpv1pWHp\n",
              "dtmh/f5713rauqoadxEYOjHsqqlSR7nndqoIZLqCAAAAPAGfq3RD/wBVhvvpIQKGKn5QS7JAI8dW\n",
              "XSDmAxkWxJRsZ89Cr2Jmn7XMS2kNqbsu9vCBt360uuhmHa9gcQAAAEkBn61qQ/8AVZMOiSHqhkix\n",
              "yHMd6EXevILHkOsAK+FjwqzJz4NyOhegahShdylWY1VGoDFaX5glURLwjgCjn0RbvHcIkU2OaTeh\n",
              "AAACqUGbskmoQWyZTAgn//61KoAgvDXQBfnHZ4JaQ86kum7mAyxgITf6QG0EuPw7XiuSywC9FwuE\n",
              "MCPShmRPwaPVw4DBP0IyIG0pleB7fFfGEv3EhQyRsrUR1GvnuYyNSh4ywAkCAQd8/fN9E/Y8HpHG\n",
              "5/j5rL8h3Nl83tET6unuL60P7+hZRzl7ZyWO+TgJ6Sx+jmmQy6rXG+u13bNo1StyctPNmMGgrhGo\n",
              "zh23NVKIJ4sI1+6a1kLFtoGJYZ7TdcnsFPACd0MRla6SltXCQDDFmixpPvu7r3UTqkZ9BJ9BW4Ra\n",
              "0NQKNZtomwNX1ExWFLYUqU41aSmZ1msvH6TlWP8hM93nPpOMfAuUEZ3nwwTTNvguFHW32lUzYLit\n",
              "sUSQUxuVdgnd9hWeksRqHXtjefYEBYQp0QasTAA+VxDrLPructBXvpwGoxeWi5Jbo+7BB6VOaAFE\n",
              "NKqSEVozsR78i9PEXhjidoRfLzhLchwxdjetI21ayeLdoiFvVaxZrq+IklntRNhQEgZ4EV8oagZi\n",
              "g5hpRmOZbEa+ZfXG3ot12ZdTPDO7zkcWyyXDgI0NG+r3dDxUp8ouyFgtIKH8IYQKD5me70gj30QZ\n",
              "eZf5H+xrqp8TGY5n3z2CglIY8QbUpWTD3zLOafpUM7yODm7Z0ZT6K/a/Wwv3Q0hpt4+YixJryyud\n",
              "VQdarhrXL3EgcjZbeRuGJJBHzieO98FjQa966KXENntHOhrREfFsTigDzeLBBsOZTam/wzRW8mSO\n",
              "HXl17Ygm1bMxN6lNtx+UJgMf+cjvH2VEpeYZhf7Qd55Y7tjBcysqrSFr05FiEmDv3YYrgJbI1b5W\n",
              "GXsjw6wZ1SxwnMetHoCGMy0E2cVnOe4AejIfMwVE3gb0HIbe1BdmnVL0sJaLaTE0miEINKQoEYKl\n",
              "/wAAAHRBn9BFFSwQ/wAmjdu5ziGAao4x4/ap/hwzWUdMgf9yq/S/q5lINo0b4STq1dis6b6M5dAE\n",
              "MfkwYkU83VGIyaIxYvrvlXOqKTIbMyFnmvtU5qRFSOps67orr013BHpULk6BQkCc/WzIoa/r7E/0\n",
              "JUgFgajAgAAAAEIBn+90Q/8AVYb8JkkPfKbF5SZb8IX7QJww8KMXr7BE0UTf/QJ3eXwp+3ucyo0H\n",
              "Qir3dnuSvZ4r65VWBqryRzGMyygAAACBAZ/xakP/AFWTDsWGrSqAF+YmQW5ARX8f73tUGLO1Q/Tc\n",
              "7fRbfP8tZlTPKljlbtCwNWXozhLYJLBjkhvmu9rltUVwn4tc99QQBFfqgMXPPVIENlbKe7xKVfIg\n",
              "SPgRYQ3eEQL/jQqoQ7Hgp6oeDR7H9eVl9ZTK6G3XLF/yiy2ZHxZhAAACUkGb9kmoQWyZTAgn//61\n",
              "KoAhEnPSVAF+QRCo2hQOLmIDB8t3E3nzhoC+jkFkHSA/gws5ORRb4s1mTVGi2eveP/z9o+JQYyPg\n",
              "+6koSRS3wlb880a+7v4lrmnC/hmgcicNYy0ogJXf7YRj2nMcCLOyWcB6Tco3Abq8RuVShILr6YkP\n",
              "u0sGlmPbztSPpd0bfl/npqcsjRFjsQ6JOf0xnEW7Umm/gUdowb0XsnOKddBaYzahlx9EM2YDxOGX\n",
              "nwVVe5hLX8dYNVzL1FCRy8xBkPVrP/ecwbP1Tueq7hLvfbJY3mXWckFhsaUkw8JL5wcpGNJed9IC\n",
              "VSveKDCs/1XKWJUxTuin0ulmcirNu5IHhKKvNLet5l1iPBIf/nod+VIaceICPgBHShakTOlJL2us\n",
              "wmKXrS7NWXFgpQIu5BISKVRXzh81B4VFpDWZluN4JHNzAlzuVSY50BltxsOIJYQSx0t1fj45JsVC\n",
              "RnDgBllx/+QlUyco565yVaS/buky4RafiPU9n23yNe/4WxuKl2W6FxF15kFdONWLubVW0j1X6uW2\n",
              "fG8WIZ5EpNctMbwl+an87P0bVKp8tCfENwn9gF7zsyzbduPcWAf68zTFBqbINMQd2qaTtMnV6mmi\n",
              "LrMheBoDRrzMD3/FhS1wJvyTDimLV/T/MA82iC98PJTlrvLN/cnSE49qsSMaiRUPUF2zfLyYh3HX\n",
              "Afvku4JCUB5nRznqh9qekYcBGT7TzIpolCEdi0fn7dMkeYxWgPAyhtATvcFxhc7aOdfNhszyYrBQ\n",
              "71v+7NHrzxA3oAAAAGBBnhRFFSwQ/wAmjdu5uAkciDYuAA2fEm5aGaynC3qp7LfkBXPZ7czh4hSr\n",
              "UlKDs5PPBJaTyBGaPRBjUFDywmftwa/vokUqTA4lRIRYIKbj0CaicAngE2H/DlIOGG4HKfAAAAAq\n",
              "AZ4zdEP/AFWG/CXV2EU221iRwY+DBUh9boqYfe+buZOKq6wK6hYo5vM/AAAAMgGeNWpD/wBVkw6K\n",
              "/Rp+s93QXKnryzolrfzzdgE/AALTwF9SzmrwZ3k6wx8iN47PJQ0IAAAB8kGaOkmoQWyZTAgn//61\n",
              "KoAhEnPKCABCiWD57VRG9kmVwFZJOwTkHwSv7vDbcewi+pe4+wSDwasTlFmXbxPwxR+nso4yu9md\n",
              "6eSfyZSkzZsi4VNewM4P/9TtqT2tK/AKxNnXSzketePTDGPxs9V2crtEjqDlb2yJtN3gV/J9obEt\n",
              "sxBtkL0W9i8CjE/DYIdbFaO0Vrx8ViK9RvSweWkKJv85qZqEcFXprJhfXSK9gwJUG4GMNRnM9srj\n",
              "R34VkXpcemANGijNpx/1Yb8afLrFs+Mci25iJlL/uWhcGMhI/Mkv+koY1dm45r82u8hRba2HGJsA\n",
              "oTkd/BZAVMYDBATC8JNvrsg0HEY0qVJyVmS4V5DPXjjVeyo1FXw9L90VavYvQvnfWwMUnKmnntOg\n",
              "0PpggjR5N/V5FXE11eMBoJFgW3Br4eTy8L1pnCPGexCT/TDlNVYs/zYPQkzApuuZFDSMTPr0xIPj\n",
              "+IeF0GgenzJEprd2/6wHmQXIpg8Ys+e6hnSPe2CMPm/7zCYivLrlioGdBwksWmi1iJ/NC64vmvm0\n",
              "aXaYETtKYTh4dNk9hzSvPTQEnoee+Xm/mTeDlToUJjuqukoEo9kAg/g+Jqjp2vA3+ZbMpm1b82+j\n",
              "4634HVYUgGJRM2ybyO3jZvEAQczHVe95vLwOmQAAADxBnlhFFSwQ/wAmjdu5dtI2chs5A5WPHvad\n",
              "YIrmdbxvcg1WPn38+7Hdkp4hO/eN5UgLsXb/uAARjRtZ7iEAAAApAZ53dEP/AFWG++r9dMalgNqP\n",
              "T/X2ns9zoZipAMYC/GVzx5yamSSkP8AAAAAvAZ55akP/AFWTDor8TZ0EaMVjFuhh5bDzzKEjtHs/\n",
              "5t/wsu5cIzsXO78cEph/TFkAAAGhQZp9SahBbJlMCCf//rUqgCESdNYyAIKIwfTOFvl1yxmQ2vHS\n",
              "N6VthaKjswJV+Kx7fT4ByOhaV9VRqXz/q61Qgq/U/LEbtCh9v2n3+SKjgDyjEjqvMfui4eq47Q++\n",
              "Zmtm2JJDMQRP/mVNYF6PaCtsrtUhL6W6+AXL2VH+UJgjErNP8AaJYxK/59ywx9O8eWXW2cvMhZlI\n",
              "BQHTezsESLIQipNjp0dZLJWwl0b2mBPHkKsv4/6aR/IDuw/FSKnktCtt2R/SiCUs9aGxdDaFjYCd\n",
              "veqnXPe40idY8AH9V8SaPfebJ9azHrvMS9eUNakuwZ6J/y/QtBnLkI0Q1cRR6pz7TtkwWIyhf0FM\n",
              "e26mLH0EwULovjwJ2yT1uu0/wuws6iZDfvL0G8GwgvQGY1cNdJWmiOMASM6g6RfW2LafYM3Bf4Xh\n",
              "a97USCE3stwuyhznuDtGq+ENfUWsqAB7ojLQUJcbnvflxlgEfKI1CuWVdnPxYdSCczflDi5gHMNM\n",
              "MszVZuO4OHTagd7rqm99PJ+WDrbNhe8f9IocpEG0wbvq6pOz4AakAAAAKEGem0UVLBD/ACaN27m4\n",
              "CRyGzjyvcdW8wd5eRBQVk4XOad0/m035HHEAAAAuAZ68akP/AFWTDor8TZ0BFz5grXfkpi8rzshi\n",
              "qnbVMhTY84YQmfbXJlYvBQTPgQAAAVNBmqFJqEFsmUwII//+tSqAILbWuwuAG2RNiYBJsGSzsBDd\n",
              "J+GoMZ/n5NyVWHOCYgYR9pp4NAIOXsUVvOGl/0I+7Q5xbT6gVVuwDBI7wQfON+TUA+tjkS/urbYg\n",
              "mRPffUbeZyKRsb4iibUvg6Qfj5GJ/dMayeostp3I7eZhrsHhilSkRt8/O2l2Gvl1mRClKlP1Ckhr\n",
              "T8zPhqPh6ryZro1gDNGI3eNuKkHHuncVc5d50gELqFU1N/rI5U7UNMIY0P70UL9CdlJbUopXB/kZ\n",
              "XBhWo8ro35CnktiROivToqT5zTavOUGY/qK8Cwy2uT9MnjnjaBM1IFD1hsBenpuvxB2EHb+m3PiA\n",
              "z71H9V/KuWYvLM9FpHhekG2T9XBz+Hc1+AS2Sv/ll4kYbHrpojEMufLuIEWzPmYZwzv4di5RKSjZ\n",
              "UF0lDo5dKEgDctO+xcWMo7tlmzAAAABtQZ7fRRUsEP8AJo3bubU43bEAC1792tnHMDKo6DQ5As1o\n",
              "2G/tNzvtqrxOFEJhbwNE8pFFPpzy1MiWkf942hiju6cIrAQL/PiEahUlbtKNu8VI0bEl47aEdLbl\n",
              "bQzZePg3RvNQVM1hTB+1lVxAwAAAADMBnv50Q/8AVYb77WIENa4svip9Q0BzLKnENGxigOi+AK6+\n",
              "ozFy4rw6HJr3h6cWLtG5D/EAAAAuAZ7gakP/AFWTDor9GjkIP7d4wsQCesGYsTrEpYwuGRNiwqZm\n",
              "fp7LvZP686fBxwAAAIBBmuNJqEFsmUwUTD///qmWAPnBnyPgBI17F1tXy/iMe5NfzQARd/zhsA07\n",
              "Rv43ev6tqtbUuCeGwC5Mv5DmkFnA/eer6gtH+vCkkqVE+2SCh7Eni837xdAc+JoR4tiIn+Y/EmRv\n",
              "mxjAHQpgcAAMiwPMLu3wdG7P2pNNZqDUeTRBtQAAACwBnwJqQ/8AVZepRCbFoWLQGZBz8Jcpiw7f\n",
              "gzvD/Y6Hm8QSEXa82JsTMFFswAAAB45tb292AAAAbG12aGQAAAAAAAAAAAAAAAAAAAPoAABOIAAB\n",
              "AAABAAAAAAAAAAAAAAAAAQAAAAAAAAAAAAAAAAAAAAEAAAAAAAAAAAAAAAAAAEAAAAAAAAAAAAAA\n",
              "AAAAAAAAAAAAAAAAAAAAAAAAAAACAAAGuHRyYWsAAABcdGtoZAAAAAMAAAAAAAAAAAAAAAEAAAAA\n",
              "AABOIAAAAAAAAAAAAAAAAAAAAAAAAQAAAAAAAAAAAAAAAAAAAAEAAAAAAAAAAAAAAAAAAEAAAAAB\n",
              "sAAAASAAAAAAACRlZHRzAAAAHGVsc3QAAAAAAAAAAQAATiAAABAAAAEAAAAABjBtZGlhAAAAIG1k\n",
              "aGQAAAAAAAAAAAAAAAAAACgAAAMgAFXEAAAAAAAtaGRscgAAAAAAAAAAdmlkZQAAAAAAAAAAAAAA\n",
              "AFZpZGVvSGFuZGxlcgAAAAXbbWluZgAAABR2bWhkAAAAAQAAAAAAAAAAAAAAJGRpbmYAAAAcZHJl\n",
              "ZgAAAAAAAAABAAAADHVybCAAAAABAAAFm3N0YmwAAACzc3RzZAAAAAAAAAABAAAAo2F2YzEAAAAA\n",
              "AAAAAQAAAAAAAAAAAAAAAAAAAAABsAEgAEgAAABIAAAAAAAAAAEAAAAAAAAAAAAAAAAAAAAAAAAA\n",
              "AAAAAAAAAAAAAAAAAAAY//8AAAAxYXZjQwFkABX/4QAYZ2QAFazZQbCWhAAAAwAEAAADACg8WLZY\n",
              "AQAGaOvjyyLAAAAAHHV1aWRraEDyXyRPxbo5pRvPAyPzAAAAAAAAABhzdHRzAAAAAAAAAAEAAABk\n",
              "AAAIAAAAABRzdHNzAAAAAAAAAAEAAAABAAAC4GN0dHMAAAAAAAAAWgAAAAQAABAAAAAAAQAAKAAA\n",
              "AAABAAAQAAAAAAEAAAAAAAAAAQAACAAAAAABAAAYAAAAAAEAAAgAAAAAAQAAGAAAAAABAAAIAAAA\n",
              "AAEAACAAAAAAAgAACAAAAAABAAAgAAAAAAIAAAgAAAAAAQAAIAAAAAACAAAIAAAAAAEAACAAAAAA\n",
              "AgAACAAAAAABAAAQAAAAAAEAACgAAAAAAQAAEAAAAAABAAAAAAAAAAEAAAgAAAAAAQAAKAAAAAAB\n",
              "AAAQAAAAAAEAAAAAAAAAAQAACAAAAAABAAAgAAAAAAIAAAgAAAAAAQAAIAAAAAACAAAIAAAAAAEA\n",
              "ACgAAAAAAQAAEAAAAAABAAAAAAAAAAEAAAgAAAAAAQAAKAAAAAABAAAQAAAAAAEAAAAAAAAAAQAA\n",
              "CAAAAAABAAAoAAAAAAEAABAAAAAAAQAAAAAAAAABAAAIAAAAAAEAACgAAAAAAQAAEAAAAAABAAAA\n",
              "AAAAAAEAAAgAAAAAAQAAKAAAAAABAAAQAAAAAAEAAAAAAAAAAQAACAAAAAABAAAoAAAAAAEAABAA\n",
              "AAAAAQAAAAAAAAABAAAIAAAAAAEAACgAAAAAAQAAEAAAAAABAAAAAAAAAAEAAAgAAAAAAQAAKAAA\n",
              "AAABAAAQAAAAAAEAAAAAAAAAAQAACAAAAAABAAAoAAAAAAEAABAAAAAAAQAAAAAAAAABAAAIAAAA\n",
              "AAEAACgAAAAAAQAAEAAAAAABAAAAAAAAAAEAAAgAAAAAAQAAKAAAAAABAAAQAAAAAAEAAAAAAAAA\n",
              "AQAACAAAAAABAAAoAAAAAAEAABAAAAAAAQAAAAAAAAABAAAIAAAAAAEAACgAAAAAAQAAEAAAAAAB\n",
              "AAAAAAAAAAEAAAgAAAAAAQAAIAAAAAACAAAIAAAAAAEAACgAAAAAAQAAEAAAAAABAAAAAAAAAAEA\n",
              "AAgAAAAAAQAAGAAAAAABAAAIAAAAABxzdHNjAAAAAAAAAAEAAAABAAAAZAAAAAEAAAGkc3RzegAA\n",
              "AAAAAAAAAAAAZAAAFosAAAO7AAADeAAAA04AAAWFAAABIgAAAI0AAACQAAAC5AAAAF4AAAK6AAAA\n",
              "iwAAAzsAAAB2AAAAVQAAA1YAAABjAAAAKgAAA0AAAAB4AAAARwAAA6kAAABhAAAAQAAAAn0AAAMn\n",
              "AAAApQAAAFgAAABnAAADHwAAAIYAAAB2AAAANwAAAxAAAABjAAAAPwAAAuIAAAB3AAAATgAAA+gA\n",
              "AAB3AAAANAAAADUAAALuAAAAYwAAAFUAAAAhAAADigAAAFEAAABOAAAAVgAAA+0AAABxAAAATQAA\n",
              "ACwAAANRAAAAZwAAAD4AAAAsAAADPAAAAFcAAABIAAAASQAAAucAAAB0AAAAXgAAADgAAAMxAAAA\n",
              "kwAAAD8AAABGAAADBQAAAGIAAABZAAAAOAAAAtAAAABVAAAAQAAAAE0AAAKtAAAAeAAAAEYAAACF\n",
              "AAACVgAAAGQAAAAuAAAANgAAAfYAAABAAAAALQAAADMAAAGlAAAALAAAADIAAAFXAAAAcQAAADcA\n",
              "AAAyAAAAhAAAADAAAAAUc3RjbwAAAAAAAAABAAAALAAAAGJ1ZHRhAAAAWm1ldGEAAAAAAAAAIWhk\n",
              "bHIAAAAAAAAAAG1kaXJhcHBsAAAAAAAAAAAAAAAALWlsc3QAAAAlqXRvbwAAAB1kYXRhAAAAAQAA\n",
              "AABMYXZmNTcuODMuMTAw\n",
              "\">\n",
              "  Your browser does not support the video tag.\n",
              "</video>"
            ],
            "text/plain": [
              "<IPython.core.display.HTML object>"
            ]
          },
          "metadata": {
            "tags": []
          },
          "execution_count": 55
        }
      ]
    }
  ]
}